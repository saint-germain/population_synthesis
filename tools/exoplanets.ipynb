{
 "cells": [
  {
   "cell_type": "code",
   "execution_count": 106,
   "metadata": {
    "collapsed": true
   },
   "outputs": [],
   "source": [
    "import pandas as pd\n",
    "import numpy as np\n",
    "import matplotlib.pyplot as plt\n",
    "import seaborn as sns\n",
    "import collections\n",
    "%matplotlib inline"
   ]
  },
  {
   "cell_type": "code",
   "execution_count": 75,
   "metadata": {
    "collapsed": true
   },
   "outputs": [],
   "source": [
    "pd.set_option('display.max_columns', None)"
   ]
  },
  {
   "cell_type": "code",
   "execution_count": 157,
   "metadata": {
    "collapsed": true
   },
   "outputs": [],
   "source": [
    "de=pd.read_csv(\"../prep/exoplanet.eu_catalog.csv\")"
   ]
  },
  {
   "cell_type": "code",
   "execution_count": 121,
   "metadata": {
    "collapsed": true
   },
   "outputs": [],
   "source": [
    "deb=pd.read_csv(\"../prep/exoplanet.eu_catalog.csv\")"
   ]
  },
  {
   "cell_type": "code",
   "execution_count": 158,
   "metadata": {
    "collapsed": true
   },
   "outputs": [],
   "source": [
    "demt=de[np.isfinite(de.star_metallicity)]"
   ]
  },
  {
   "cell_type": "code",
   "execution_count": 159,
   "metadata": {
    "collapsed": true
   },
   "outputs": [],
   "source": [
    "dems=de[np.isfinite(de.star_mass)]"
   ]
  },
  {
   "cell_type": "code",
   "execution_count": 91,
   "metadata": {
    "collapsed": true
   },
   "outputs": [],
   "source": [
    "de=de[np.isfinite(de.star_metallicity)]"
   ]
  },
  {
   "cell_type": "code",
   "execution_count": 95,
   "metadata": {},
   "outputs": [
    {
     "data": {
      "text/html": [
       "<div>\n",
       "<table border=\"1\" class=\"dataframe\">\n",
       "  <thead>\n",
       "    <tr style=\"text-align: right;\">\n",
       "      <th></th>\n",
       "      <th># name</th>\n",
       "      <th>planet_status</th>\n",
       "      <th>mass</th>\n",
       "      <th>mass_error_min</th>\n",
       "      <th>mass_error_max</th>\n",
       "      <th>mass_sini</th>\n",
       "      <th>mass_sini_error_min</th>\n",
       "      <th>mass_sini_error_max</th>\n",
       "      <th>radius</th>\n",
       "      <th>radius_error_min</th>\n",
       "      <th>radius_error_max</th>\n",
       "      <th>orbital_period</th>\n",
       "      <th>orbital_period_error_min</th>\n",
       "      <th>orbital_period_error_max</th>\n",
       "      <th>semi_major_axis</th>\n",
       "      <th>semi_major_axis_error_min</th>\n",
       "      <th>semi_major_axis_error_max</th>\n",
       "      <th>eccentricity</th>\n",
       "      <th>eccentricity_error_min</th>\n",
       "      <th>eccentricity_error_max</th>\n",
       "      <th>inclination</th>\n",
       "      <th>inclination_error_min</th>\n",
       "      <th>inclination_error_max</th>\n",
       "      <th>angular_distance</th>\n",
       "      <th>discovered</th>\n",
       "      <th>updated</th>\n",
       "      <th>omega</th>\n",
       "      <th>omega_error_min</th>\n",
       "      <th>omega_error_max</th>\n",
       "      <th>tperi</th>\n",
       "      <th>tperi_error_min</th>\n",
       "      <th>tperi_error_max</th>\n",
       "      <th>tconj</th>\n",
       "      <th>tconj_error_min</th>\n",
       "      <th>tconj_error_max</th>\n",
       "      <th>tzero_tr</th>\n",
       "      <th>tzero_tr_error_min</th>\n",
       "      <th>tzero_tr_error_max</th>\n",
       "      <th>tzero_tr_sec</th>\n",
       "      <th>tzero_tr_sec_error_min</th>\n",
       "      <th>tzero_tr_sec_error_max</th>\n",
       "      <th>lambda_angle</th>\n",
       "      <th>lambda_angle_error_min</th>\n",
       "      <th>lambda_angle_error_max</th>\n",
       "      <th>impact_parameter</th>\n",
       "      <th>impact_parameter_error_min</th>\n",
       "      <th>impact_parameter_error_max</th>\n",
       "      <th>tzero_vr</th>\n",
       "      <th>tzero_vr_error_min</th>\n",
       "      <th>tzero_vr_error_max</th>\n",
       "      <th>k</th>\n",
       "      <th>k_error_min</th>\n",
       "      <th>k_error_max</th>\n",
       "      <th>temp_calculated</th>\n",
       "      <th>temp_calculated_error_min</th>\n",
       "      <th>temp_calculated_error_max</th>\n",
       "      <th>temp_measured</th>\n",
       "      <th>hot_point_lon</th>\n",
       "      <th>geometric_albedo</th>\n",
       "      <th>geometric_albedo_error_min</th>\n",
       "      <th>geometric_albedo_error_max</th>\n",
       "      <th>log_g</th>\n",
       "      <th>publication</th>\n",
       "      <th>detection_type</th>\n",
       "      <th>mass_detection_type</th>\n",
       "      <th>radius_detection_type</th>\n",
       "      <th>alternate_names</th>\n",
       "      <th>molecules</th>\n",
       "      <th>star_name</th>\n",
       "      <th>ra</th>\n",
       "      <th>dec</th>\n",
       "      <th>mag_v</th>\n",
       "      <th>mag_i</th>\n",
       "      <th>mag_j</th>\n",
       "      <th>mag_h</th>\n",
       "      <th>mag_k</th>\n",
       "      <th>star_distance</th>\n",
       "      <th>star_distance_error_min</th>\n",
       "      <th>star_distance_error_max</th>\n",
       "      <th>star_metallicity</th>\n",
       "      <th>star_metallicity_error_min</th>\n",
       "      <th>star_metallicity_error_max</th>\n",
       "      <th>star_mass</th>\n",
       "      <th>star_mass_error_min</th>\n",
       "      <th>star_mass_error_max</th>\n",
       "      <th>star_radius</th>\n",
       "      <th>star_radius_error_min</th>\n",
       "      <th>star_radius_error_max</th>\n",
       "      <th>star_sp_type</th>\n",
       "      <th>star_age</th>\n",
       "      <th>star_age_error_min</th>\n",
       "      <th>star_age_error_max</th>\n",
       "      <th>star_teff</th>\n",
       "      <th>star_teff_error_min</th>\n",
       "      <th>star_teff_error_max</th>\n",
       "      <th>star_detected_disc</th>\n",
       "      <th>star_magnetic_field</th>\n",
       "      <th>star_alternate_names</th>\n",
       "    </tr>\n",
       "  </thead>\n",
       "  <tbody>\n",
       "    <tr>\n",
       "      <th>9</th>\n",
       "      <td>24 Boo b</td>\n",
       "      <td>Confirmed</td>\n",
       "      <td>0.91</td>\n",
       "      <td>0.1</td>\n",
       "      <td>0.13</td>\n",
       "      <td>0.91</td>\n",
       "      <td>0.1</td>\n",
       "      <td>0.13</td>\n",
       "      <td>NaN</td>\n",
       "      <td>NaN</td>\n",
       "      <td>NaN</td>\n",
       "      <td>30.3506</td>\n",
       "      <td>0.0078</td>\n",
       "      <td>0.0078</td>\n",
       "      <td>0.19</td>\n",
       "      <td>0.009</td>\n",
       "      <td>0.012</td>\n",
       "      <td>0.042</td>\n",
       "      <td>0.029</td>\n",
       "      <td>0.048</td>\n",
       "      <td>NaN</td>\n",
       "      <td>NaN</td>\n",
       "      <td>NaN</td>\n",
       "      <td>NaN</td>\n",
       "      <td>2018.0</td>\n",
       "      <td>2018-04-16</td>\n",
       "      <td>210.0</td>\n",
       "      <td>130.0</td>\n",
       "      <td>100.0</td>\n",
       "      <td>2450008.6</td>\n",
       "      <td>7.9</td>\n",
       "      <td>10.1</td>\n",
       "      <td>NaN</td>\n",
       "      <td>NaN</td>\n",
       "      <td>NaN</td>\n",
       "      <td>NaN</td>\n",
       "      <td>NaN</td>\n",
       "      <td>NaN</td>\n",
       "      <td>NaN</td>\n",
       "      <td>NaN</td>\n",
       "      <td>NaN</td>\n",
       "      <td>NaN</td>\n",
       "      <td>NaN</td>\n",
       "      <td>NaN</td>\n",
       "      <td>NaN</td>\n",
       "      <td>NaN</td>\n",
       "      <td>NaN</td>\n",
       "      <td>NaN</td>\n",
       "      <td>NaN</td>\n",
       "      <td>NaN</td>\n",
       "      <td>59.9</td>\n",
       "      <td>3.3</td>\n",
       "      <td>3.3</td>\n",
       "      <td>NaN</td>\n",
       "      <td>NaN</td>\n",
       "      <td>NaN</td>\n",
       "      <td>NaN</td>\n",
       "      <td>NaN</td>\n",
       "      <td>NaN</td>\n",
       "      <td>NaN</td>\n",
       "      <td>NaN</td>\n",
       "      <td>NaN</td>\n",
       "      <td>Published in a refereed paper</td>\n",
       "      <td>Radial Velocity</td>\n",
       "      <td>Radial Velocity</td>\n",
       "      <td>NaN</td>\n",
       "      <td>NaN</td>\n",
       "      <td>NaN</td>\n",
       "      <td>24 Boo</td>\n",
       "      <td>217.1625</td>\n",
       "      <td>49.845</td>\n",
       "      <td>5.6</td>\n",
       "      <td>NaN</td>\n",
       "      <td>NaN</td>\n",
       "      <td>NaN</td>\n",
       "      <td>NaN</td>\n",
       "      <td>100.0</td>\n",
       "      <td>NaN</td>\n",
       "      <td>NaN</td>\n",
       "      <td>-77.0</td>\n",
       "      <td>NaN</td>\n",
       "      <td>NaN</td>\n",
       "      <td>0.99</td>\n",
       "      <td>NaN</td>\n",
       "      <td>NaN</td>\n",
       "      <td>10.64</td>\n",
       "      <td>NaN</td>\n",
       "      <td>NaN</td>\n",
       "      <td>G3IV</td>\n",
       "      <td>NaN</td>\n",
       "      <td>NaN</td>\n",
       "      <td>NaN</td>\n",
       "      <td>4893.0</td>\n",
       "      <td>NaN</td>\n",
       "      <td>NaN</td>\n",
       "      <td>NaN</td>\n",
       "      <td>NaN</td>\n",
       "      <td>NaN</td>\n",
       "    </tr>\n",
       "  </tbody>\n",
       "</table>\n",
       "</div>"
      ],
      "text/plain": [
       "     # name planet_status  mass  mass_error_min  mass_error_max  mass_sini  \\\n",
       "9  24 Boo b     Confirmed  0.91             0.1            0.13       0.91   \n",
       "\n",
       "   mass_sini_error_min  mass_sini_error_max  radius  radius_error_min  \\\n",
       "9                  0.1                 0.13     NaN               NaN   \n",
       "\n",
       "   radius_error_max  orbital_period  orbital_period_error_min  \\\n",
       "9               NaN         30.3506                    0.0078   \n",
       "\n",
       "   orbital_period_error_max  semi_major_axis  semi_major_axis_error_min  \\\n",
       "9                    0.0078             0.19                      0.009   \n",
       "\n",
       "   semi_major_axis_error_max  eccentricity  eccentricity_error_min  \\\n",
       "9                      0.012         0.042                   0.029   \n",
       "\n",
       "   eccentricity_error_max  inclination  inclination_error_min  \\\n",
       "9                   0.048          NaN                    NaN   \n",
       "\n",
       "   inclination_error_max  angular_distance  discovered     updated  omega  \\\n",
       "9                    NaN               NaN      2018.0  2018-04-16  210.0   \n",
       "\n",
       "   omega_error_min  omega_error_max      tperi  tperi_error_min  \\\n",
       "9            130.0            100.0  2450008.6              7.9   \n",
       "\n",
       "   tperi_error_max  tconj  tconj_error_min  tconj_error_max  tzero_tr  \\\n",
       "9             10.1    NaN              NaN              NaN       NaN   \n",
       "\n",
       "   tzero_tr_error_min  tzero_tr_error_max  tzero_tr_sec  \\\n",
       "9                 NaN                 NaN           NaN   \n",
       "\n",
       "   tzero_tr_sec_error_min  tzero_tr_sec_error_max  lambda_angle  \\\n",
       "9                     NaN                     NaN           NaN   \n",
       "\n",
       "   lambda_angle_error_min  lambda_angle_error_max  impact_parameter  \\\n",
       "9                     NaN                     NaN               NaN   \n",
       "\n",
       "   impact_parameter_error_min  impact_parameter_error_max  tzero_vr  \\\n",
       "9                         NaN                         NaN       NaN   \n",
       "\n",
       "   tzero_vr_error_min  tzero_vr_error_max     k  k_error_min  k_error_max  \\\n",
       "9                 NaN                 NaN  59.9          3.3          3.3   \n",
       "\n",
       "   temp_calculated  temp_calculated_error_min  temp_calculated_error_max  \\\n",
       "9              NaN                        NaN                        NaN   \n",
       "\n",
       "   temp_measured  hot_point_lon  geometric_albedo  geometric_albedo_error_min  \\\n",
       "9            NaN            NaN               NaN                         NaN   \n",
       "\n",
       "   geometric_albedo_error_max  log_g                    publication  \\\n",
       "9                         NaN    NaN  Published in a refereed paper   \n",
       "\n",
       "    detection_type mass_detection_type radius_detection_type alternate_names  \\\n",
       "9  Radial Velocity     Radial Velocity                   NaN             NaN   \n",
       "\n",
       "  molecules star_name        ra     dec  mag_v  mag_i  mag_j  mag_h  mag_k  \\\n",
       "9       NaN    24 Boo  217.1625  49.845    5.6    NaN    NaN    NaN    NaN   \n",
       "\n",
       "   star_distance  star_distance_error_min  star_distance_error_max  \\\n",
       "9          100.0                      NaN                      NaN   \n",
       "\n",
       "   star_metallicity  star_metallicity_error_min  star_metallicity_error_max  \\\n",
       "9             -77.0                         NaN                         NaN   \n",
       "\n",
       "   star_mass  star_mass_error_min  star_mass_error_max  star_radius  \\\n",
       "9       0.99                  NaN                  NaN        10.64   \n",
       "\n",
       "   star_radius_error_min  star_radius_error_max star_sp_type  star_age  \\\n",
       "9                    NaN                    NaN         G3IV       NaN   \n",
       "\n",
       "   star_age_error_min  star_age_error_max  star_teff  star_teff_error_min  \\\n",
       "9                 NaN                 NaN     4893.0                  NaN   \n",
       "\n",
       "   star_teff_error_max star_detected_disc star_magnetic_field  \\\n",
       "9                  NaN                NaN                 NaN   \n",
       "\n",
       "  star_alternate_names  \n",
       "9                  NaN  "
      ]
     },
     "execution_count": 95,
     "metadata": {},
     "output_type": "execute_result"
    }
   ],
   "source": [
    "de[np.abs(de.star_metallicity)>2]"
   ]
  },
  {
   "cell_type": "code",
   "execution_count": 93,
   "metadata": {},
   "outputs": [
    {
     "data": {
      "text/html": [
       "<div>\n",
       "<table border=\"1\" class=\"dataframe\">\n",
       "  <thead>\n",
       "    <tr style=\"text-align: right;\">\n",
       "      <th></th>\n",
       "      <th># name</th>\n",
       "      <th>planet_status</th>\n",
       "      <th>mass</th>\n",
       "      <th>mass_error_min</th>\n",
       "      <th>mass_error_max</th>\n",
       "      <th>mass_sini</th>\n",
       "      <th>mass_sini_error_min</th>\n",
       "      <th>mass_sini_error_max</th>\n",
       "      <th>radius</th>\n",
       "      <th>radius_error_min</th>\n",
       "      <th>radius_error_max</th>\n",
       "      <th>orbital_period</th>\n",
       "      <th>orbital_period_error_min</th>\n",
       "      <th>orbital_period_error_max</th>\n",
       "      <th>semi_major_axis</th>\n",
       "      <th>semi_major_axis_error_min</th>\n",
       "      <th>semi_major_axis_error_max</th>\n",
       "      <th>eccentricity</th>\n",
       "      <th>eccentricity_error_min</th>\n",
       "      <th>eccentricity_error_max</th>\n",
       "      <th>inclination</th>\n",
       "      <th>inclination_error_min</th>\n",
       "      <th>inclination_error_max</th>\n",
       "      <th>angular_distance</th>\n",
       "      <th>discovered</th>\n",
       "      <th>updated</th>\n",
       "      <th>omega</th>\n",
       "      <th>omega_error_min</th>\n",
       "      <th>omega_error_max</th>\n",
       "      <th>tperi</th>\n",
       "      <th>tperi_error_min</th>\n",
       "      <th>tperi_error_max</th>\n",
       "      <th>tconj</th>\n",
       "      <th>tconj_error_min</th>\n",
       "      <th>tconj_error_max</th>\n",
       "      <th>tzero_tr</th>\n",
       "      <th>tzero_tr_error_min</th>\n",
       "      <th>tzero_tr_error_max</th>\n",
       "      <th>tzero_tr_sec</th>\n",
       "      <th>tzero_tr_sec_error_min</th>\n",
       "      <th>tzero_tr_sec_error_max</th>\n",
       "      <th>lambda_angle</th>\n",
       "      <th>lambda_angle_error_min</th>\n",
       "      <th>lambda_angle_error_max</th>\n",
       "      <th>impact_parameter</th>\n",
       "      <th>impact_parameter_error_min</th>\n",
       "      <th>impact_parameter_error_max</th>\n",
       "      <th>tzero_vr</th>\n",
       "      <th>tzero_vr_error_min</th>\n",
       "      <th>tzero_vr_error_max</th>\n",
       "      <th>k</th>\n",
       "      <th>k_error_min</th>\n",
       "      <th>k_error_max</th>\n",
       "      <th>temp_calculated</th>\n",
       "      <th>temp_calculated_error_min</th>\n",
       "      <th>temp_calculated_error_max</th>\n",
       "      <th>temp_measured</th>\n",
       "      <th>hot_point_lon</th>\n",
       "      <th>geometric_albedo</th>\n",
       "      <th>geometric_albedo_error_min</th>\n",
       "      <th>geometric_albedo_error_max</th>\n",
       "      <th>log_g</th>\n",
       "      <th>publication</th>\n",
       "      <th>detection_type</th>\n",
       "      <th>mass_detection_type</th>\n",
       "      <th>radius_detection_type</th>\n",
       "      <th>alternate_names</th>\n",
       "      <th>molecules</th>\n",
       "      <th>star_name</th>\n",
       "      <th>ra</th>\n",
       "      <th>dec</th>\n",
       "      <th>mag_v</th>\n",
       "      <th>mag_i</th>\n",
       "      <th>mag_j</th>\n",
       "      <th>mag_h</th>\n",
       "      <th>mag_k</th>\n",
       "      <th>star_distance</th>\n",
       "      <th>star_distance_error_min</th>\n",
       "      <th>star_distance_error_max</th>\n",
       "      <th>star_metallicity</th>\n",
       "      <th>star_metallicity_error_min</th>\n",
       "      <th>star_metallicity_error_max</th>\n",
       "      <th>star_mass</th>\n",
       "      <th>star_mass_error_min</th>\n",
       "      <th>star_mass_error_max</th>\n",
       "      <th>star_radius</th>\n",
       "      <th>star_radius_error_min</th>\n",
       "      <th>star_radius_error_max</th>\n",
       "      <th>star_sp_type</th>\n",
       "      <th>star_age</th>\n",
       "      <th>star_age_error_min</th>\n",
       "      <th>star_age_error_max</th>\n",
       "      <th>star_teff</th>\n",
       "      <th>star_teff_error_min</th>\n",
       "      <th>star_teff_error_max</th>\n",
       "      <th>star_detected_disc</th>\n",
       "      <th>star_magnetic_field</th>\n",
       "      <th>star_alternate_names</th>\n",
       "    </tr>\n",
       "  </thead>\n",
       "  <tbody>\n",
       "    <tr>\n",
       "      <th>282</th>\n",
       "      <td>HAT-P-18 b</td>\n",
       "      <td>Confirmed</td>\n",
       "      <td>0.183</td>\n",
       "      <td>0.032</td>\n",
       "      <td>0.034</td>\n",
       "      <td>NaN</td>\n",
       "      <td>NaN</td>\n",
       "      <td>NaN</td>\n",
       "      <td>0.947</td>\n",
       "      <td>0.044</td>\n",
       "      <td>0.044</td>\n",
       "      <td>5.508029</td>\n",
       "      <td>0.000004</td>\n",
       "      <td>0.000004</td>\n",
       "      <td>0.0559</td>\n",
       "      <td>0.0007</td>\n",
       "      <td>0.0007</td>\n",
       "      <td>0.106</td>\n",
       "      <td>0.084</td>\n",
       "      <td>0.15</td>\n",
       "      <td>88.79</td>\n",
       "      <td>0.21</td>\n",
       "      <td>0.21</td>\n",
       "      <td>0.000337</td>\n",
       "      <td>2010.0</td>\n",
       "      <td>2015-11-12</td>\n",
       "      <td>120.0</td>\n",
       "      <td>56.0</td>\n",
       "      <td>56.0</td>\n",
       "      <td>NaN</td>\n",
       "      <td>NaN</td>\n",
       "      <td>NaN</td>\n",
       "      <td>NaN</td>\n",
       "      <td>NaN</td>\n",
       "      <td>NaN</td>\n",
       "      <td>2.454715e+06</td>\n",
       "      <td>0.00039</td>\n",
       "      <td>0.00039</td>\n",
       "      <td>2454717.65</td>\n",
       "      <td>0.13</td>\n",
       "      <td>0.13</td>\n",
       "      <td>132.0</td>\n",
       "      <td>15.0</td>\n",
       "      <td>15.0</td>\n",
       "      <td>0.324</td>\n",
       "      <td>0.057</td>\n",
       "      <td>0.057</td>\n",
       "      <td>NaN</td>\n",
       "      <td>NaN</td>\n",
       "      <td>NaN</td>\n",
       "      <td>NaN</td>\n",
       "      <td>NaN</td>\n",
       "      <td>NaN</td>\n",
       "      <td>841.0</td>\n",
       "      <td>NaN</td>\n",
       "      <td>NaN</td>\n",
       "      <td>NaN</td>\n",
       "      <td>NaN</td>\n",
       "      <td>NaN</td>\n",
       "      <td>NaN</td>\n",
       "      <td>NaN</td>\n",
       "      <td>2.734</td>\n",
       "      <td>Published in a refereed paper</td>\n",
       "      <td>Primary Transit</td>\n",
       "      <td>NaN</td>\n",
       "      <td>NaN</td>\n",
       "      <td>HAT-18b</td>\n",
       "      <td>NaN</td>\n",
       "      <td>HAT-P-18</td>\n",
       "      <td>256.350000</td>\n",
       "      <td>33.012500</td>\n",
       "      <td>12.76</td>\n",
       "      <td>NaN</td>\n",
       "      <td>NaN</td>\n",
       "      <td>NaN</td>\n",
       "      <td>NaN</td>\n",
       "      <td>166.0</td>\n",
       "      <td>9.0</td>\n",
       "      <td>9.0</td>\n",
       "      <td>0.10</td>\n",
       "      <td>8.0</td>\n",
       "      <td>8.0</td>\n",
       "      <td>0.77</td>\n",
       "      <td>0.031</td>\n",
       "      <td>0.031</td>\n",
       "      <td>0.717</td>\n",
       "      <td>0.026</td>\n",
       "      <td>0.026</td>\n",
       "      <td>K</td>\n",
       "      <td>12.4</td>\n",
       "      <td>6.4</td>\n",
       "      <td>6.4</td>\n",
       "      <td>4870.0</td>\n",
       "      <td>50.0</td>\n",
       "      <td>50.0</td>\n",
       "      <td>NaN</td>\n",
       "      <td>NaN</td>\n",
       "      <td>NaN</td>\n",
       "    </tr>\n",
       "    <tr>\n",
       "      <th>3627</th>\n",
       "      <td>WASP-145A b</td>\n",
       "      <td>Confirmed</td>\n",
       "      <td>0.890</td>\n",
       "      <td>0.040</td>\n",
       "      <td>0.040</td>\n",
       "      <td>NaN</td>\n",
       "      <td>NaN</td>\n",
       "      <td>NaN</td>\n",
       "      <td>0.900</td>\n",
       "      <td>0.040</td>\n",
       "      <td>0.040</td>\n",
       "      <td>NaN</td>\n",
       "      <td>NaN</td>\n",
       "      <td>NaN</td>\n",
       "      <td>0.0261</td>\n",
       "      <td>0.0005</td>\n",
       "      <td>0.0005</td>\n",
       "      <td>0.000</td>\n",
       "      <td>0.000</td>\n",
       "      <td>0.06</td>\n",
       "      <td>83.30</td>\n",
       "      <td>1.30</td>\n",
       "      <td>1.30</td>\n",
       "      <td>NaN</td>\n",
       "      <td>2018.0</td>\n",
       "      <td>2018-05-15</td>\n",
       "      <td>NaN</td>\n",
       "      <td>NaN</td>\n",
       "      <td>NaN</td>\n",
       "      <td>NaN</td>\n",
       "      <td>NaN</td>\n",
       "      <td>NaN</td>\n",
       "      <td>NaN</td>\n",
       "      <td>NaN</td>\n",
       "      <td>NaN</td>\n",
       "      <td>2.456844e+06</td>\n",
       "      <td>0.00026</td>\n",
       "      <td>0.00026</td>\n",
       "      <td>NaN</td>\n",
       "      <td>NaN</td>\n",
       "      <td>NaN</td>\n",
       "      <td>NaN</td>\n",
       "      <td>NaN</td>\n",
       "      <td>NaN</td>\n",
       "      <td>0.970</td>\n",
       "      <td>0.090</td>\n",
       "      <td>0.090</td>\n",
       "      <td>NaN</td>\n",
       "      <td>NaN</td>\n",
       "      <td>NaN</td>\n",
       "      <td>178.0</td>\n",
       "      <td>6.0</td>\n",
       "      <td>6.0</td>\n",
       "      <td>1200.0</td>\n",
       "      <td>60.0</td>\n",
       "      <td>60.0</td>\n",
       "      <td>NaN</td>\n",
       "      <td>NaN</td>\n",
       "      <td>NaN</td>\n",
       "      <td>NaN</td>\n",
       "      <td>NaN</td>\n",
       "      <td>NaN</td>\n",
       "      <td>Published in a refereed paper</td>\n",
       "      <td>Primary Transit</td>\n",
       "      <td>Radial Velocity</td>\n",
       "      <td>Primary Transit</td>\n",
       "      <td>NaN</td>\n",
       "      <td>NaN</td>\n",
       "      <td>WASP-145A</td>\n",
       "      <td>322.254167</td>\n",
       "      <td>-58.836111</td>\n",
       "      <td>11.50</td>\n",
       "      <td>NaN</td>\n",
       "      <td>NaN</td>\n",
       "      <td>NaN</td>\n",
       "      <td>NaN</td>\n",
       "      <td>NaN</td>\n",
       "      <td>NaN</td>\n",
       "      <td>NaN</td>\n",
       "      <td>-0.04</td>\n",
       "      <td>10.0</td>\n",
       "      <td>10.0</td>\n",
       "      <td>0.76</td>\n",
       "      <td>0.040</td>\n",
       "      <td>0.040</td>\n",
       "      <td>0.680</td>\n",
       "      <td>0.070</td>\n",
       "      <td>0.070</td>\n",
       "      <td>K2V</td>\n",
       "      <td>0.5</td>\n",
       "      <td>0.0</td>\n",
       "      <td>10.0</td>\n",
       "      <td>4900.0</td>\n",
       "      <td>150.0</td>\n",
       "      <td>150.0</td>\n",
       "      <td>NaN</td>\n",
       "      <td>NaN</td>\n",
       "      <td>NaN</td>\n",
       "    </tr>\n",
       "  </tbody>\n",
       "</table>\n",
       "</div>"
      ],
      "text/plain": [
       "           # name planet_status   mass  mass_error_min  mass_error_max  \\\n",
       "282    HAT-P-18 b     Confirmed  0.183           0.032           0.034   \n",
       "3627  WASP-145A b     Confirmed  0.890           0.040           0.040   \n",
       "\n",
       "      mass_sini  mass_sini_error_min  mass_sini_error_max  radius  \\\n",
       "282         NaN                  NaN                  NaN   0.947   \n",
       "3627        NaN                  NaN                  NaN   0.900   \n",
       "\n",
       "      radius_error_min  radius_error_max  orbital_period  \\\n",
       "282              0.044             0.044        5.508029   \n",
       "3627             0.040             0.040             NaN   \n",
       "\n",
       "      orbital_period_error_min  orbital_period_error_max  semi_major_axis  \\\n",
       "282                   0.000004                  0.000004           0.0559   \n",
       "3627                       NaN                       NaN           0.0261   \n",
       "\n",
       "      semi_major_axis_error_min  semi_major_axis_error_max  eccentricity  \\\n",
       "282                      0.0007                     0.0007         0.106   \n",
       "3627                     0.0005                     0.0005         0.000   \n",
       "\n",
       "      eccentricity_error_min  eccentricity_error_max  inclination  \\\n",
       "282                    0.084                    0.15        88.79   \n",
       "3627                   0.000                    0.06        83.30   \n",
       "\n",
       "      inclination_error_min  inclination_error_max  angular_distance  \\\n",
       "282                    0.21                   0.21          0.000337   \n",
       "3627                   1.30                   1.30               NaN   \n",
       "\n",
       "      discovered     updated  omega  omega_error_min  omega_error_max  tperi  \\\n",
       "282       2010.0  2015-11-12  120.0             56.0             56.0    NaN   \n",
       "3627      2018.0  2018-05-15    NaN              NaN              NaN    NaN   \n",
       "\n",
       "      tperi_error_min  tperi_error_max  tconj  tconj_error_min  \\\n",
       "282               NaN              NaN    NaN              NaN   \n",
       "3627              NaN              NaN    NaN              NaN   \n",
       "\n",
       "      tconj_error_max      tzero_tr  tzero_tr_error_min  tzero_tr_error_max  \\\n",
       "282               NaN  2.454715e+06             0.00039             0.00039   \n",
       "3627              NaN  2.456844e+06             0.00026             0.00026   \n",
       "\n",
       "      tzero_tr_sec  tzero_tr_sec_error_min  tzero_tr_sec_error_max  \\\n",
       "282     2454717.65                    0.13                    0.13   \n",
       "3627           NaN                     NaN                     NaN   \n",
       "\n",
       "      lambda_angle  lambda_angle_error_min  lambda_angle_error_max  \\\n",
       "282          132.0                    15.0                    15.0   \n",
       "3627           NaN                     NaN                     NaN   \n",
       "\n",
       "      impact_parameter  impact_parameter_error_min  \\\n",
       "282              0.324                       0.057   \n",
       "3627             0.970                       0.090   \n",
       "\n",
       "      impact_parameter_error_max  tzero_vr  tzero_vr_error_min  \\\n",
       "282                        0.057       NaN                 NaN   \n",
       "3627                       0.090       NaN                 NaN   \n",
       "\n",
       "      tzero_vr_error_max      k  k_error_min  k_error_max  temp_calculated  \\\n",
       "282                  NaN    NaN          NaN          NaN            841.0   \n",
       "3627                 NaN  178.0          6.0          6.0           1200.0   \n",
       "\n",
       "      temp_calculated_error_min  temp_calculated_error_max  temp_measured  \\\n",
       "282                         NaN                        NaN            NaN   \n",
       "3627                       60.0                       60.0            NaN   \n",
       "\n",
       "      hot_point_lon  geometric_albedo  geometric_albedo_error_min  \\\n",
       "282             NaN               NaN                         NaN   \n",
       "3627            NaN               NaN                         NaN   \n",
       "\n",
       "      geometric_albedo_error_max  log_g                    publication  \\\n",
       "282                          NaN  2.734  Published in a refereed paper   \n",
       "3627                         NaN    NaN  Published in a refereed paper   \n",
       "\n",
       "       detection_type mass_detection_type radius_detection_type  \\\n",
       "282   Primary Transit                 NaN                   NaN   \n",
       "3627  Primary Transit     Radial Velocity       Primary Transit   \n",
       "\n",
       "     alternate_names molecules  star_name          ra        dec  mag_v  \\\n",
       "282          HAT-18b       NaN   HAT-P-18  256.350000  33.012500  12.76   \n",
       "3627             NaN       NaN  WASP-145A  322.254167 -58.836111  11.50   \n",
       "\n",
       "      mag_i  mag_j  mag_h  mag_k  star_distance  star_distance_error_min  \\\n",
       "282     NaN    NaN    NaN    NaN          166.0                      9.0   \n",
       "3627    NaN    NaN    NaN    NaN            NaN                      NaN   \n",
       "\n",
       "      star_distance_error_max  star_metallicity  star_metallicity_error_min  \\\n",
       "282                       9.0              0.10                         8.0   \n",
       "3627                      NaN             -0.04                        10.0   \n",
       "\n",
       "      star_metallicity_error_max  star_mass  star_mass_error_min  \\\n",
       "282                          8.0       0.77                0.031   \n",
       "3627                        10.0       0.76                0.040   \n",
       "\n",
       "      star_mass_error_max  star_radius  star_radius_error_min  \\\n",
       "282                 0.031        0.717                  0.026   \n",
       "3627                0.040        0.680                  0.070   \n",
       "\n",
       "      star_radius_error_max star_sp_type  star_age  star_age_error_min  \\\n",
       "282                   0.026            K      12.4                 6.4   \n",
       "3627                  0.070          K2V       0.5                 0.0   \n",
       "\n",
       "      star_age_error_max  star_teff  star_teff_error_min  star_teff_error_max  \\\n",
       "282                  6.4     4870.0                 50.0                 50.0   \n",
       "3627                10.0     4900.0                150.0                150.0   \n",
       "\n",
       "     star_detected_disc star_magnetic_field star_alternate_names  \n",
       "282                 NaN                 NaN                  NaN  \n",
       "3627                NaN                 NaN                  NaN  "
      ]
     },
     "execution_count": 93,
     "metadata": {},
     "output_type": "execute_result"
    }
   ],
   "source": [
    "de[np.abs(de.star_metallicity_error_max)>2]"
   ]
  },
  {
   "cell_type": "code",
   "execution_count": null,
   "metadata": {
    "collapsed": true
   },
   "outputs": [],
   "source": [
    "# HAT-P-18 b 0.12 +- 0.05\n",
    "# WASP-145A b 0.04 +- 0.1\n",
    "# 24 Boo b 0.77 +- 0.03\n"
   ]
  },
  {
   "cell_type": "code",
   "execution_count": 96,
   "metadata": {
    "collapsed": true
   },
   "outputs": [],
   "source": [
    "de=de[np.abs(de.star_metallicity)<2]\n",
    "de=de[de.star_metallicity_error_max<3]"
   ]
  },
  {
   "cell_type": "code",
   "execution_count": 105,
   "metadata": {},
   "outputs": [
    {
     "data": {
      "text/plain": [
       "2505"
      ]
     },
     "execution_count": 105,
     "metadata": {},
     "output_type": "execute_result"
    }
   ],
   "source": [
    "len(de)"
   ]
  },
  {
   "cell_type": "code",
   "execution_count": 99,
   "metadata": {},
   "outputs": [
    {
     "data": {
      "text/plain": [
       "(-1, 1)"
      ]
     },
     "execution_count": 99,
     "metadata": {},
     "output_type": "execute_result"
    },
    {
     "data": {
      "image/png": "[encoded data removed]",
      "text/plain": [
       "<matplotlib.figure.Figure at 0x7f6c71be3a20>"
      ]
     },
     "metadata": {},
     "output_type": "display_data"
    }
   ],
   "source": [
    "plt.scatter(de.star_metallicity,de.semi_major_axis)\n",
    "plt.xlim(-1,1)"
   ]
  },
  {
   "cell_type": "code",
   "execution_count": 100,
   "metadata": {},
   "outputs": [
    {
     "data": {
      "text/plain": [
       "(array([    2.,     5.,    17.,    47.,   138.,   355.,  1292.,   423.,\n",
       "          197.,    29.]),\n",
       " array([-1.   , -0.844, -0.688, -0.532, -0.376, -0.22 , -0.064,  0.092,\n",
       "         0.248,  0.404,  0.56 ]),\n",
       " <a list of 10 Patch objects>)"
      ]
     },
     "execution_count": 100,
     "metadata": {},
     "output_type": "execute_result"
    },
    {
     "data": {
      "image/png": "[encoded data removed]",
      "text/plain": [
       "<matplotlib.figure.Figure at 0x7f6c719b95c0>"
      ]
     },
     "metadata": {},
     "output_type": "display_data"
    }
   ],
   "source": [
    "plt.hist(de.star_metallicity)"
   ]
  },
  {
   "cell_type": "code",
   "execution_count": 101,
   "metadata": {},
   "outputs": [
    {
     "data": {
      "text/plain": [
       "<matplotlib.axes._subplots.AxesSubplot at 0x7f6c71933828>"
      ]
     },
     "execution_count": 101,
     "metadata": {},
     "output_type": "execute_result"
    },
    {
     "data": {
      "image/png": "[encoded data removed]",
      "text/plain": [
       "<matplotlib.figure.Figure at 0x7f6c719bc978>"
      ]
     },
     "metadata": {},
     "output_type": "display_data"
    }
   ],
   "source": [
    "sns.distplot(de.star_metallicity)"
   ]
  },
  {
   "cell_type": "code",
   "execution_count": 150,
   "metadata": {},
   "outputs": [
    {
     "data": {
      "text/plain": [
       "<matplotlib.axes._subplots.AxesSubplot at 0x7f6c712d1ba8>"
      ]
     },
     "execution_count": 150,
     "metadata": {},
     "output_type": "execute_result"
    },
    {
     "data": {
      "image/png": "[encoded data removed]",
      "text/plain": [
       "<matplotlib.figure.Figure at 0x7f6c718f7940>"
      ]
     },
     "metadata": {},
     "output_type": "display_data"
    }
   ],
   "source": [
    "sns.distplot(de.star_mass[np.isfinite(de.star_mass)])"
   ]
  },
  {
   "cell_type": "code",
   "execution_count": 179,
   "metadata": {
    "collapsed": true
   },
   "outputs": [],
   "source": [
    "mjup=317.83 # in earth masses, as you do"
   ]
  },
  {
   "cell_type": "code",
   "execution_count": null,
   "metadata": {
    "collapsed": true
   },
   "outputs": [],
   "source": [
    "#https://stackoverflow.com/questions/21918529/multivariate-kernel-density-estimation-in-python"
   ]
  },
  {
   "cell_type": "code",
   "execution_count": 209,
   "metadata": {},
   "outputs": [
    {
     "data": {
      "text/plain": [
       "2666"
      ]
     },
     "execution_count": 209,
     "metadata": {},
     "output_type": "execute_result"
    }
   ],
   "source": [
    "len(npl)"
   ]
  },
  {
   "cell_type": "code",
   "execution_count": 287,
   "metadata": {
    "collapsed": true,
    "scrolled": true
   },
   "outputs": [],
   "source": [
    "ms,msmin,msma,gia,ngi,mgi,mtr,com=[],[],[],[],[],[],[],[]\n",
    "df=dems\n",
    "lip=collections.Counter(df.star_name)\n",
    "snames=np.array(list(lip.keys()))\n",
    "npl=np.array(list(lip.values()))\n",
    "mycols=['mass', 'mass_error_min', 'mass_error_max','mass_sini', 'mass_sini_error_min', 'mass_sini_error_max', 'semi_major_axis', 'semi_major_axis_error_min',\n",
    "       'semi_major_axis_error_max','star_metallicity',\n",
    "       'star_metallicity_error_min', 'star_metallicity_error_max', 'star_mass',\n",
    "       'star_mass_error_min', 'star_mass_error_max']\n",
    "dd=df[mycols]\n",
    "for i in snames:\n",
    "    filter=df.star_name==i\n",
    "    dummy=dd[filter]\n",
    "    ms+=[dummy.star_mass.iloc[0]]\n",
    "    msmin+=[dummy.star_mass_error_min.iloc[0]]\n",
    "    msmax+=[dummy.star_mass_error_max.iloc[0]]\n",
    "#    dummy=dummy[np.isfinite[]]\n",
    "    giafil=dummy.mass*mjup>10\n",
    "    gia+=[np.any(giafil)]\n",
    "    ngi+=[giafil.sum()]\n",
    "    mgi+=[dummy.mass[giafil].sum()*mjup]\n",
    " #   if np.isnan(dummy.mass[~giafil].sum()*mjup):\n",
    " #       print(len(dummy))\n",
    "\n",
    "    mtr+=[dummy.mass[~giafil].sum()*mjup]\n",
    "    com+=[(dummy.mass*dummy.semi_major_axis).sum()/dummy.mass.sum()]\n",
    "aaa=[]\n",
    "for i in [ms,msmin,msma,gia,ngi,mgi,mtr,com]:\n",
    "    aaa+=[np.array(i)]\n",
    "ms,msmin,msma,gia,ngi,mgi,mtr,com=aaa"
   ]
  },
  {
   "cell_type": "code",
   "execution_count": null,
   "metadata": {
    "collapsed": true
   },
   "outputs": [],
   "source": []
  },
  {
   "cell_type": "code",
   "execution_count": 295,
   "metadata": {},
   "outputs": [
    {
     "data": {
      "text/plain": [
       "<matplotlib.collections.PathCollection at 0x7f6c6eb14128>"
      ]
     },
     "execution_count": 295,
     "metadata": {},
     "output_type": "execute_result"
    },
    {
     "data": {
      "image/png": "[encoded data removed]",
      "text/plain": [
       "<matplotlib.figure.Figure at 0x7f6c6ecd0518>"
      ]
     },
     "metadata": {},
     "output_type": "display_data"
    }
   ],
   "source": [
    "filt=~np.array(gia)\n",
    "plt.scatter(ms[filt],npl[filt])"
   ]
  },
  {
   "cell_type": "code",
   "execution_count": 296,
   "metadata": {},
   "outputs": [
    {
     "data": {
      "text/plain": [
       "<matplotlib.collections.PathCollection at 0x7f6c6eaa7668>"
      ]
     },
     "execution_count": 296,
     "metadata": {},
     "output_type": "execute_result"
    },
    {
     "data": {
      "image/png": "[encoded data removed]",
      "text/plain": [
       "<matplotlib.figure.Figure at 0x7f6c6eb24630>"
      ]
     },
     "metadata": {},
     "output_type": "display_data"
    }
   ],
   "source": [
    "filt=np.array(gia)\n",
    "plt.scatter(ms[filt],npl[filt])"
   ]
  },
  {
   "cell_type": "code",
   "execution_count": null,
   "metadata": {
    "collapsed": true
   },
   "outputs": [],
   "source": [
    "filt=~np.array(gia)\n",
    "plt.scatter(ms[filt],npl[filt])"
   ]
  },
  {
   "cell_type": "code",
   "execution_count": 227,
   "metadata": {},
   "outputs": [
    {
     "data": {
      "text/plain": [
       "array([ 0.615,  0.654,  0.512, ...,  0.13 ,  0.934,  0.783])"
      ]
     },
     "execution_count": 227,
     "metadata": {},
     "output_type": "execute_result"
    }
   ],
   "source": [
    "np.array(ms)[filt]"
   ]
  },
  {
   "cell_type": "code",
   "execution_count": 225,
   "metadata": {},
   "outputs": [
    {
     "data": {
      "text/plain": [
       "2666"
      ]
     },
     "execution_count": 225,
     "metadata": {},
     "output_type": "execute_result"
    }
   ],
   "source": [
    "len(filt)"
   ]
  },
  {
   "cell_type": "code",
   "execution_count": 223,
   "metadata": {},
   "outputs": [
    {
     "data": {
      "text/plain": [
       "0.78299999999999992"
      ]
     },
     "execution_count": 223,
     "metadata": {},
     "output_type": "execute_result"
    }
   ],
   "source": [
    "ms[-3]"
   ]
  },
  {
   "cell_type": "code",
   "execution_count": null,
   "metadata": {
    "collapsed": true
   },
   "outputs": [],
   "source": []
  }
 ],
 "metadata": {
  "kernelspec": {
   "display_name": "Python 3",
   "language": "python",
   "name": "python3"
  },
  "language_info": {
   "codemirror_mode": {
    "name": "ipython",
    "version": 3
   },
   "file_extension": ".py",
   "mimetype": "text/x-python",
   "name": "python",
   "nbconvert_exporter": "python",
   "pygments_lexer": "ipython3",
   "version": "3.5.3"
  }
 },
 "nbformat": 4,
 "nbformat_minor": 2
}
