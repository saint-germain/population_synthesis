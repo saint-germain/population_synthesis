{
 "cells": [
  {
   "cell_type": "markdown",
   "metadata": {
    "collapsed": true
   },
   "source": [
    "# Deeper processing for ML analysis\n",
    "\n",
    "Reprocessing of `*_pert.csv` data (see `prep/dataprep.ipynb` for more info).\n",
    "\n",
    "- First we get consolidated data for all the systems (similar to reduce.py) into `proc_*_pert.vsc`\n",
    "- Repeat for planets in HZ in `hz_*_pert.csv`\n",
    "\n"
   ]
  },
  {
   "cell_type": "code",
   "execution_count": 5,
   "metadata": {
    "collapsed": true
   },
   "outputs": [],
   "source": [
    "import pandas as pd\n",
    "import numpy as np"
   ]
  },
  {
   "cell_type": "code",
   "execution_count": 6,
   "metadata": {
    "collapsed": true
   },
   "outputs": [],
   "source": [
    "fold='../prep/'"
   ]
  },
  {
   "cell_type": "code",
   "execution_count": 7,
   "metadata": {
    "collapsed": false
   },
   "outputs": [],
   "source": [
    "resf=['no_pert.csv','lo_pert.csv','hi_pert.csv']\n",
    "for resfile in resf:\n",
    "    resfile=fold+resfile\n",
    "    dff=pd.read_csv(resfile)\n",
    "    dff['mass']=dff['emepla(i)/emet']+dff['emegas(i)']\n",
    "    nlist=['ident', 'com', 'nplanets', 'massbudget', 'massefficiency', 'sigmag0', 'md', 'rc', 'ms', 'metal', 'taugas',  'qest','ngi','mtr','apert']\n",
    "    dff=dff[dff.mass<6500] # approx. 20 jupiter masses\n",
    "    rdata=np.zeros((len(np.unique(dff.ident)),len(nlist)))\n",
    "    kk=0\n",
    "    fpert=dff.fpert.iloc[0]\n",
    "    for i in np.unique(dff.ident):    \n",
    "        filter=dff.ident==i\n",
    "        dummy=dff[filter]\n",
    "        pmass=dummy.mass\n",
    "        com=((pmass*dummy['a(i)']).sum())/pmass.sum()\n",
    "        npl=len(dummy)\n",
    "        mtot=pmass.sum()\n",
    "        sigmag0=dummy.sigmag_0.iloc[0]\n",
    "        effm=mtot*3e-6/(dummy.emed.iloc[0])\n",
    "        rc=dummy.rc.iloc[0]\n",
    "        ms=dummy.emestar.iloc[0]/2e33\n",
    "        md=dummy.emed.iloc[0]*ms\n",
    "        metal=dummy.emetal.iloc[0]\n",
    "        taugas=dummy.taugas.iloc[0]   \n",
    "        qest=dummy.qest.iloc[0]\n",
    "        boogi=dummy.mass>10 # 10 earth masses as giant mass limit\n",
    "        ngi=(boogi).sum()\n",
    "        apert=dummy.apert.iloc[0]\n",
    "        mtr=(dummy.mass[np.logical_not(boogi)]).sum()\n",
    "        rdata[kk,:]=i,com,npl,mtot,effm,sigmag0,md,rc,ms,metal,taugas,qest,ngi,mtr,apert\n",
    "        kk=kk+1\n",
    "    pd.DataFrame(rdata,columns=nlist).to_csv(resfile[:8]+'proc_%s.csv'%resfile[8:-4])"
   ]
  },
  {
   "cell_type": "code",
   "execution_count": 8,
   "metadata": {
    "collapsed": true
   },
   "outputs": [],
   "source": [
    "resf=['no_pert.csv','lo_pert.csv','hi_pert.csv']\n",
    "for resfile in resf:\n",
    "    resfile=fold+resfile\n",
    "    dff=pd.read_csv(resfile)\n",
    "    hzmin=0.75*(dff.emestar/2e33)**2\n",
    "    hzmax=1.77*(dff.emestar/2e33)**2\n",
    "    dff=dff[(dff['a(i)']>hzmin)&(dff['a(i)']<hzmax)]\n",
    "    dff['mass']=dff['emepla(i)/emet']+dff['emegas(i)']\n",
    "    dff=dff[dff.mass<6500] # approx. 20 jupiter masses\n",
    "    nlist=['ident', 'com', 'nplanets', 'massbudget', 'massefficiency', 'sigmag0', 'md', 'rc', 'ms', 'metal', 'taugas',  'qest','ngi','mtr','apert']\n",
    "    \n",
    "    rdata=np.zeros((len(np.unique(dff.ident)),len(nlist)))\n",
    "    kk=0\n",
    "    fpert=dff.fpert.iloc[0]\n",
    "    for i in np.unique(dff.ident):    \n",
    "        filter=dff.ident==i\n",
    "        dummy=dff[filter]\n",
    "        pmass=dummy.mass\n",
    "        com=((pmass*dummy['a(i)']).sum())/pmass.sum()\n",
    "        npl=len(dummy)\n",
    "        mtot=pmass.sum()\n",
    "        sigmag0=dummy.sigmag_0.iloc[0]\n",
    "        effm=mtot*3e-6/(dummy.emed.iloc[0])\n",
    "        rc=dummy.rc.iloc[0]\n",
    "        ms=dummy.emestar.iloc[0]/2e33\n",
    "        md=dummy.emed.iloc[0]*ms\n",
    "        metal=dummy.emetal.iloc[0]\n",
    "        taugas=dummy.taugas.iloc[0]   \n",
    "        qest=dummy.qest.iloc[0]\n",
    "        boogi=dummy.mass>10 # 10 earth masses as giant mass limit\n",
    "        ngi=(boogi).sum()\n",
    "        apert=dummy.apert.iloc[0]\n",
    "        mtr=(dummy.mass[np.logical_not(boogi)]).sum()\n",
    "        rdata[kk,:]=i,com,npl,mtot,effm,sigmag0,md,rc,ms,metal,taugas,qest,ngi,mtr,apert\n",
    "        kk=kk+1\n",
    "    pd.DataFrame(rdata,columns=nlist).to_csv(resfile[:8]+'hz_%s.csv'%resfile[8:-4])"
   ]
  },
  {
   "cell_type": "code",
   "execution_count": null,
   "metadata": {
    "collapsed": true
   },
   "outputs": [],
   "source": []
  }
 ],
 "metadata": {
  "kernelspec": {
   "display_name": "Python 3",
   "language": "python",
   "name": "python3"
  },
  "language_info": {
   "codemirror_mode": {
    "name": "ipython",
    "version": 3
   },
   "file_extension": ".py",
   "mimetype": "text/x-python",
   "name": "python",
   "nbconvert_exporter": "python",
   "pygments_lexer": "ipython3",
   "version": "3.6.1"
  }
 },
 "nbformat": 4,
 "nbformat_minor": 0
}
