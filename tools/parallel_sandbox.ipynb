{
 "cells": [
  {
   "cell_type": "code",
   "execution_count": 4,
   "metadata": {},
   "outputs": [],
   "source": [
    "more ../../planetas/pert50M01a3arch.f"
   ]
  },
  {
   "cell_type": "code",
   "execution_count": 6,
   "metadata": {},
   "outputs": [],
   "source": [
    "cp ../../planetas/pert50M01a3arch.f ."
   ]
  },
  {
   "cell_type": "code",
   "execution_count": 26,
   "metadata": {},
   "outputs": [],
   "source": [
    "import subprocess\n",
    "import multiprocessing\n",
    "\n",
    "def bash_command(cmd):\n",
    "    p=subprocess.Popen(['/bin/bash', '-c', cmd])\n",
    "    output, error = p.communicate()\n",
    "    print output,error"
   ]
  },
  {
   "cell_type": "code",
   "execution_count": 11,
   "metadata": {
    "collapsed": true
   },
   "outputs": [],
   "source": [
    "bash_command('')"
   ]
  },
  {
   "cell_type": "code",
   "execution_count": 14,
   "metadata": {},
   "outputs": [
    {
     "name": "stdout",
     "output_type": "stream",
     "text": [
      "Worker\n",
      "Worker\n",
      "Worker\n",
      "Worker\n",
      "Worker\n",
      "Worker\n"
     ]
    }
   ],
   "source": [
    "import multiprocessing\n",
    "\n",
    "def worker():\n",
    "    \"\"\"worker function\"\"\"\n",
    "    print 'Worker'\n",
    "    return\n",
    "\n",
    "if __name__ == '__main__':\n",
    "    jobs = []\n",
    "    for i in range(5):\n",
    "        p = multiprocessing.Process(target=worker)\n",
    "        jobs.append(p)\n",
    "        p.start()"
   ]
  },
  {
   "cell_type": "code",
   "execution_count": 30,
   "metadata": {},
   "outputs": [
    {
     "name": "stdout",
     "output_type": "stream",
     "text": [
      "Worker\n",
      "Worker\n",
      "Worker: 0\n",
      "Worker: 2\n",
      "Worker: 3\n"
     ]
    }
   ],
   "source": [
    "\n",
    "def worker(num):\n",
    "    \"\"\"thread worker function\"\"\"\n",
    "    print 'Worker:', num\n",
    "    return\n",
    "\n",
    "if __name__ == '__main__':\n",
    "    jobs = []\n",
    "    for i in range(5):\n",
    "        p = multiprocessing.Process(target=worker, args=(i,))\n",
    "        jobs.append(p)\n",
    "        p.start()"
   ]
  },
  {
   "cell_type": "code",
   "execution_count": 32,
   "metadata": {},
   "outputs": [
    {
     "name": "stdout",
     "output_type": "stream",
     "text": [
      "Worker: 2\n",
      "Worker: 3\n",
      "Worker: 4\n",
      "Worker: 0\n",
      "Worker: 1\n",
      "Worker: 2\n",
      "Worker: 3\n"
     ]
    }
   ],
   "source": [
    "jobs = []\n",
    "for i in range(5):\n",
    "    p = multiprocessing.Process(target=worker, args=(i,))\n",
    "    jobs.append(p)\n",
    "    p.start()"
   ]
  },
  {
   "cell_type": "code",
   "execution_count": 15,
   "metadata": {},
   "outputs": [],
   "source": [
    "bash_command('gedit multi.py &')"
   ]
  },
  {
   "cell_type": "code",
   "execution_count": 4,
   "metadata": {},
   "outputs": [
    {
     "name": "stdout",
     "output_type": "stream",
     "text": [
      "100 loops, best of 3: 4.1 ms per loop\n"
     ]
    }
   ],
   "source": [
    "%timeit bash_command('python multi.py')"
   ]
  },
  {
   "cell_type": "code",
   "execution_count": 19,
   "metadata": {},
   "outputs": [
    {
     "name": "stdout",
     "output_type": "stream",
     "text": [
      "100 loops, best of 3: 4.94 ms per loop\n"
     ]
    }
   ],
   "source": [
    "%timeit bash_command('python multi.py')"
   ]
  },
  {
   "cell_type": "code",
   "execution_count": 18,
   "metadata": {},
   "outputs": [
    {
     "name": "stdout",
     "output_type": "stream",
     "text": [
      "100 loops, best of 3: 2.47 ms per loop\n"
     ]
    }
   ],
   "source": [
    "%timeit bash_command('python linear.py')"
   ]
  },
  {
   "cell_type": "code",
   "execution_count": 5,
   "metadata": {
    "collapsed": true
   },
   "outputs": [],
   "source": [
    "bash_command('gedit linear.py &')"
   ]
  },
  {
   "cell_type": "code",
   "execution_count": 16,
   "metadata": {
    "collapsed": true
   },
   "outputs": [],
   "source": [
    "bash_command('python multi.py')"
   ]
  },
  {
   "cell_type": "code",
   "execution_count": 15,
   "metadata": {
    "collapsed": true
   },
   "outputs": [],
   "source": [
    "bash_command('python linear.py')"
   ]
  },
  {
   "cell_type": "code",
   "execution_count": null,
   "metadata": {
    "collapsed": true
   },
   "outputs": [],
   "source": []
  },
  {
   "cell_type": "code",
   "execution_count": 44,
   "metadata": {},
   "outputs": [
    {
     "name": "stdout",
     "output_type": "stream",
     "text": [
      "100000000\n"
     ]
    }
   ],
   "source": [
    "for i in range(100000000):\n",
    "    i=i+1\n",
    "print i"
   ]
  },
  {
   "cell_type": "code",
   "execution_count": 20,
   "metadata": {
    "collapsed": true
   },
   "outputs": [],
   "source": [
    "bash_command('gfortran -o analisis1 analisis1.f')"
   ]
  },
  {
   "cell_type": "code",
   "execution_count": 21,
   "metadata": {
    "collapsed": true
   },
   "outputs": [],
   "source": [
    "bash_command('./analisis1')"
   ]
  },
  {
   "cell_type": "code",
   "execution_count": 27,
   "metadata": {},
   "outputs": [
    {
     "name": "stdout",
     "output_type": "stream",
     "text": [
      "None None\n"
     ]
    }
   ],
   "source": [
    "bash_command('gfortran -o analisis3 analisis3.f; ./analisis3')"
   ]
  },
  {
   "cell_type": "code",
   "execution_count": 24,
   "metadata": {},
   "outputs": [
    {
     "name": "stdout",
     "output_type": "stream",
     "text": [
      "CPU times: user 0 ns, sys: 4 ms, total: 4 ms\n",
      "Wall time: 10.8 ms\n"
     ]
    }
   ],
   "source": [
    "%%time\n",
    "\n",
    "bash_command('gfortran -o analisis1 analisis1.f; ./analisis1')\n",
    "bash_command('gfortran -o analisis2 analisis2.f; ./analisis2')\n",
    "bash_command('gfortran -o analisis3 analisis3.f; ./analisis3')\n",
    "bash_command('gfortran -o analisis4 analisis4.f; ./analisis4')"
   ]
  },
  {
   "cell_type": "code",
   "execution_count": 8,
   "metadata": {
    "collapsed": true
   },
   "outputs": [],
   "source": [
    "f = open('workfile', 'w')"
   ]
  },
  {
   "cell_type": "code",
   "execution_count": 16,
   "metadata": {},
   "outputs": [],
   "source": [
    "f.write(\"sup\")"
   ]
  },
  {
   "cell_type": "code",
   "execution_count": 17,
   "metadata": {
    "collapsed": true
   },
   "outputs": [],
   "source": [
    "f.close()"
   ]
  },
  {
   "cell_type": "code",
   "execution_count": 7,
   "metadata": {
    "collapsed": true
   },
   "outputs": [],
   "source": [
    "\n",
    "\n",
    "import fileinput\n",
    "for line in fileinput.FileInput(\"sis_src.f\",inplace=1):\n",
    "    if line.rstrip():\n",
    "        print line,\n",
    "\n"
   ]
  },
  {
   "cell_type": "code",
   "execution_count": 16,
   "metadata": {},
   "outputs": [
    {
     "name": "stdout",
     "output_type": "stream",
     "text": [
      "53.8839349944\n"
     ]
    }
   ],
   "source": [
    "import fileinput\n",
    "import numpy as np\n",
    "\n",
    "identifier=\"0007\"\n",
    "#ac=58.23233 #44 AU\n",
    "ac=30.\n",
    "ms=1.\n",
    "md=0.01\n",
    "\n",
    "Apert=0.0\n",
    "Fpert=0.3\n",
    "\n",
    "gama=1.\n",
    "cmigI=0.1\n",
    "\n",
    "#metal=2.069580554962158E-002\n",
    "metal=0.0\n",
    "tgas=6859750.19\n",
    "\n",
    "\n",
    "amin=ac*((7/4.-gama)/(2.-gama))**(1./(2-gama))\n",
    "sigmag=(2.-gama)*md*2.e33/(2.*np.pi*(ac*1.5e13)**2.)\n",
    "qc=1.24e5*(amin**(gama-7./4.))*(ac**(-gama))*(ms)*np.exp((amin/ac)**(2.-gama))/sigmag\n",
    "print qc\n",
    "Tfin=\"5.d7 \"\n",
    "\n",
    "\n",
    "\n",
    "f = open('sistemas%s.f'%identifier, 'w')\n",
    "def myreplace(sline,sext,sfor,ffile,found):\n",
    "    if(sline.find(sext)>=0):\n",
    "        ffile.write(sline.replace(sext, sfor)),\n",
    "        return found+1\n",
    "    else:\n",
    "        return found+0\n",
    "for line in fileinput.input(\"sis_src.f\", inplace=False):\n",
    "    found=0\n",
    "    found=myreplace(line,\"$ArchivoSalida\",\"\\\"resultados%s.txt\\\"\"%identifier,f,found)\n",
    "    found=myreplace(line,\"$Emed\",str(md),f,found)\n",
    "    found=myreplace(line,\"$Rcar\",str(ac),f,found)\n",
    "    found=myreplace(line,\"$Emestar\",str(ms),f,found)\n",
    "    found=myreplace(line,\"$Qest\",str(qc),f,found)    \n",
    "    found=myreplace(line,\"$Emetal\",str(metal),f,found) # falta la metalicidad\n",
    "    found=myreplace(line,\"$Taugas\",str(tgas),f,found) # falta el t de disipacion del gas\n",
    "# Fijas    \n",
    "    found=myreplace(line,\"$Gama\",str(gama),f,found)\n",
    "    found=myreplace(line,\"$ConstMigI\",str(cmigI),f,found)\n",
    "# Perturbacion\n",
    "    found=myreplace(line,\"$Apert\",str(Apert),f,found)\n",
    "    found=myreplace(line,\"$Fpert\",str(Fpert),f,found)\n",
    "# Tiempo\n",
    "    found=myreplace(line,\"$Tfin\",str(Tfin),f,found)\n",
    "\n",
    "    if(found==0):\n",
    "        \n",
    "        f.write(line)\n",
    "    # inside this loop the STDOUT will be redirected to the file\n",
    "    # the comma after each print statement is needed to avoid double line breaks\n",
    "\n",
    "#    if(line.find(\"$NombreArchivo\")>=0):\n",
    "#        f.write(line.replace(\"$NombreArchivo\", \"\\\"resultados%s.txt\\\"\"%identifier)),\n",
    "#    else:\n",
    "#        f.write(line)\n",
    "#if(line.find(\"$Apert\")>=0):\n",
    "#        f.write(line.replace(\"$NombreArchivo\", \"\\\"resultados%s.txt\\\"\"%identifier)),\n",
    "#    else:\n",
    "#        f.write(line)\n",
    "    \n",
    "f.close()"
   ]
  },
  {
   "cell_type": "code",
   "execution_count": null,
   "metadata": {
    "collapsed": true
   },
   "outputs": [],
   "source": [
    "identifier=\"0009\"\n",
    "#ac=58.23233 #44 AU\n",
    "ac=30. # cambiar este de 30 a 100 según distrib\n",
    "ms=1.\n",
    "md=0.1\n",
    "\n",
    "# Cambiar A = 0.0\n",
    "# A = 0.1 f = 0.3\n",
    "# A = 0.7 f = 1\n",
    "\n",
    "Apert=0.7 \n",
    "Fpert=1.\n",
    "\n",
    "gama=1.\n",
    "cmigI=0.1\n",
    "\n",
    "#metal=2.069580554962158E-002\n",
    "metal=0.0\n",
    "tgas=6859750.19\n",
    "\n",
    "Tfin=3.e7\n",
    "Verb=True\n",
    "\n",
    "createdotf(identifier,md,ac,ms,metal,tgas,gama,cmigI,Apert,Fpert,Tfin,Verb)"
   ]
  },
  {
   "cell_type": "code",
   "execution_count": 11,
   "metadata": {},
   "outputs": [],
   "source": [
    "########################################\n",
    "# create input data file\n",
    "# input.py\n",
    "########################################\n",
    "# already live\n",
    "########################################\n",
    "import numpy as np\n",
    "\n",
    "#ac=30. # cambiar este de 30 a 100 según distrib\n",
    "ms=1.\n",
    "md=0.1\n",
    "\n",
    "# Cambiar A = 0.0\n",
    "# A = 0.1 f = 0.3\n",
    "# A = 0.7 f = 1\n",
    "\n",
    "Apert=0.7 \n",
    "Fpert=1.\n",
    "\n",
    "gama=1.\n",
    "cmigI=0.1\n",
    "\n",
    "#metal=2.069580554962158E-002\n",
    "metal=0.0\n",
    "tgas=6859750.19\n",
    "\n",
    "Tfin=2.1e7\n",
    "Verb=False\n",
    "\n",
    "acvals=np.linspace(20,50,10)\n",
    "\n",
    "f = open('parameters.in', 'w')\n",
    "f.write(\"md,ac,ms,metal,tgas,gama,cmigI,Apert,Fpert,Tfin,Verb\\n\") \n",
    "for ac in acvals:\n",
    "    amin=ac*((7/4.-gama)/(2.-gama))**(1./(2-gama))\n",
    "    sigmag=(2.-gama)*md*2.e33/(2.*np.pi*(ac*1.5e13)**2.)\n",
    "    qc=1.24e5*(amin**(gama-7./4.))*(ac**(-gama))*(ms)*np.exp((amin/ac)**(2.-gama))/sigmag\n",
    "    if(qc>1):\n",
    "        f.write('%s,%s,%s,%s,%s,%s,%s,%s,%s,%s,%s\\n'%(md,ac,ms,metal,tgas,gama,cmigI,Apert,Fpert,Tfin,Verb)) \n",
    "f.close()\n",
    "    \n",
    "    \n"
   ]
  },
  {
   "cell_type": "code",
   "execution_count": 32,
   "metadata": {},
   "outputs": [
    {
     "name": "stdout",
     "output_type": "stream",
     "text": [
      "(None, None)\n",
      "(None, None)\n",
      "(None, None)\n",
      "(None, None)\n",
      "(None, None)\n",
      "(None, None)\n",
      "(None, None)\n",
      "(None, None)\n",
      "(None, None)\n",
      "(None, None)\n"
     ]
    }
   ],
   "source": [
    "######################################\n",
    "# MAIN PROGRAM\n",
    "# creates compilable FORTRAN code\n",
    "# based on parameter.in and sis_src.f\n",
    "# compiles and executes it in parallel\n",
    "######################################\n",
    "\n",
    "import fileinput\n",
    "import numpy as np\n",
    "import pandas as pd\n",
    "import os\n",
    "import subprocess\n",
    "from multiprocessing.dummy import Pool as ThreadPool\n",
    "\n",
    "######################################\n",
    "# executes bash commands and \n",
    "# communicates output (None,None)\n",
    "######################################\n",
    "def bash_command(cmd):\n",
    "    p=subprocess.Popen(['/bin/bash', '-c', cmd])\n",
    "    print p.communicate()\n",
    "\n",
    "\n",
    "######################################\n",
    "# converts numeric values to fortran's\n",
    "# double precision format\n",
    "######################################\n",
    "def givedouble(var):\n",
    "    return (\"%.1e\"%var).replace(\"e\",\"d\")\n",
    "\n",
    "#####################################\n",
    "# replaces text inline for a specific\n",
    "# search string (sext->sfor) in ffile\n",
    "#####################################\n",
    "def myreplace(sline,sext,sfor,ffile,found):\n",
    "    if(sline.find(sext)>=0):\n",
    "        ffile.write(sline.replace(sext, sfor)),\n",
    "        return found+1\n",
    "    else:\n",
    "        return found+0\n",
    "\n",
    "######################################\n",
    "# creates compilable fortran code from\n",
    "# the source code in sis_src.f and our\n",
    "# input parameters passed by the main\n",
    "# program but generated by input.py\n",
    "######################################\n",
    "def createdotf(pars):\n",
    "    identifier,fname,fstring,md,ac,ms,metal,tgas,gama,cmigI,Apert,Fpert,Tfin,Verb = pars\n",
    "\n",
    "# calculates toomre q (stability criterion is q>1)\n",
    "    amin=ac*((7/4.-gama)/(2.-gama))**(1./(2-gama))\n",
    "    sigmag=(2.-gama)*md*2.e33/(2.*np.pi*(ac*1.5e13)**2.)\n",
    "    qc=1.24e5*(amin**(gama-7./4.))*(ac**(-gama))*(ms)*np.exp((amin/ac)**(2.-gama))/sigmag\n",
    "# convert input to fortran formatting\n",
    "    cmigI=givedouble(cmigI)\n",
    "    Fpert=givedouble(Fpert)\n",
    "    md=givedouble(md)\n",
    "    Tfin=givedouble(Tfin)\n",
    "    Verb=\".%s.\"%str(Verb).upper()\n",
    "# checks for disk stability, it shouldn't be a problem if parameter.in is obtained from input.py   \n",
    "    if(qc >= 1.):\n",
    "        f = open(fstring+fname+'%s.f'%identifier, 'w')\n",
    "        for line in fileinput.input(\"sis_src.f\", inplace=False):\n",
    "            found=0\n",
    "    # output filenames (do not change, rescortos is called by pastefiles.sh):\n",
    "    # resultados - log time evolution (only when verbose=true)\n",
    "    # rescortos - default results\n",
    "    # gigantes - info for giant planet formation\n",
    "            found=myreplace(line,\"$ArchivoSalida\",\"\\\"\"+fstring+\"resultados%s.txt\\\"\"%identifier,f,found)\n",
    "            found=myreplace(line,\"$SalidaCorta\",\"\\\"\"+fstring+\"rescortos%s.txt\\\"\"%identifier,f,found)\n",
    "            found=myreplace(line,\"$Gigantes\",\"\\\"\"+fstring+\"gigantes%s.txt\\\"\"%identifier,f,found)\n",
    "    # simulation parameters:\n",
    "    # disk mass\n",
    "    # characteristic radius (disk)\n",
    "    # stellar mass\n",
    "    # toomre q parameter\n",
    "    # metallicity\n",
    "    # gas dissipation timescale\n",
    "            found=myreplace(line,\"$Emed\",str(md),f,found)\n",
    "            found=myreplace(line,\"$Rcar\",str(ac),f,found)\n",
    "            found=myreplace(line,\"$Emestar\",str(ms),f,found)\n",
    "            found=myreplace(line,\"$Qest\",str(qc),f,found)    \n",
    "            found=myreplace(line,\"$Emetal\",str(metal),f,found) \n",
    "            found=myreplace(line,\"$Taugas\",str(tgas),f,found) \n",
    "    # sort-of-fixed parameters:\n",
    "    # power law profile for surface density\n",
    "    # type I migration parameter\n",
    "            found=myreplace(line,\"$Gama\",str(gama),f,found)\n",
    "            found=myreplace(line,\"$ConstMigI\",str(cmigI),f,found)\n",
    "    # perturbation parameters:\n",
    "    # amplitude\n",
    "    # length scale\n",
    "            found=myreplace(line,\"$Apert\",str(Apert),f,found)\n",
    "            found=myreplace(line,\"$Fpert\",str(Fpert),f,found)\n",
    "    # simulation timescale\n",
    "            found=myreplace(line,\"$Tfin\",str(Tfin),f,found)\n",
    "    # true for verbose output (log-time evolution)        \n",
    "            found=myreplace(line,\"$Verb\",str(Verb),f,found)\n",
    "    # add identifier to output\n",
    "            found=myreplace(line,\"$Identifier\",str(identifier),f,found)\n",
    "            if(found==0):\n",
    "                f.write(line)\n",
    "        f.close()\n",
    "# writes simulation parameters into info file    \n",
    "    finfo = open(fstring+'info%s.txt'%identifier, 'w')\n",
    "    firstline=\"%s, %s, %s, %s, %s, %s, %s, %s, %s, %s, %s, %s\\n\\n\" % (identifier,md,ac,ms,metal,tgas,gama,cmigI,Apert,Fpert,Tfin,Verb)\n",
    "    finfo.write(firstline)\n",
    "    finfo.write(\"Identifier...............................%s\\n\"%identifier)\n",
    "    finfo.write(\"Disk Mass (M_sun)........................%s\\n\"%md)\n",
    "    finfo.write(\"Critical Radius (AU).....................%s\\n\"%ac)\n",
    "    finfo.write(\"Stellar Mass (M_sun).....................%s\\n\"%ms)\n",
    "    finfo.write(\"Metallicity (log Fe/H)_*/(log Fe/H)_sun..%s\\n\"%metal)\n",
    "    finfo.write(\"Gas depletion timescale (yr).............%s\\n\"%tgas)\n",
    "    finfo.write(\"Gamma (density profile power law)........%s\\n\"%gama)\n",
    "    finfo.write(\"Type I Migration Coefficient.............%s\\n\"%cmigI)\n",
    "    finfo.write(\"Perturbation Amplitude...................%s\\n\"%Apert)\n",
    "    finfo.write(\"Perturbation length scale................%s\\n\"%Fpert)\n",
    "    finfo.write(\"Simulation timescale (yr)................%s\\n\"%Tfin)\n",
    "    finfo.write(\"Verbose results?.........................%s\\n\"%Verb)\n",
    "    finfo.write(\"Toomre Q.................................%s\\n\"%qc)\n",
    "    finfo.close()\n",
    "    \n",
    "#   reads from parameter.in, which should be generated from input.py\n",
    "df=pd.read_csv('parameters.in')\n",
    "\n",
    "cstring1 = 'gfortran -o' # compiler+flags\n",
    "fname = 'qsistemas' # file names\n",
    "cstring3 = '.f; ./' # extensions (do not change)\n",
    "fstring  = 'results/' # folder for .f sources, executables and results (do not change, req. by pastefiles.sh)\n",
    "\n",
    "# creates work folder\n",
    "if not os.path.exists(fstring):\n",
    "    os.makedirs(fstring)\n",
    "\n",
    "nsys=len(df) # number of simulations\n",
    "myfill=int(np.log10(nsys)+1) # with zfill, generate identifier for each simulation\n",
    "lidr=[]\n",
    "inst=[]\n",
    "for icoun in range(nsys):\n",
    "    idr=str(icoun).zfill(myfill)\n",
    "    pars=tuple([idr]+[fname]+[fstring]+df.iloc[icoun].values.tolist()) # parameters for createdotf function\n",
    "    createdotf(pars)\n",
    "    pname=fname+idr    \n",
    "    inst.append(cstring1+2*(' '+fstring+pname)+cstring3+fstring+pname) # generate instructions for bash_command function\n",
    "    \n",
    "# create header for csv (do not change filename, req. by pastefiles.sh)\n",
    "hfile=open(fstring+'header.txt', 'w')\n",
    "hfile.write('ident,it,t,a(i),emegas(i),emepla(i)/emet,rplanet(i)/radtie,emestar,rc,qest,sigmag_0,emed,gama,apert,fpert,constmigI,emetal,taugas\\n') \n",
    "hfile.close()\n",
    "\n",
    "# parallel parsing of instructions (compile+execute from synthetic .f sources) to pool of workers\n",
    "pool = ThreadPool(3)\n",
    "results=pool.map(bash_command,inst)\n",
    "pool.close()\n",
    "pool.join()\n",
    "\n",
    "# open parameters in sis_src.f:\n",
    "# lsnr : number of log time snapshots for verbose output (500 yields about 2-5 MB)\n",
    "# dt: timestep in years (default to 100)\n",
    "\n",
    "# todo:\n",
    "# perturbation only works for the dust - maybe add gas perturbation?\n",
    "# gas envelope is automatically dissipated after a collision (look for eme1 and eme2) - modulate better?\n",
    "# make a verbose option for giant planets\n",
    "# resultados files go up tfin in parameters.in, but if verbose=false this is overkill (curb tfin to 101% in src?)\n",
    "# auto check empty files and communicate in paste bash script\n",
    "\n",
    "# bugs:\n",
    "# not so much a bug, but old input is not trustworthy, as the q condition was not calculated properly\n",
    "# i for kk in planet dissapearance when w > wcrit, caused whole systems to disappear due to bad indexing\n",
    "# massive removal of runtime errors due to segfaults (april '16)\n",
    "\n",
    "# notes:\n",
    "## an empty rescortos file (quite possibly) happens because of migration + collisions (loss of env) + dissasembly due to high L\n",
    "#  when this happens, check gigantes file for giant planet formation + migration\n",
    "## sis_src outputs at 2e7 yr for rescortos by default\n",
    "## compiler options for segfault debugging w gdb: gfortran -g -fbacktrace -ffpe-trap=zero,overflow,underflow sistemasII.f \n"
   ]
  },
  {
   "cell_type": "code",
   "execution_count": 13,
   "metadata": {},
   "outputs": [
    {
     "data": {
      "text/plain": [
       "['gfortran -o results/qsistemas00 results/qsistemas00.f; ./results/qsistemas00',\n",
       " 'gfortran -o results/qsistemas01 results/qsistemas01.f; ./results/qsistemas01',\n",
       " 'gfortran -o results/qsistemas02 results/qsistemas02.f; ./results/qsistemas02',\n",
       " 'gfortran -o results/qsistemas03 results/qsistemas03.f; ./results/qsistemas03',\n",
       " 'gfortran -o results/qsistemas04 results/qsistemas04.f; ./results/qsistemas04',\n",
       " 'gfortran -o results/qsistemas05 results/qsistemas05.f; ./results/qsistemas05',\n",
       " 'gfortran -o results/qsistemas06 results/qsistemas06.f; ./results/qsistemas06',\n",
       " 'gfortran -o results/qsistemas07 results/qsistemas07.f; ./results/qsistemas07',\n",
       " 'gfortran -o results/qsistemas08 results/qsistemas08.f; ./results/qsistemas08',\n",
       " 'gfortran -o results/qsistemas09 results/qsistemas09.f; ./results/qsistemas09']"
      ]
     },
     "execution_count": 13,
     "metadata": {},
     "output_type": "execute_result"
    }
   ],
   "source": [
    "inst"
   ]
  },
  {
   "cell_type": "code",
   "execution_count": 15,
   "metadata": {},
   "outputs": [
    {
     "data": {
      "text/plain": [
       "8"
      ]
     },
     "execution_count": 15,
     "metadata": {},
     "output_type": "execute_result"
    }
   ],
   "source": [
    "from multiprocessing import cpu_count\n",
    "cpu_count()"
   ]
  },
  {
   "cell_type": "code",
   "execution_count": 27,
   "metadata": {},
   "outputs": [],
   "source": [
    "df=pd.read_csv(\"results/rescortos00.txt\",names=['ident','it','t','a(i)','emegas(i)','emepla(i)/emet', 'rplanet(i)/radtie','emestar','rc','qest','sigmag_0', 'emed','gama','apert','fpert','constmigI','emetal','taugas'])"
   ]
  },
  {
   "cell_type": "code",
   "execution_count": 3,
   "metadata": {},
   "outputs": [],
   "source": [
    "import pandas as pd\n",
    "dfr=pd.read_csv(\"finalresults.csv\")"
   ]
  },
  {
   "cell_type": "code",
   "execution_count": 4,
   "metadata": {},
   "outputs": [
    {
     "data": {
      "text/html": [
       "<div>\n",
       "<table border=\"1\" class=\"dataframe\">\n",
       "  <thead>\n",
       "    <tr style=\"text-align: right;\">\n",
       "      <th></th>\n",
       "      <th>ident</th>\n",
       "      <th>it</th>\n",
       "      <th>t</th>\n",
       "      <th>a(i)</th>\n",
       "      <th>emegas(i)</th>\n",
       "      <th>emepla(i)/emet</th>\n",
       "      <th>rplanet(i)/radtie</th>\n",
       "      <th>emestar</th>\n",
       "      <th>rc</th>\n",
       "      <th>qest</th>\n",
       "      <th>sigmag_0</th>\n",
       "      <th>emed</th>\n",
       "      <th>gama</th>\n",
       "      <th>apert</th>\n",
       "      <th>fpert</th>\n",
       "      <th>constmigI</th>\n",
       "      <th>emetal</th>\n",
       "      <th>taugas</th>\n",
       "    </tr>\n",
       "  </thead>\n",
       "  <tbody>\n",
       "    <tr>\n",
       "      <th>0</th>\n",
       "      <td>0</td>\n",
       "      <td>199400</td>\n",
       "      <td>20000001.0</td>\n",
       "      <td>3.738329</td>\n",
       "      <td>0.0</td>\n",
       "      <td>3.319078</td>\n",
       "      <td>2.2939688215994427</td>\n",
       "      <td>1.592302e+33</td>\n",
       "      <td>58.23233</td>\n",
       "      <td>5.017441</td>\n",
       "      <td>41.719517</td>\n",
       "      <td>0.1</td>\n",
       "      <td>1.0</td>\n",
       "      <td>0.0</td>\n",
       "      <td>1.0</td>\n",
       "      <td>0.1</td>\n",
       "      <td>0.020696</td>\n",
       "      <td>6859750.0</td>\n",
       "    </tr>\n",
       "    <tr>\n",
       "      <th>1</th>\n",
       "      <td>0</td>\n",
       "      <td>199400</td>\n",
       "      <td>20000001.0</td>\n",
       "      <td>5.699879</td>\n",
       "      <td>0.0</td>\n",
       "      <td>2.567223</td>\n",
       "      <td>2.1067245627859990</td>\n",
       "      <td>1.592302e+33</td>\n",
       "      <td>58.23233</td>\n",
       "      <td>5.017441</td>\n",
       "      <td>41.719517</td>\n",
       "      <td>0.1</td>\n",
       "      <td>1.0</td>\n",
       "      <td>0.0</td>\n",
       "      <td>1.0</td>\n",
       "      <td>0.1</td>\n",
       "      <td>0.020696</td>\n",
       "      <td>6859750.0</td>\n",
       "    </tr>\n",
       "    <tr>\n",
       "      <th>2</th>\n",
       "      <td>0</td>\n",
       "      <td>199400</td>\n",
       "      <td>20000001.0</td>\n",
       "      <td>7.993052</td>\n",
       "      <td>0.0</td>\n",
       "      <td>1.427370</td>\n",
       "      <td>1.7330081096503582</td>\n",
       "      <td>1.592302e+33</td>\n",
       "      <td>58.23233</td>\n",
       "      <td>5.017441</td>\n",
       "      <td>41.719517</td>\n",
       "      <td>0.1</td>\n",
       "      <td>1.0</td>\n",
       "      <td>0.0</td>\n",
       "      <td>1.0</td>\n",
       "      <td>0.1</td>\n",
       "      <td>0.020696</td>\n",
       "      <td>6859750.0</td>\n",
       "    </tr>\n",
       "    <tr>\n",
       "      <th>3</th>\n",
       "      <td>0</td>\n",
       "      <td>199400</td>\n",
       "      <td>20000001.0</td>\n",
       "      <td>9.694654</td>\n",
       "      <td>0.0</td>\n",
       "      <td>1.085355</td>\n",
       "      <td>1.5823793674824944</td>\n",
       "      <td>1.592302e+33</td>\n",
       "      <td>58.23233</td>\n",
       "      <td>5.017441</td>\n",
       "      <td>41.719517</td>\n",
       "      <td>0.1</td>\n",
       "      <td>1.0</td>\n",
       "      <td>0.0</td>\n",
       "      <td>1.0</td>\n",
       "      <td>0.1</td>\n",
       "      <td>0.020696</td>\n",
       "      <td>6859750.0</td>\n",
       "    </tr>\n",
       "    <tr>\n",
       "      <th>4</th>\n",
       "      <td>0</td>\n",
       "      <td>199400</td>\n",
       "      <td>20000001.0</td>\n",
       "      <td>10.925776</td>\n",
       "      <td>0.0</td>\n",
       "      <td>0.908518</td>\n",
       "      <td>1.4914329559574093</td>\n",
       "      <td>1.592302e+33</td>\n",
       "      <td>58.23233</td>\n",
       "      <td>5.017441</td>\n",
       "      <td>41.719517</td>\n",
       "      <td>0.1</td>\n",
       "      <td>1.0</td>\n",
       "      <td>0.0</td>\n",
       "      <td>1.0</td>\n",
       "      <td>0.1</td>\n",
       "      <td>0.020696</td>\n",
       "      <td>6859750.0</td>\n",
       "    </tr>\n",
       "  </tbody>\n",
       "</table>\n",
       "</div>"
      ],
      "text/plain": [
       "   ident      it           t       a(i)  emegas(i)  emepla(i)/emet  \\\n",
       "0      0  199400  20000001.0   3.738329        0.0        3.319078   \n",
       "1      0  199400  20000001.0   5.699879        0.0        2.567223   \n",
       "2      0  199400  20000001.0   7.993052        0.0        1.427370   \n",
       "3      0  199400  20000001.0   9.694654        0.0        1.085355   \n",
       "4      0  199400  20000001.0  10.925776        0.0        0.908518   \n",
       "\n",
       "             rplanet(i)/radtie       emestar        rc      qest   sigmag_0  \\\n",
       "0     2.2939688215994427        1.592302e+33  58.23233  5.017441  41.719517   \n",
       "1     2.1067245627859990        1.592302e+33  58.23233  5.017441  41.719517   \n",
       "2     1.7330081096503582        1.592302e+33  58.23233  5.017441  41.719517   \n",
       "3     1.5823793674824944        1.592302e+33  58.23233  5.017441  41.719517   \n",
       "4     1.4914329559574093        1.592302e+33  58.23233  5.017441  41.719517   \n",
       "\n",
       "   emed  gama  apert  fpert  constmigI    emetal     taugas  \n",
       "0   0.1   1.0    0.0    1.0        0.1  0.020696  6859750.0  \n",
       "1   0.1   1.0    0.0    1.0        0.1  0.020696  6859750.0  \n",
       "2   0.1   1.0    0.0    1.0        0.1  0.020696  6859750.0  \n",
       "3   0.1   1.0    0.0    1.0        0.1  0.020696  6859750.0  \n",
       "4   0.1   1.0    0.0    1.0        0.1  0.020696  6859750.0  "
      ]
     },
     "execution_count": 4,
     "metadata": {},
     "output_type": "execute_result"
    }
   ],
   "source": [
    "dfr.head()"
   ]
  },
  {
   "cell_type": "code",
   "execution_count": 6,
   "metadata": {},
   "outputs": [
    {
     "data": {
      "text/plain": [
       "660"
      ]
     },
     "execution_count": 6,
     "metadata": {},
     "output_type": "execute_result"
    }
   ],
   "source": [
    "len(np.unique(dfr.ident))"
   ]
  },
  {
   "cell_type": "code",
   "execution_count": 7,
   "metadata": {},
   "outputs": [
    {
     "data": {
      "image/png": "[encoded data removed]",
      "text/plain": [
       "<matplotlib.figure.Figure at 0x7f8c29b4a450>"
      ]
     },
     "metadata": {},
     "output_type": "display_data"
    }
   ],
   "source": [
    "import matplotlib.pyplot as plt\n",
    "%matplotlib inline\n",
    "plt.scatter(dfr['a(i)'],dfr['emepla(i)/emet'],c=dfr.rc,alpha=0.5)\n",
    "plt.colorbar()\n",
    "plt.show()"
   ]
  },
  {
   "cell_type": "code",
   "execution_count": null,
   "metadata": {
    "collapsed": true
   },
   "outputs": [],
   "source": []
  },
  {
   "cell_type": "markdown",
   "metadata": {
    "collapsed": true
   },
   "source": [
    "# For creating .f only"
   ]
  },
  {
   "cell_type": "code",
   "execution_count": 1,
   "metadata": {
    "collapsed": true
   },
   "outputs": [],
   "source": [
    "######################################\n",
    "# MAIN PROGRAM\n",
    "# creates compilable FORTRAN code\n",
    "# based on parameter.in and sis_src.f\n",
    "# compiles and executes it in parallel\n",
    "######################################\n",
    "\n",
    "import fileinput\n",
    "import numpy as np\n",
    "import pandas as pd\n",
    "import os\n",
    "import subprocess\n",
    "from multiprocessing.dummy import Pool as ThreadPool\n",
    "\n",
    "######################################\n",
    "# executes bash commands and \n",
    "# communicates output (None,None)\n",
    "######################################\n",
    "def bash_command(cmd):\n",
    "    p=subprocess.Popen(['/bin/bash', '-c', cmd])\n",
    "    print p.communicate()\n",
    "\n",
    "\n",
    "######################################\n",
    "# converts numeric values to fortran's\n",
    "# double precision format\n",
    "######################################\n",
    "def givedouble(var):\n",
    "    return (\"%.1e\"%var).replace(\"e\",\"d\")\n",
    "\n",
    "#####################################\n",
    "# replaces text inline for a specific\n",
    "# search string (sext->sfor) in ffile\n",
    "#####################################\n",
    "def myreplace(sline,sext,sfor,ffile,found):\n",
    "    if(sline.find(sext)>=0):\n",
    "        ffile.write(sline.replace(sext, sfor)),\n",
    "        return found+1\n",
    "    else:\n",
    "        return found+0\n",
    "\n",
    "######################################\n",
    "# creates compilable fortran code from\n",
    "# the source code in sis_src.f and our\n",
    "# input parameters passed by the main\n",
    "# program but generated by input.py\n",
    "######################################\n",
    "def createdotf(pars):\n",
    "    identifier,fname,fstring,md,ac,ms,metal,tgas,gama,cmigI,Apert,Fpert,Tfin,Verb = pars\n",
    "\n",
    "# calculates toomre q (stability criterion is q>1)\n",
    "    amin=ac*((7/4.-gama)/(2.-gama))**(1./(2-gama))\n",
    "    sigmag=(2.-gama)*md*2.e33/(2.*np.pi*(ac*1.5e13)**2.)\n",
    "    qc=1.24e5*(amin**(gama-7./4.))*(ac**(-gama))*(ms)*np.exp((amin/ac)**(2.-gama))/sigmag\n",
    "# convert input to fortran formatting\n",
    "    cmigI=givedouble(cmigI)\n",
    "    Fpert=givedouble(Fpert)\n",
    "    md=givedouble(md)\n",
    "    Tfin=givedouble(Tfin)\n",
    "    Verb=\".%s.\"%str(Verb).upper()\n",
    "# checks for disk stability, it shouldn't be a problem if parameter.in is obtained from input.py   \n",
    "    if(qc >= 1.):\n",
    "        f = open(fstring+fname+'%s.f'%identifier, 'w')\n",
    "        for line in fileinput.input(\"sis_src.f\", inplace=False):\n",
    "            found=0\n",
    "    # output filenames (do not change, rescortos is called by pastefiles.sh):\n",
    "    # resultados - log time evolution (only when verbose=true)\n",
    "    # rescortos - default results\n",
    "    # gigantes - info for giant planet formation\n",
    "            found=myreplace(line,\"$ArchivoSalida\",\"\\\"\"+fstring+\"resultados%s.txt\\\"\"%identifier,f,found)\n",
    "            found=myreplace(line,\"$SalidaCorta\",\"\\\"\"+fstring+\"rescortos%s.txt\\\"\"%identifier,f,found)\n",
    "            found=myreplace(line,\"$Gigantes\",\"\\\"\"+fstring+\"gigantes%s.txt\\\"\"%identifier,f,found)\n",
    "    # simulation parameters:\n",
    "    # disk mass\n",
    "    # characteristic radius (disk)\n",
    "    # stellar mass\n",
    "    # toomre q parameter\n",
    "    # metallicity\n",
    "    # gas dissipation timescale\n",
    "            found=myreplace(line,\"$Emed\",str(md),f,found)\n",
    "            found=myreplace(line,\"$Rcar\",str(ac),f,found)\n",
    "            found=myreplace(line,\"$Emestar\",str(ms),f,found)\n",
    "            found=myreplace(line,\"$Qest\",str(qc),f,found)    \n",
    "            found=myreplace(line,\"$Emetal\",str(metal),f,found) \n",
    "            found=myreplace(line,\"$Taugas\",str(tgas),f,found) \n",
    "    # sort-of-fixed parameters:\n",
    "    # power law profile for surface density\n",
    "    # type I migration parameter\n",
    "            found=myreplace(line,\"$Gama\",str(gama),f,found)\n",
    "            found=myreplace(line,\"$ConstMigI\",str(cmigI),f,found)\n",
    "    # perturbation parameters:\n",
    "    # amplitude\n",
    "    # length scale\n",
    "            found=myreplace(line,\"$Apert\",str(Apert),f,found)\n",
    "            found=myreplace(line,\"$Fpert\",str(Fpert),f,found)\n",
    "    # simulation timescale\n",
    "            found=myreplace(line,\"$Tfin\",str(Tfin),f,found)\n",
    "    # true for verbose output (log-time evolution)        \n",
    "            found=myreplace(line,\"$Verb\",str(Verb),f,found)\n",
    "    # add identifier to output\n",
    "            found=myreplace(line,\"$Identifier\",str(identifier),f,found)\n",
    "            if(found==0):\n",
    "                f.write(line)\n",
    "        f.close()\n",
    "# writes simulation parameters into info file    \n",
    "    finfo = open(fstring+'info%s.txt'%identifier, 'w')\n",
    "    firstline=\"%s, %s, %s, %s, %s, %s, %s, %s, %s, %s, %s, %s\\n\\n\" % (identifier,md,ac,ms,metal,tgas,gama,cmigI,Apert,Fpert,Tfin,Verb)\n",
    "    finfo.write(firstline)\n",
    "    finfo.write(\"Identifier...............................%s\\n\"%identifier)\n",
    "    finfo.write(\"Disk Mass (M_sun)........................%s\\n\"%md)\n",
    "    finfo.write(\"Critical Radius (AU).....................%s\\n\"%ac)\n",
    "    finfo.write(\"Stellar Mass (M_sun).....................%s\\n\"%ms)\n",
    "    finfo.write(\"Metallicity (log Fe/H)_*/(log Fe/H)_sun..%s\\n\"%metal)\n",
    "    finfo.write(\"Gas depletion timescale (yr).............%s\\n\"%tgas)\n",
    "    finfo.write(\"Gamma (density profile power law)........%s\\n\"%gama)\n",
    "    finfo.write(\"Type I Migration Coefficient.............%s\\n\"%cmigI)\n",
    "    finfo.write(\"Perturbation Amplitude...................%s\\n\"%Apert)\n",
    "    finfo.write(\"Perturbation length scale................%s\\n\"%Fpert)\n",
    "    finfo.write(\"Simulation timescale (yr)................%s\\n\"%Tfin)\n",
    "    finfo.write(\"Verbose results?.........................%s\\n\"%Verb)\n",
    "    finfo.write(\"Toomre Q.................................%s\\n\"%qc)\n",
    "    finfo.close()\n",
    "    \n",
    "#   reads from parameter.in, which should be generated from input.py\n",
    "df=pd.read_csv('parameters.in')\n",
    "\n",
    "cstring1 = 'gfortran -o' # compiler+flags\n",
    "fname = 'qsistemas' # file names\n",
    "cstring3 = '.f; ./' # extensions (do not change)\n",
    "fstring  = 'results/' # folder for .f sources, executables and results (do not change, req. by pastefiles.sh)\n",
    "\n",
    "# creates work folder\n",
    "if not os.path.exists(fstring):\n",
    "    os.makedirs(fstring)\n",
    "\n",
    "nsys=len(df) # number of simulations\n",
    "myfill=int(np.log10(nsys)+1) # with zfill, generate identifier for each simulation\n",
    "lidr=[]\n",
    "inst=[]\n",
    "for icoun in range(nsys):\n",
    "    idr=str(icoun).zfill(myfill)\n",
    "    pars=tuple([idr]+[fname]+[fstring]+df.iloc[icoun].values.tolist()) # parameters for createdotf function\n",
    "    createdotf(pars)\n",
    "    pname=fname+idr    \n",
    "    inst.append(cstring1+2*(' '+fstring+pname)+cstring3+fstring+pname) # generate instructions for bash_command function\n",
    "\n"
   ]
  },
  {
   "cell_type": "code",
   "execution_count": 2,
   "metadata": {},
   "outputs": [
    {
     "data": {
      "text/plain": [
       "'gfortran -o results/qsistemas0127 results/qsistemas0127.f; ./results/qsistemas0127'"
      ]
     },
     "execution_count": 2,
     "metadata": {},
     "output_type": "execute_result"
    }
   ],
   "source": [
    "inst[127]"
   ]
  },
  {
   "cell_type": "code",
   "execution_count": null,
   "metadata": {
    "collapsed": true
   },
   "outputs": [],
   "source": [
    "df"
   ]
  },
  {
   "cell_type": "code",
   "execution_count": 8,
   "metadata": {},
   "outputs": [],
   "source": [
    "fin=np.loadtxt(\"finished.txt\")"
   ]
  },
  {
   "cell_type": "code",
   "execution_count": 9,
   "metadata": {
    "collapsed": true
   },
   "outputs": [],
   "source": [
    "tot=np.loadtxt(\"totalsims.txt\")"
   ]
  },
  {
   "cell_type": "code",
   "execution_count": 10,
   "metadata": {
    "collapsed": true
   },
   "outputs": [],
   "source": [
    "cre=np.loadtxt(\"createdfiles.txt\")"
   ]
  },
  {
   "cell_type": "code",
   "execution_count": 9,
   "metadata": {
    "collapsed": true
   },
   "outputs": [],
   "source": [
    "cre_f=\"createdfiles.txt\""
   ]
  },
  {
   "cell_type": "code",
   "execution_count": 17,
   "metadata": {},
   "outputs": [
    {
     "data": {
      "text/plain": [
       "'ls yamrun.o* | xargs cat | grep -o -P  \".{0,31}run\" | sort -n | awk \\'{print $1}\\' | uniq >finished.txt'"
      ]
     },
     "execution_count": 17,
     "metadata": {},
     "output_type": "execute_result"
    }
   ],
   "source": [
    "rname=\"yamrun\"\n",
    "\"ls \"+rname+\".o* | xargs cat | grep -o -P  \\\".{0,31}run\\\" | sort -n | awk '{print $1}' | uniq > \"+fin_f"
   ]
  },
  {
   "cell_type": "code",
   "execution_count": 5,
   "metadata": {},
   "outputs": [
    {
     "name": "stdout",
     "output_type": "stream",
     "text": [
      "*****************************\n",
      "Planned simulations = 1084\n",
      "Saved to totalsims.txt\n",
      "*****************************\n",
      "Not executed (interrupted) = 176\n",
      "Saved to notexec.txt\n",
      "*****************************\n",
      "Executed but interrupted (or error) = 38\n",
      "Saved to intorerr.txt\n",
      "*****************************\n",
      "Successful simulations (finished) = 870\n",
      "Saved to finished.txt\n",
      "*****************************\n",
      "Sanity check, PS=NE+IE+FS: 1084 = 1084\n",
      "*****************************\n",
      "Failed systems (no planets formed) = 9\n",
      "Saved to failedsys.txt\n",
      "*****************************\n"
     ]
    }
   ],
   "source": [
    "# Quick code for evaluating quality of simulations\n",
    "import numpy as np\n",
    "import subprocess\n",
    "import sys\n",
    "\n",
    "def bash_command(cmd):\n",
    "    p=subprocess.Popen(['/bin/bash', '-c', cmd])\n",
    "    print p.communicate()\n",
    "\n",
    "rname=str(sys.argv[0])    \n",
    "cre_f=\"createdfiles.txt\"\n",
    "cre_cmd=\"ls -lt results/rescortos* | tac | awk '{print $9\" \" $5}' | cut -c18- | sort -n | sed s/\\\".txt\\\"//g > \"+cre_f\n",
    "tot_f=\"totalsims.txt\"\n",
    "tot_cmd=\"ls results/info* | xargs -n1 | cut -c13- | sed s/\\\".txt\\\"// > \"+tot_f\n",
    "fin_f=\"finished.txt\"\n",
    "fin_cmd=\"ls \"+rname+\".o* | xargs cat | grep -o -P  \\\".{0,31}run\\\" | sort -n | awk '{print $1}' | uniq > \"+fin_f\n",
    "bash_command(cre_f)\n",
    "bash_command(tot_cmd)\n",
    "bash_command(fin_f)\n",
    "\n",
    "\n",
    "cre=np.loadtxt(cre_f)\n",
    "tot=np.loadtxt(tot_f)\n",
    "fin=np.loadtxt(fin_f)\n",
    "print \"*****************************\"\n",
    "print \"Planned simulations = \"+str(tot.shape[0])\n",
    "print \"Saved to \"+tot_f\n",
    "print \"*****************************\"\n",
    "ne=tot[np.logical_not(np.in1d(tot,cre[:,0]))] # not executed\n",
    "ne_f=\"notexec.txt\"\n",
    "np.savetxt(ne_f,ne,fmt=\"%4i\")\n",
    "print \"Not executed (interrupted) = \"+str(ne.shape[0])\n",
    "print \"Saved to \"+ne_f\n",
    "print \"*****************************\"\n",
    "ioe=cre[np.logical_not(np.in1d(cre[:,0],fin))][:,0] # executed but not finished - interrupted or error\n",
    "ioe_f=\"intorerr.txt\"\n",
    "np.savetxt(ioe_f,ioe,fmt=\"%4i\")\n",
    "print \"Executed but interrupted (or error) = \"+str(ioe.shape[0])\n",
    "print \"Saved to \"+ioe_f\n",
    "print \"*****************************\"\n",
    "print \"Successful simulations (finished) = \"+str(fin.shape[0])\n",
    "print \"Saved to \"+fin_f\n",
    "print \"*****************************\"\n",
    "print \"Sanity check, PS=NE+IE+FS: \"+str(tot.shape[0])+\" = \"+str(ne.shape[0]+ioe.shape[0]+fin.shape[0])\n",
    "print \"*****************************\"\n",
    "ef=cre[cre[:,1]==0][:,0] # empty files\n",
    "fs=ef[np.logical_not(np.in1d(ef,ioe))] # failed systems\n",
    "fs_f=\"failedsys.txt\"\n",
    "np.savetxt(fs_f,fs,fmt=\"%4i\")\n",
    "print \"Failed systems (no planets formed) = \"+str(fs.shape[0])\n",
    "print \"Saved to \"+fs_f\n",
    "print \"*****************************\"\n"
   ]
  },
  {
   "cell_type": "code",
   "execution_count": 1,
   "metadata": {
    "collapsed": true
   },
   "outputs": [],
   "source": [
    "######################################\n",
    "# MAIN PROGRAM\n",
    "# creates compilable FORTRAN code\n",
    "# based on parameter.in and sis_src.f\n",
    "# compiles and executes it in parallel\n",
    "######################################\n",
    "\n",
    "import fileinput\n",
    "import numpy as np\n",
    "import pandas as pd\n",
    "import os\n",
    "import subprocess\n",
    "from multiprocessing.dummy import Pool as ThreadPool\n",
    "\n",
    "######################################\n",
    "# executes bash commands and \n",
    "# communicates output (None,None)\n",
    "######################################\n",
    "def bash_command(cmd):\n",
    "    p=subprocess.Popen(['/bin/bash', '-c', cmd],stderr=subprocess.PIPE)\n",
    "    print p.communicate(),cmd\n",
    "\n",
    "######################################\n",
    "# converts numeric values to fortran's\n",
    "# double precision format\n",
    "######################################\n",
    "def givedouble(var):\n",
    "    return (\"%.1e\"%var).replace(\"e\",\"d\")\n",
    "\n",
    "#####################################\n",
    "# replaces text inline for a specific\n",
    "# search string (sext->sfor) in ffile\n",
    "#####################################\n",
    "def myreplace(sline,sext,sfor,ffile,found):\n",
    "    if(sline.find(sext)>=0):\n",
    "        ffile.write(sline.replace(sext, sfor)),\n",
    "        return found+1\n",
    "    else:\n",
    "        return found+0\n",
    "\n",
    "######################################\n",
    "# creates compilable fortran code from\n",
    "# the source code in sis_src.f and our\n",
    "# input parameters passed by the main\n",
    "# program but generated by input.py\n",
    "######################################\n",
    "def createdotf(pars):\n",
    "    identifier,fname,fstring,md,ac,ms,metal,tgas,gama,cmigI,Apert,Fpert,Tfin,Verb = pars\n",
    "\n",
    "# calculates toomre q (stability criterion is q>1)\n",
    "    amin=ac*((7/4.-gama)/(2.-gama))**(1./(2-gama))\n",
    "    sigmag=(2.-gama)*md*2.e33/(2.*np.pi*(ac*1.5e13)**2.)\n",
    "    qc=1.24e5*(amin**(gama-7./4.))*(ac**(-gama))*(ms)*np.exp((amin/ac)**(2.-gama))/sigmag\n",
    "# convert input to fortran formatting\n",
    "    cmigI=givedouble(cmigI)\n",
    "    Fpert=givedouble(Fpert)\n",
    "    md=givedouble(md)\n",
    "    Tfin=givedouble(Tfin)\n",
    "    Verb=\".%s.\"%str(Verb).upper()\n",
    "# checks for disk stability, it shouldn't be a problem if parameter.in is obtained from input.py   \n",
    "    if(qc >= 1.):\n",
    "        f = open(fstring+fname+'%s.f'%identifier, 'w')\n",
    "        for line in fileinput.input(\"sis_src.f\", inplace=False):\n",
    "            found=0\n",
    "    # output filenames (do not change, rescortos is called by pastefiles.sh):\n",
    "    # resultados - log time evolution (only when verbose=true)\n",
    "    # rescortos - default results\n",
    "    # gigantes - info for giant planet formation\n",
    "            found=myreplace(line,\"$ArchivoSalida\",\"\\\"\"+fstring+\"resultados%s.txt\\\"\"%identifier,f,found)\n",
    "            found=myreplace(line,\"$SalidaCorta\",\"\\\"\"+fstring+\"rescortos%s.txt\\\"\"%identifier,f,found)\n",
    "            found=myreplace(line,\"$Gigantes\",\"\\\"\"+fstring+\"gigantes%s.txt\\\"\"%identifier,f,found)\n",
    "    # simulation parameters:\n",
    "    # disk mass\n",
    "    # characteristic radius (disk)\n",
    "    # stellar mass\n",
    "    # toomre q parameter\n",
    "    # metallicity\n",
    "    # gas dissipation timescale\n",
    "            found=myreplace(line,\"$Emed\",str(md),f,found)\n",
    "            found=myreplace(line,\"$Rcar\",str(ac),f,found)\n",
    "            found=myreplace(line,\"$Emestar\",str(ms),f,found)\n",
    "            found=myreplace(line,\"$Qest\",str(qc),f,found)    \n",
    "            found=myreplace(line,\"$Emetal\",str(metal),f,found) \n",
    "            found=myreplace(line,\"$Taugas\",str(tgas),f,found) \n",
    "    # sort-of-fixed parameters:\n",
    "    # power law profile for surface density\n",
    "    # type I migration parameter\n",
    "            found=myreplace(line,\"$Gama\",str(gama),f,found)\n",
    "            found=myreplace(line,\"$ConstMigI\",str(cmigI),f,found)\n",
    "    # perturbation parameters:\n",
    "    # amplitude\n",
    "    # length scale\n",
    "            found=myreplace(line,\"$Apert\",str(Apert),f,found)\n",
    "            found=myreplace(line,\"$Fpert\",str(Fpert),f,found)\n",
    "    # simulation timescale\n",
    "            found=myreplace(line,\"$Tfin\",str(Tfin),f,found)\n",
    "    # true for verbose output (log-time evolution)        \n",
    "            found=myreplace(line,\"$Verb\",str(Verb),f,found)\n",
    "    # add identifier to output\n",
    "            found=myreplace(line,\"$Identifier\",str(identifier),f,found)\n",
    "            if(found==0):\n",
    "                f.write(line)\n",
    "        f.close()\n",
    "# writes simulation parameters into info file    \n",
    "    finfo = open(fstring+'info%s.txt'%identifier, 'w')\n",
    "    firstline=\"%s, %s, %s, %s, %s, %s, %s, %s, %s, %s, %s, %s\\n\\n\" % (identifier,md,ac,ms,metal,tgas,gama,cmigI,Apert,Fpert,Tfin,Verb)\n",
    "    finfo.write(firstline)\n",
    "    finfo.write(\"Identifier...............................%s\\n\"%identifier)\n",
    "    finfo.write(\"Disk Mass (M_sun)........................%s\\n\"%md)\n",
    "    finfo.write(\"Critical Radius (AU).....................%s\\n\"%ac)\n",
    "    finfo.write(\"Stellar Mass (M_sun).....................%s\\n\"%ms)\n",
    "    finfo.write(\"Metallicity (log Fe/H)_*/(log Fe/H)_sun..%s\\n\"%metal)\n",
    "    finfo.write(\"Gas depletion timescale (yr).............%s\\n\"%tgas)\n",
    "    finfo.write(\"Gamma (density profile power law)........%s\\n\"%gama)\n",
    "    finfo.write(\"Type I Migration Coefficient.............%s\\n\"%cmigI)\n",
    "    finfo.write(\"Perturbation Amplitude...................%s\\n\"%Apert)\n",
    "    finfo.write(\"Perturbation length scale................%s\\n\"%Fpert)\n",
    "    finfo.write(\"Simulation timescale (yr)................%s\\n\"%Tfin)\n",
    "    finfo.write(\"Verbose results?.........................%s\\n\"%Verb)\n",
    "    finfo.write(\"Toomre Q.................................%s\\n\"%qc)\n",
    "    finfo.close()\n",
    "    \n",
    "#   reads from parameter.in, which should be generated from input.py\n",
    "df=pd.read_csv('parameters.in')\n",
    "\n",
    "cstring1 = 'gfortran -o' # compiler+flags\n",
    "fname = 'qsistemas' # file names\n",
    "cstring3 = '.f; ./' # extensions (do not change)\n",
    "fstring  = 'results/' # folder for .f sources, executables and results (do not change, req. by pastefiles.sh)\n",
    "\n",
    "# creates work folder\n",
    "if not os.path.exists(fstring):\n",
    "    os.makedirs(fstring)\n",
    "\n",
    "nsys=len(df) # number of simulations\n",
    "myfill=int(np.log10(nsys)+1) # with zfill, generate identifier for each simulation\n",
    "lidr=[]\n",
    "inst=[]\n",
    "for icoun in range(nsys):\n",
    "    idr=str(icoun).zfill(myfill)\n",
    "    pars=tuple([idr]+[fname]+[fstring]+df.iloc[icoun].values.tolist()) # parameters for createdotf function\n",
    "    createdotf(pars)\n",
    "    pname=fname+idr    \n",
    "    inst.append(cstring1+2*(' '+fstring+pname)+cstring3+fstring+pname) # generate instructions for bash_command function\n",
    "    \n",
    "# create header for csv (do not change filename, req. by pastefiles.sh)\n",
    "hfile=open(fstring+'header.txt', 'w')\n",
    "hfile.write('ident,it,t,a(i),emegas(i),emepla(i)/emet,rplanet(i)/radtie,emestar,rc,qest,sigmag_0,emed,gama,apert,fpert,constmigI,emetal,taugas\\n') \n",
    "hfile.close()\n",
    "\n",
    "\n",
    "\n",
    "# open parameters in sis_src.f:\n",
    "# lsnr : number of log time snapshots for verbose output (500 yields about 2-5 MB)\n",
    "# dt: timestep in years (default to 100)\n",
    "\n",
    "# todo:\n",
    "# perturbation only works for the dust - maybe add gas perturbation?\n",
    "# gas envelope is automatically dissipated after a collision (look for eme1 and eme2) - modulate better?\n",
    "# make a verbose option for giant planets\n",
    "# resultados files go up tfin in parameters.in, but if verbose=false this is overkill (curb tfin to 101% in src?)\n",
    "# auto check empty files and communicate in paste bash script\n",
    "\n",
    "# bugs:\n",
    "# not so much a bug, but old input is not trustworthy, as the q condition was not calculated properly\n",
    "# i for kk in planet dissapearance when w > wcrit, caused whole systems to disappear due to bad indexing\n",
    "# massive removal of runtime errors due to segfaults (april '16)\n",
    "\n",
    "# notes:\n",
    "## an empty rescortos file (quite possibly) happens because of migration + collisions (loss of env) + dissasembly due to high L\n",
    "#  when this happens, check gigantes file for giant planet formation + migration\n",
    "## sis_src outputs at 2e7 yr for rescortos by default\n",
    "\n"
   ]
  },
  {
   "cell_type": "code",
   "execution_count": 2,
   "metadata": {},
   "outputs": [
    {
     "data": {
      "text/plain": [
       "['gfortran -o results/qsistemas0 results/qsistemas0.f; ./results/qsistemas0']"
      ]
     },
     "execution_count": 2,
     "metadata": {},
     "output_type": "execute_result"
    }
   ],
   "source": [
    "inst"
   ]
  },
  {
   "cell_type": "code",
   "execution_count": null,
   "metadata": {
    "collapsed": true
   },
   "outputs": [],
   "source": []
  },
  {
   "cell_type": "code",
   "execution_count": null,
   "metadata": {
    "collapsed": true
   },
   "outputs": [],
   "source": []
  },
  {
   "cell_type": "code",
   "execution_count": null,
   "metadata": {
    "collapsed": true
   },
   "outputs": [],
   "source": []
  },
  {
   "cell_type": "code",
   "execution_count": null,
   "metadata": {
    "collapsed": true
   },
   "outputs": [],
   "source": [
    "# parallel parsing of instructions (compile+execute from synthetic .f sources) to pool of workers\n",
    "pool = ThreadPool(5)\n",
    "results=pool.map(bash_command,inst)\n",
    "pool.close()\n",
    "pool.join()"
   ]
  }
 ],
 "metadata": {
  "kernelspec": {
   "display_name": "Python 2",
   "language": "python",
   "name": "python2"
  },
  "language_info": {
   "codemirror_mode": {
    "name": "ipython",
    "version": 3
   },
   "file_extension": ".py",
   "mimetype": "text/x-python",
   "name": "python",
   "nbconvert_exporter": "python",
   "pygments_lexer": "ipython3",
   "version": "3.6.1"
  }
 },
 "nbformat": 4,
 "nbformat_minor": 1
}
