{
 "cells": [
  {
   "cell_type": "code",
   "execution_count": 11,
   "metadata": {
    "collapsed": true
   },
   "outputs": [],
   "source": [
    "import numpy as np \n",
    "import math\n",
    "import os\n",
    "import pandas as pd"
   ]
  },
  {
   "cell_type": "code",
   "execution_count": 2,
   "metadata": {
    "collapsed": true
   },
   "outputs": [],
   "source": [
    "allfiles=os.listdir()"
   ]
  },
  {
   "cell_type": "code",
   "execution_count": 9,
   "metadata": {},
   "outputs": [],
   "source": [
    "allresults=[i for i in allfiles if i[-4:]=='.txt']"
   ]
  },
  {
   "cell_type": "code",
   "execution_count": 17,
   "metadata": {
    "collapsed": true
   },
   "outputs": [],
   "source": [
    "LU=5.0939*10**13 #cm length unit\n",
    "UA =  14959787070000.0 #en cm\n",
    "F=UA/LU #Convertion Factor\n",
    "Ms= 1.98911*10**33#g #Mass unit\n",
    "Me=5.972*10**27 #g\n",
    "tf=10**5#10**5 #years\n",
    "\n"
   ]
  },
  {
   "cell_type": "code",
   "execution_count": 38,
   "metadata": {},
   "outputs": [],
   "source": [
    "for fname in allresults:\n",
    "    file=pd.read_csv(fname)\n",
    "    npla=len(file)\n",
    "    mst=file.emestar.iloc[0]\n",
    "    mpla=file['emegas(i)']+file['emepla(i)/emet']\n",
    "    sma=file['a(i)']\n",
    "    Mstar= mst/Ms#1.98911*10**33/Ms#g # Mass of the Star En masa Solar\n",
    "\n",
    "    Rgi=[]\n",
    "    Rpi=[]\n",
    "\n",
    "\n",
    "    for i in range(npla):\n",
    "        Rgi+=[[F*np.array(sma)[i],2*math.pi*np.random.random()]]\n",
    "\n",
    "    outfile = open('InitialSystem'+fname[-8:-4]+'.txt','w')\n",
    "\n",
    "    for i in range(npla):\n",
    "        rgi=[Rgi[i][0]*math.cos(Rgi[i][1]),Rgi[i][0]*math.sin(Rgi[i][1])]\n",
    "        vgi=[-math.sqrt(Mstar/Rgi[i][0])*math.sin(Rgi[i][1]),math.sqrt(Mstar/Rgi[i][0])*math.cos(Rgi[i][1])]#math.sqrt((Mo+1)/Ri[i][0])\n",
    "        Mi=np.array(mpla)[i]*Me/Ms\n",
    "        outfile.write('%.20f , %.5f, %.5f , %.5f , %.5f , %.5f , %.5f %s'%(Mi,rgi[0],rgi[1],vgi[0],vgi[1],Mstar,tf,'\\n'))\n",
    "\n",
    "    #Se agregan Jupyter y Saturno, comentar las dos siguientes lineas en caso de no querer agregarlos\n",
    "    #outfile.write('%.20f , %.5f, %.5f , %.5f , %.5f, %.5f , %.5f %s'%(Msat,rxsat,rysat,-vsat*math.sin(thsat),vsat*math.cos(thsat),Mstar,tf,'\\n'))\n",
    "    #outfile.write('%.20f , %.5f, %.5f , %.5f , %.5f, %.5f , %.5f %s'%(Mjup,rxjup,ryjup,-vjup*math.sin(thjup),vjup*math.cos(thjup),Mstar,tf,'\\n'))\n",
    "\n",
    "    outfile.close()"
   ]
  },
  {
   "cell_type": "code",
   "execution_count": 36,
   "metadata": {},
   "outputs": [],
   "source": [
    "\n",
    "\n",
    "Mstar= mst/Ms#1.98911*10**33/Ms#g # Mass of the Star En masa Solar\n",
    "\n",
    "Rgi=[]\n",
    "Rpi=[]\n",
    "\n",
    "\n",
    "for i in range(npla):\n",
    "\tRgi+=[[F*np.array(sma)[i],2*math.pi*np.random.random()]]\n",
    "\n",
    "outfile = open('InitialSystem'+fname[-8:-4]+'.txt','w')\n",
    "\n",
    "for i in range(npla):\n",
    "\trgi=[Rgi[i][0]*math.cos(Rgi[i][1]),Rgi[i][0]*math.sin(Rgi[i][1])]\n",
    "\tvgi=[-math.sqrt(Mstar/Rgi[i][0])*math.sin(Rgi[i][1]),math.sqrt(Mstar/Rgi[i][0])*math.cos(Rgi[i][1])]#math.sqrt((Mo+1)/Ri[i][0])\n",
    "\tMi=np.array(mpla)[i]*Me/Ms\n",
    "\toutfile.write('%.20f , %.5f, %.5f , %.5f , %.5f , %.5f , %.5f %s'%(Mi,rgi[0],rgi[1],vgi[0],vgi[1],Mstar,tf,'\\n'))\n",
    "\n",
    "#Se agregan Jupyter y Saturno, comentar las dos siguientes lineas en caso de no querer agregarlos\n",
    "#outfile.write('%.20f , %.5f, %.5f , %.5f , %.5f, %.5f , %.5f %s'%(Msat,rxsat,rysat,-vsat*math.sin(thsat),vsat*math.cos(thsat),Mstar,tf,'\\n'))\n",
    "#outfile.write('%.20f , %.5f, %.5f , %.5f , %.5f, %.5f , %.5f %s'%(Mjup,rxjup,ryjup,-vjup*math.sin(thjup),vjup*math.cos(thjup),Mstar,tf,'\\n'))\n",
    "\n",
    "outfile.close()"
   ]
  },
  {
   "cell_type": "code",
   "execution_count": null,
   "metadata": {
    "collapsed": true
   },
   "outputs": [],
   "source": [
    "Ms= 1.98911*10**33#g #Mass unit\n",
    "Rs=0.00465047 #Radio solar en UA\n",
    "Mstar= archivo[:,7][0]/Ms#1.98911*10**33/Ms#g # Mass of the Star En masa Solar\n",
    "Mo= 1.15*10**26/Ms #g\n",
    "Me=5.972*10**27 #g\n",
    "Mmin=0.02*Mo #Merge\n",
    "C=(Mo/(3))**(1/3.)\n",
    "Mpla=Mo\n",
    "\n",
    "N=60 # #'s body\n",
    "amax=1.6 #semi-major axis max value 1AU\n",
    "amin=0.6 #semi-major axis min value 1AU\n",
    "tf=10**5#10**5 #years\n",
    "\n",
    "Standt=0.001 #Standard dt\n",
    "LU=5.0939*10**13 #cm length unit\n",
    "UA =  14959787070000.0 #en cm\n",
    "F=UA/LU #Convertion Factor\n",
    "hillrad=C*amax*F #Hill´s radius\n",
    "VEE=math.sqrt(2.*Mstar/(Rs*F)) #Star scape velocity\n",
    "CDiv=0 #Counter of diverge masses\n",
    "MDiv=0. #Total mass of diverge masses\n",
    "Coun100=0 #Count the times that pass 100 yr\n",
    "POrt=0 #Swicth to calculate orbital data\n",
    "CPOrt=0 #Counter to get the five points of the position\n",
    "#Ng=40\n",
    "#Np=40\n",
    "\n",
    "g_to_Ms=1./Ms\n",
    "kg_to_Ms=1000./Ms\n",
    "yr_to_sec=31556926.\n",
    "cm_to_LU=1./LU\n",
    "m_to_LU=100./LU\n",
    "\n",
    "\n",
    "###########JUPITER & SATURN PARAMETERS EEJS ###########\n",
    "Mjup=1.898*10**30/Ms \n",
    "Msat=5.683*10**29/Ms  \n",
    "ajup=5.25*F\n",
    "asat=9.54*F\n",
    "ejup=0.02\n",
    "esat=0.03\n",
    "thjup=2*math.pi*np.random.random()\n",
    "thsat=2*math.pi*np.random.random()\n",
    "rjup=ajup*(1-ejup)\n",
    "rxjup=rjup*math.cos(thjup)\n",
    "ryjup=rjup*math.sin(thjup)\n",
    "rsat=asat*(1-esat)\n",
    "rxsat=rsat*math.cos(thsat)\n",
    "rysat=rsat*math.sin(thsat)\n",
    "vjup=13720*m_to_LU*yr_to_sec\n",
    "vsat=10180*m_to_LU*yr_to_sec\n",
    "\n",
    "Rgi=[]\n",
    "Rpi=[]\n",
    "\n",
    "sis='Sistema609'\t\t\t\t\t# Se guarda Información del sistema\n",
    "dire='Run5/Sistema609_Chaparro_3'   # Se guardan condiciones iniciales del sistema\n",
    "\n",
    "for i in range(0,len(np.array(archivo[:,5]))):\n",
    "\tRgi+=[[F*np.array(archivo[:,3])[i],2*math.pi*np.random.random()]]\n",
    "\n",
    "outfile = open('%s/InitialSystem.txt'%dire,'w')\n",
    "\n",
    "for i in range(0,len(np.array(archivo[:,5]))):\n",
    "\trgi=[Rgi[i][0]*math.cos(Rgi[i][1]),Rgi[i][0]*math.sin(Rgi[i][1])]\n",
    "\tvgi=[-math.sqrt(Mstar/Rgi[i][0])*math.sin(Rgi[i][1]),math.sqrt(Mstar/Rgi[i][0])*math.cos(Rgi[i][1])]#math.sqrt((Mo+1)/Ri[i][0])\n",
    "\tMi=np.array(archivo[:,5])[i]*Me/Ms\n",
    "\toutfile.write('%.20f , %.5f, %.5f , %.5f , %.5f , %.5f , %.5f %s'%(Mi,rgi[0],rgi[1],vgi[0],vgi[1],Mstar,tf,'\\n'))\n",
    "\n",
    "#Se agregan Jupyter y Saturno, comentar las dos siguientes lineas en caso de no querer agregarlos\n",
    "#outfile.write('%.20f , %.5f, %.5f , %.5f , %.5f, %.5f , %.5f %s'%(Msat,rxsat,rysat,-vsat*math.sin(thsat),vsat*math.cos(thsat),Mstar,tf,'\\n'))\n",
    "#outfile.write('%.20f , %.5f, %.5f , %.5f , %.5f, %.5f , %.5f %s'%(Mjup,rxjup,ryjup,-vjup*math.sin(thjup),vjup*math.cos(thjup),Mstar,tf,'\\n'))\n",
    "\n",
    "outfile.close()\n",
    "\n",
    "\n",
    "\n",
    "MPlanets=np.array(archivo[:,5])*Me/Ms\n",
    "Ng=len(np.where(MPlanets>=Mpla)[0])\n",
    "Np=len(np.where(MPlanets<Mpla)[0])\n",
    "\n",
    "outfile = open('%s/Info%s.txt'%(dire,sis),'w')\n",
    "outfile.write('PlaG = %d %s PlaP = %d %s ExcSaturno = %.5f %s ExcJupiter = %.5f %s Mstar = %.5f %s'%(Ng,'\\n',Np,'\\n',esat,'\\n',ejup,'\\n',Mstar,'\\n'))\n",
    "outfile.close()"
   ]
  },
  {
   "cell_type": "code",
   "execution_count": 37,
   "metadata": {},
   "outputs": [
    {
     "data": {
      "text/plain": [
       "'/Users/germanchaparro/github/population_synthesis/prep'"
      ]
     },
     "execution_count": 37,
     "metadata": {},
     "output_type": "execute_result"
    }
   ],
   "source": [
    "pwd"
   ]
  },
  {
   "cell_type": "code",
   "execution_count": null,
   "metadata": {
    "collapsed": true
   },
   "outputs": [],
   "source": []
  }
 ],
 "metadata": {
  "kernelspec": {
   "display_name": "Python 3",
   "language": "python",
   "name": "python3"
  },
  "language_info": {
   "codemirror_mode": {
    "name": "ipython",
    "version": 3
   },
   "file_extension": ".py",
   "mimetype": "text/x-python",
   "name": "python",
   "nbconvert_exporter": "python",
   "pygments_lexer": "ipython3",
   "version": "3.5.6"
  }
 },
 "nbformat": 4,
 "nbformat_minor": 2
}
