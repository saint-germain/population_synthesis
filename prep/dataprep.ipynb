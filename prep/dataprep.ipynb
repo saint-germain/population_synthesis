{
 "cells": [
  {
   "cell_type": "code",
   "execution_count": 1,
   "metadata": {
    "collapsed": true
   },
   "outputs": [],
   "source": [
    "import pandas as pd\n",
    "import numpy as np\n",
    "import matplotlib.pyplot as plt\n",
    "import seaborn as sns\n",
    "%matplotlib inline"
   ]
  },
  {
   "cell_type": "code",
   "execution_count": 2,
   "metadata": {
    "collapsed": false
   },
   "outputs": [
    {
     "data": {
      "text/html": [
       "<div>\n",
       "<table border=\"1\" class=\"dataframe\">\n",
       "  <thead>\n",
       "    <tr style=\"text-align: right;\">\n",
       "      <th></th>\n",
       "      <th>ident</th>\n",
       "      <th>it</th>\n",
       "      <th>t</th>\n",
       "      <th>a(i)</th>\n",
       "      <th>emegas(i)</th>\n",
       "      <th>emepla(i)/emet</th>\n",
       "      <th>rplanet(i)/radtie</th>\n",
       "      <th>emestar</th>\n",
       "      <th>rc</th>\n",
       "      <th>qest</th>\n",
       "      <th>sigmag_0</th>\n",
       "      <th>emed</th>\n",
       "      <th>gama</th>\n",
       "      <th>apert</th>\n",
       "      <th>fpert</th>\n",
       "      <th>constmigI</th>\n",
       "      <th>emetal</th>\n",
       "      <th>taugas</th>\n",
       "    </tr>\n",
       "  </thead>\n",
       "  <tbody>\n",
       "    <tr>\n",
       "      <th>0</th>\n",
       "      <td>0</td>\n",
       "      <td>199997</td>\n",
       "      <td>20000001.0</td>\n",
       "      <td>8.310655</td>\n",
       "      <td>0.0</td>\n",
       "      <td>2.538302</td>\n",
       "      <td>2.1002670447851663</td>\n",
       "      <td>1.893981e+33</td>\n",
       "      <td>59.88237</td>\n",
       "      <td>1.051847</td>\n",
       "      <td>228.821929</td>\n",
       "      <td>0.58</td>\n",
       "      <td>1.0</td>\n",
       "      <td>0.0</td>\n",
       "      <td>1.0</td>\n",
       "      <td>0.1</td>\n",
       "      <td>0.07707</td>\n",
       "      <td>9268935.0</td>\n",
       "    </tr>\n",
       "    <tr>\n",
       "      <th>1</th>\n",
       "      <td>0</td>\n",
       "      <td>199997</td>\n",
       "      <td>20000001.0</td>\n",
       "      <td>16.950289</td>\n",
       "      <td>0.0</td>\n",
       "      <td>1.254897</td>\n",
       "      <td>1.6609617588915819</td>\n",
       "      <td>1.893981e+33</td>\n",
       "      <td>59.88237</td>\n",
       "      <td>1.051847</td>\n",
       "      <td>228.821929</td>\n",
       "      <td>0.58</td>\n",
       "      <td>1.0</td>\n",
       "      <td>0.0</td>\n",
       "      <td>1.0</td>\n",
       "      <td>0.1</td>\n",
       "      <td>0.07707</td>\n",
       "      <td>9268935.0</td>\n",
       "    </tr>\n",
       "    <tr>\n",
       "      <th>2</th>\n",
       "      <td>0</td>\n",
       "      <td>199997</td>\n",
       "      <td>20000001.0</td>\n",
       "      <td>21.906004</td>\n",
       "      <td>0.0</td>\n",
       "      <td>0.892685</td>\n",
       "      <td>1.4829045355582708</td>\n",
       "      <td>1.893981e+33</td>\n",
       "      <td>59.88237</td>\n",
       "      <td>1.051847</td>\n",
       "      <td>228.821929</td>\n",
       "      <td>0.58</td>\n",
       "      <td>1.0</td>\n",
       "      <td>0.0</td>\n",
       "      <td>1.0</td>\n",
       "      <td>0.1</td>\n",
       "      <td>0.07707</td>\n",
       "      <td>9268935.0</td>\n",
       "    </tr>\n",
       "    <tr>\n",
       "      <th>3</th>\n",
       "      <td>0</td>\n",
       "      <td>199997</td>\n",
       "      <td>20000001.0</td>\n",
       "      <td>28.154620</td>\n",
       "      <td>0.0</td>\n",
       "      <td>0.545787</td>\n",
       "      <td>1.2588634898032260</td>\n",
       "      <td>1.893981e+33</td>\n",
       "      <td>59.88237</td>\n",
       "      <td>1.051847</td>\n",
       "      <td>228.821929</td>\n",
       "      <td>0.58</td>\n",
       "      <td>1.0</td>\n",
       "      <td>0.0</td>\n",
       "      <td>1.0</td>\n",
       "      <td>0.1</td>\n",
       "      <td>0.07707</td>\n",
       "      <td>9268935.0</td>\n",
       "    </tr>\n",
       "    <tr>\n",
       "      <th>4</th>\n",
       "      <td>0</td>\n",
       "      <td>199997</td>\n",
       "      <td>20000001.0</td>\n",
       "      <td>30.795764</td>\n",
       "      <td>0.0</td>\n",
       "      <td>0.428029</td>\n",
       "      <td>1.1609898887115120</td>\n",
       "      <td>1.893981e+33</td>\n",
       "      <td>59.88237</td>\n",
       "      <td>1.051847</td>\n",
       "      <td>228.821929</td>\n",
       "      <td>0.58</td>\n",
       "      <td>1.0</td>\n",
       "      <td>0.0</td>\n",
       "      <td>1.0</td>\n",
       "      <td>0.1</td>\n",
       "      <td>0.07707</td>\n",
       "      <td>9268935.0</td>\n",
       "    </tr>\n",
       "  </tbody>\n",
       "</table>\n",
       "</div>"
      ],
      "text/plain": [
       "   ident      it           t       a(i)  emegas(i)  emepla(i)/emet  \\\n",
       "0      0  199997  20000001.0   8.310655        0.0        2.538302   \n",
       "1      0  199997  20000001.0  16.950289        0.0        1.254897   \n",
       "2      0  199997  20000001.0  21.906004        0.0        0.892685   \n",
       "3      0  199997  20000001.0  28.154620        0.0        0.545787   \n",
       "4      0  199997  20000001.0  30.795764        0.0        0.428029   \n",
       "\n",
       "             rplanet(i)/radtie       emestar        rc      qest    sigmag_0  \\\n",
       "0     2.1002670447851663        1.893981e+33  59.88237  1.051847  228.821929   \n",
       "1     1.6609617588915819        1.893981e+33  59.88237  1.051847  228.821929   \n",
       "2     1.4829045355582708        1.893981e+33  59.88237  1.051847  228.821929   \n",
       "3     1.2588634898032260        1.893981e+33  59.88237  1.051847  228.821929   \n",
       "4     1.1609898887115120        1.893981e+33  59.88237  1.051847  228.821929   \n",
       "\n",
       "   emed  gama  apert  fpert  constmigI   emetal     taugas  \n",
       "0  0.58   1.0    0.0    1.0        0.1  0.07707  9268935.0  \n",
       "1  0.58   1.0    0.0    1.0        0.1  0.07707  9268935.0  \n",
       "2  0.58   1.0    0.0    1.0        0.1  0.07707  9268935.0  \n",
       "3  0.58   1.0    0.0    1.0        0.1  0.07707  9268935.0  \n",
       "4  0.58   1.0    0.0    1.0        0.1  0.07707  9268935.0  "
      ]
     },
     "execution_count": 2,
     "metadata": {},
     "output_type": "execute_result"
    }
   ],
   "source": [
    "dfnp=pd.read_csv(\"final_np.csv\")\n",
    "dfnp.head()"
   ]
  },
  {
   "cell_type": "code",
   "execution_count": 3,
   "metadata": {
    "collapsed": false
   },
   "outputs": [
    {
     "data": {
      "text/html": [
       "<div>\n",
       "<table border=\"1\" class=\"dataframe\">\n",
       "  <thead>\n",
       "    <tr style=\"text-align: right;\">\n",
       "      <th></th>\n",
       "      <th>ident</th>\n",
       "      <th>it</th>\n",
       "      <th>t</th>\n",
       "      <th>a(i)</th>\n",
       "      <th>emegas(i)</th>\n",
       "      <th>emepla(i)/emet</th>\n",
       "      <th>rplanet(i)/radtie</th>\n",
       "      <th>emestar</th>\n",
       "      <th>rc</th>\n",
       "      <th>qest</th>\n",
       "      <th>sigmag_0</th>\n",
       "      <th>emed</th>\n",
       "      <th>gama</th>\n",
       "      <th>apert</th>\n",
       "      <th>fpert</th>\n",
       "      <th>constmigI</th>\n",
       "      <th>emetal</th>\n",
       "      <th>taugas</th>\n",
       "    </tr>\n",
       "  </thead>\n",
       "  <tbody>\n",
       "    <tr>\n",
       "      <th>0</th>\n",
       "      <td>0</td>\n",
       "      <td>199996</td>\n",
       "      <td>20000001.0</td>\n",
       "      <td>0.062619</td>\n",
       "      <td>0.153949</td>\n",
       "      <td>5.181499</td>\n",
       "      <td>2.6373876497588316</td>\n",
       "      <td>1.893981e+33</td>\n",
       "      <td>59.88237</td>\n",
       "      <td>1.051847</td>\n",
       "      <td>228.821929</td>\n",
       "      <td>0.58</td>\n",
       "      <td>1.0</td>\n",
       "      <td>0.1</td>\n",
       "      <td>1.0</td>\n",
       "      <td>0.1</td>\n",
       "      <td>0.07707</td>\n",
       "      <td>9268935.0</td>\n",
       "    </tr>\n",
       "    <tr>\n",
       "      <th>1</th>\n",
       "      <td>0</td>\n",
       "      <td>199996</td>\n",
       "      <td>20000001.0</td>\n",
       "      <td>9.264290</td>\n",
       "      <td>0.000000</td>\n",
       "      <td>2.365437</td>\n",
       "      <td>2.0515107355230997</td>\n",
       "      <td>1.893981e+33</td>\n",
       "      <td>59.88237</td>\n",
       "      <td>1.051847</td>\n",
       "      <td>228.821929</td>\n",
       "      <td>0.58</td>\n",
       "      <td>1.0</td>\n",
       "      <td>0.1</td>\n",
       "      <td>1.0</td>\n",
       "      <td>0.1</td>\n",
       "      <td>0.07707</td>\n",
       "      <td>9268935.0</td>\n",
       "    </tr>\n",
       "    <tr>\n",
       "      <th>2</th>\n",
       "      <td>0</td>\n",
       "      <td>199996</td>\n",
       "      <td>20000001.0</td>\n",
       "      <td>24.468780</td>\n",
       "      <td>0.000000</td>\n",
       "      <td>0.705802</td>\n",
       "      <td>1.3713699190506510</td>\n",
       "      <td>1.893981e+33</td>\n",
       "      <td>59.88237</td>\n",
       "      <td>1.051847</td>\n",
       "      <td>228.821929</td>\n",
       "      <td>0.58</td>\n",
       "      <td>1.0</td>\n",
       "      <td>0.1</td>\n",
       "      <td>1.0</td>\n",
       "      <td>0.1</td>\n",
       "      <td>0.07707</td>\n",
       "      <td>9268935.0</td>\n",
       "    </tr>\n",
       "    <tr>\n",
       "      <th>3</th>\n",
       "      <td>0</td>\n",
       "      <td>199996</td>\n",
       "      <td>20000001.0</td>\n",
       "      <td>35.051390</td>\n",
       "      <td>0.000000</td>\n",
       "      <td>0.352469</td>\n",
       "      <td>1.0883202577546427</td>\n",
       "      <td>1.893981e+33</td>\n",
       "      <td>59.88237</td>\n",
       "      <td>1.051847</td>\n",
       "      <td>228.821929</td>\n",
       "      <td>0.58</td>\n",
       "      <td>1.0</td>\n",
       "      <td>0.1</td>\n",
       "      <td>1.0</td>\n",
       "      <td>0.1</td>\n",
       "      <td>0.07707</td>\n",
       "      <td>9268935.0</td>\n",
       "    </tr>\n",
       "    <tr>\n",
       "      <th>4</th>\n",
       "      <td>0</td>\n",
       "      <td>199996</td>\n",
       "      <td>20000001.0</td>\n",
       "      <td>38.588809</td>\n",
       "      <td>0.000000</td>\n",
       "      <td>0.189694</td>\n",
       "      <td>0.88532563779649975</td>\n",
       "      <td>1.893981e+33</td>\n",
       "      <td>59.88237</td>\n",
       "      <td>1.051847</td>\n",
       "      <td>228.821929</td>\n",
       "      <td>0.58</td>\n",
       "      <td>1.0</td>\n",
       "      <td>0.1</td>\n",
       "      <td>1.0</td>\n",
       "      <td>0.1</td>\n",
       "      <td>0.07707</td>\n",
       "      <td>9268935.0</td>\n",
       "    </tr>\n",
       "  </tbody>\n",
       "</table>\n",
       "</div>"
      ],
      "text/plain": [
       "   ident      it           t       a(i)  emegas(i)  emepla(i)/emet  \\\n",
       "0      0  199996  20000001.0   0.062619   0.153949        5.181499   \n",
       "1      0  199996  20000001.0   9.264290   0.000000        2.365437   \n",
       "2      0  199996  20000001.0  24.468780   0.000000        0.705802   \n",
       "3      0  199996  20000001.0  35.051390   0.000000        0.352469   \n",
       "4      0  199996  20000001.0  38.588809   0.000000        0.189694   \n",
       "\n",
       "             rplanet(i)/radtie       emestar        rc      qest    sigmag_0  \\\n",
       "0     2.6373876497588316        1.893981e+33  59.88237  1.051847  228.821929   \n",
       "1     2.0515107355230997        1.893981e+33  59.88237  1.051847  228.821929   \n",
       "2     1.3713699190506510        1.893981e+33  59.88237  1.051847  228.821929   \n",
       "3     1.0883202577546427        1.893981e+33  59.88237  1.051847  228.821929   \n",
       "4    0.88532563779649975        1.893981e+33  59.88237  1.051847  228.821929   \n",
       "\n",
       "   emed  gama  apert  fpert  constmigI   emetal     taugas  \n",
       "0  0.58   1.0    0.1    1.0        0.1  0.07707  9268935.0  \n",
       "1  0.58   1.0    0.1    1.0        0.1  0.07707  9268935.0  \n",
       "2  0.58   1.0    0.1    1.0        0.1  0.07707  9268935.0  \n",
       "3  0.58   1.0    0.1    1.0        0.1  0.07707  9268935.0  \n",
       "4  0.58   1.0    0.1    1.0        0.1  0.07707  9268935.0  "
      ]
     },
     "execution_count": 3,
     "metadata": {},
     "output_type": "execute_result"
    }
   ],
   "source": [
    "dflp=pd.read_csv(\"final_lp.csv\")\n",
    "dflp.head()"
   ]
  },
  {
   "cell_type": "code",
   "execution_count": 4,
   "metadata": {
    "collapsed": false
   },
   "outputs": [
    {
     "name": "stderr",
     "output_type": "stream",
     "text": [
      "/home/ecci/miniconda3/envs/py3/lib/python3.6/site-packages/IPython/core/interactiveshell.py:2683: DtypeWarning: Columns (6) have mixed types. Specify dtype option on import or set low_memory=False.\n",
      "  interactivity=interactivity, compiler=compiler, result=result)\n"
     ]
    },
    {
     "data": {
      "text/html": [
       "<div>\n",
       "<table border=\"1\" class=\"dataframe\">\n",
       "  <thead>\n",
       "    <tr style=\"text-align: right;\">\n",
       "      <th></th>\n",
       "      <th>ident</th>\n",
       "      <th>it</th>\n",
       "      <th>t</th>\n",
       "      <th>a(i)</th>\n",
       "      <th>emegas(i)</th>\n",
       "      <th>emepla(i)/emet</th>\n",
       "      <th>rplanet(i)/radtie</th>\n",
       "      <th>emestar</th>\n",
       "      <th>rc</th>\n",
       "      <th>qest</th>\n",
       "      <th>sigmag_0</th>\n",
       "      <th>emed</th>\n",
       "      <th>gama</th>\n",
       "      <th>apert</th>\n",
       "      <th>fpert</th>\n",
       "      <th>constmigI</th>\n",
       "      <th>emetal</th>\n",
       "      <th>taugas</th>\n",
       "    </tr>\n",
       "  </thead>\n",
       "  <tbody>\n",
       "    <tr>\n",
       "      <th>0</th>\n",
       "      <td>0</td>\n",
       "      <td>199997</td>\n",
       "      <td>20000001.0</td>\n",
       "      <td>0.062708</td>\n",
       "      <td>0.252346</td>\n",
       "      <td>5.155461</td>\n",
       "      <td>2.6159348107956948</td>\n",
       "      <td>1.893981e+33</td>\n",
       "      <td>59.88237</td>\n",
       "      <td>1.051847</td>\n",
       "      <td>228.821929</td>\n",
       "      <td>0.58</td>\n",
       "      <td>1.0</td>\n",
       "      <td>0.3</td>\n",
       "      <td>1.0</td>\n",
       "      <td>0.1</td>\n",
       "      <td>0.07707</td>\n",
       "      <td>9268935.0</td>\n",
       "    </tr>\n",
       "    <tr>\n",
       "      <th>1</th>\n",
       "      <td>0</td>\n",
       "      <td>199997</td>\n",
       "      <td>20000001.0</td>\n",
       "      <td>16.796458</td>\n",
       "      <td>0.000000</td>\n",
       "      <td>1.415680</td>\n",
       "      <td>1.7288645633986648</td>\n",
       "      <td>1.893981e+33</td>\n",
       "      <td>59.88237</td>\n",
       "      <td>1.051847</td>\n",
       "      <td>228.821929</td>\n",
       "      <td>0.58</td>\n",
       "      <td>1.0</td>\n",
       "      <td>0.3</td>\n",
       "      <td>1.0</td>\n",
       "      <td>0.1</td>\n",
       "      <td>0.07707</td>\n",
       "      <td>9268935.0</td>\n",
       "    </tr>\n",
       "    <tr>\n",
       "      <th>2</th>\n",
       "      <td>0</td>\n",
       "      <td>199997</td>\n",
       "      <td>20000001.0</td>\n",
       "      <td>20.815876</td>\n",
       "      <td>0.000000</td>\n",
       "      <td>0.995041</td>\n",
       "      <td>1.5374846471938246</td>\n",
       "      <td>1.893981e+33</td>\n",
       "      <td>59.88237</td>\n",
       "      <td>1.051847</td>\n",
       "      <td>228.821929</td>\n",
       "      <td>0.58</td>\n",
       "      <td>1.0</td>\n",
       "      <td>0.3</td>\n",
       "      <td>1.0</td>\n",
       "      <td>0.1</td>\n",
       "      <td>0.07707</td>\n",
       "      <td>9268935.0</td>\n",
       "    </tr>\n",
       "    <tr>\n",
       "      <th>3</th>\n",
       "      <td>0</td>\n",
       "      <td>199997</td>\n",
       "      <td>20000001.0</td>\n",
       "      <td>25.397079</td>\n",
       "      <td>0.000000</td>\n",
       "      <td>0.603044</td>\n",
       "      <td>1.3013791181400221</td>\n",
       "      <td>1.893981e+33</td>\n",
       "      <td>59.88237</td>\n",
       "      <td>1.051847</td>\n",
       "      <td>228.821929</td>\n",
       "      <td>0.58</td>\n",
       "      <td>1.0</td>\n",
       "      <td>0.3</td>\n",
       "      <td>1.0</td>\n",
       "      <td>0.1</td>\n",
       "      <td>0.07707</td>\n",
       "      <td>9268935.0</td>\n",
       "    </tr>\n",
       "    <tr>\n",
       "      <th>4</th>\n",
       "      <td>0</td>\n",
       "      <td>199997</td>\n",
       "      <td>20000001.0</td>\n",
       "      <td>28.715771</td>\n",
       "      <td>0.000000</td>\n",
       "      <td>0.409572</td>\n",
       "      <td>1.1440280457618968</td>\n",
       "      <td>1.893981e+33</td>\n",
       "      <td>59.88237</td>\n",
       "      <td>1.051847</td>\n",
       "      <td>228.821929</td>\n",
       "      <td>0.58</td>\n",
       "      <td>1.0</td>\n",
       "      <td>0.3</td>\n",
       "      <td>1.0</td>\n",
       "      <td>0.1</td>\n",
       "      <td>0.07707</td>\n",
       "      <td>9268935.0</td>\n",
       "    </tr>\n",
       "  </tbody>\n",
       "</table>\n",
       "</div>"
      ],
      "text/plain": [
       "   ident      it           t       a(i)  emegas(i)  emepla(i)/emet  \\\n",
       "0      0  199997  20000001.0   0.062708   0.252346        5.155461   \n",
       "1      0  199997  20000001.0  16.796458   0.000000        1.415680   \n",
       "2      0  199997  20000001.0  20.815876   0.000000        0.995041   \n",
       "3      0  199997  20000001.0  25.397079   0.000000        0.603044   \n",
       "4      0  199997  20000001.0  28.715771   0.000000        0.409572   \n",
       "\n",
       "             rplanet(i)/radtie       emestar        rc      qest    sigmag_0  \\\n",
       "0     2.6159348107956948        1.893981e+33  59.88237  1.051847  228.821929   \n",
       "1     1.7288645633986648        1.893981e+33  59.88237  1.051847  228.821929   \n",
       "2     1.5374846471938246        1.893981e+33  59.88237  1.051847  228.821929   \n",
       "3     1.3013791181400221        1.893981e+33  59.88237  1.051847  228.821929   \n",
       "4     1.1440280457618968        1.893981e+33  59.88237  1.051847  228.821929   \n",
       "\n",
       "   emed  gama  apert  fpert  constmigI   emetal     taugas  \n",
       "0  0.58   1.0    0.3    1.0        0.1  0.07707  9268935.0  \n",
       "1  0.58   1.0    0.3    1.0        0.1  0.07707  9268935.0  \n",
       "2  0.58   1.0    0.3    1.0        0.1  0.07707  9268935.0  \n",
       "3  0.58   1.0    0.3    1.0        0.1  0.07707  9268935.0  \n",
       "4  0.58   1.0    0.3    1.0        0.1  0.07707  9268935.0  "
      ]
     },
     "execution_count": 4,
     "metadata": {},
     "output_type": "execute_result"
    }
   ],
   "source": [
    "dfhp=pd.read_csv(\"final_hp.csv\")\n",
    "dfhp.head()"
   ]
  },
  {
   "cell_type": "code",
   "execution_count": 5,
   "metadata": {
    "collapsed": true
   },
   "outputs": [],
   "source": [
    "badnp=dfnp.ident[np.isnan((dfnp['rplanet(i)/radtie']).astype(float))]\n",
    "badlp=dflp.ident[np.isnan((dflp['rplanet(i)/radtie']).astype(float))]\n",
    "badhp=dfhp.ident[np.isnan((dfhp['rplanet(i)/radtie']).astype(float))]"
   ]
  },
  {
   "cell_type": "code",
   "execution_count": 6,
   "metadata": {
    "collapsed": false
   },
   "outputs": [
    {
     "name": "stdout",
     "output_type": "stream",
     "text": [
      "(12,) (20,) (16,)\n"
     ]
    }
   ],
   "source": [
    "print(badnp.shape,badlp.shape,badhp.shape)"
   ]
  },
  {
   "cell_type": "code",
   "execution_count": 7,
   "metadata": {
    "collapsed": false
   },
   "outputs": [
    {
     "name": "stdout",
     "output_type": "stream",
     "text": [
      "1692 2946 2949\n"
     ]
    }
   ],
   "source": [
    "inp=np.unique(dfnp.ident)\n",
    "ilp=np.unique(dflp.ident)\n",
    "ihp=np.unique(dfhp.ident)\n",
    "print(len(inp),len(ilp),len(ihp))"
   ]
  },
  {
   "cell_type": "code",
   "execution_count": 8,
   "metadata": {
    "collapsed": false
   },
   "outputs": [
    {
     "name": "stdout",
     "output_type": "stream",
     "text": [
      "1680 2926 2933\n"
     ]
    }
   ],
   "source": [
    "inpn=inp[~np.in1d(inp,badnp)]\n",
    "ilpn=ilp[~np.in1d(ilp,badlp)]\n",
    "ihpn=ihp[~np.in1d(ihp,badhp)]\n",
    "print(len(inpn),len(ilpn),len(ihpn))"
   ]
  },
  {
   "cell_type": "code",
   "execution_count": 9,
   "metadata": {
    "collapsed": false
   },
   "outputs": [
    {
     "name": "stdout",
     "output_type": "stream",
     "text": [
      "1652\n"
     ]
    }
   ],
   "source": [
    "inp1=inpn[np.in1d(inpn,ilpn)]\n",
    "inp2=inp1[np.in1d(inp1,ihpn)]\n",
    "print(len(inp2))"
   ]
  },
  {
   "cell_type": "code",
   "execution_count": 10,
   "metadata": {
    "collapsed": true,
    "scrolled": true
   },
   "outputs": [],
   "source": [
    "fnp=np.in1d(dfnp.ident,inp2)"
   ]
  },
  {
   "cell_type": "code",
   "execution_count": 11,
   "metadata": {
    "collapsed": true
   },
   "outputs": [],
   "source": [
    "flp=np.in1d(dflp.ident,inp2)"
   ]
  },
  {
   "cell_type": "code",
   "execution_count": 12,
   "metadata": {
    "collapsed": true
   },
   "outputs": [],
   "source": [
    "fhp=np.in1d(dfhp.ident,inp2)"
   ]
  },
  {
   "cell_type": "code",
   "execution_count": 13,
   "metadata": {
    "collapsed": false
   },
   "outputs": [
    {
     "data": {
      "text/html": [
       "<div>\n",
       "<table border=\"1\" class=\"dataframe\">\n",
       "  <thead>\n",
       "    <tr style=\"text-align: right;\">\n",
       "      <th></th>\n",
       "      <th>ident</th>\n",
       "      <th>it</th>\n",
       "      <th>t</th>\n",
       "      <th>a(i)</th>\n",
       "      <th>emegas(i)</th>\n",
       "      <th>emepla(i)/emet</th>\n",
       "      <th>rplanet(i)/radtie</th>\n",
       "      <th>emestar</th>\n",
       "      <th>rc</th>\n",
       "      <th>qest</th>\n",
       "      <th>sigmag_0</th>\n",
       "      <th>emed</th>\n",
       "      <th>gama</th>\n",
       "      <th>apert</th>\n",
       "      <th>fpert</th>\n",
       "      <th>constmigI</th>\n",
       "      <th>emetal</th>\n",
       "      <th>taugas</th>\n",
       "    </tr>\n",
       "  </thead>\n",
       "  <tbody>\n",
       "    <tr>\n",
       "      <th>0</th>\n",
       "      <td>0</td>\n",
       "      <td>199997</td>\n",
       "      <td>20000001.0</td>\n",
       "      <td>8.310655</td>\n",
       "      <td>0.0</td>\n",
       "      <td>2.538302</td>\n",
       "      <td>2.1002670447851663</td>\n",
       "      <td>1.893981e+33</td>\n",
       "      <td>59.88237</td>\n",
       "      <td>1.051847</td>\n",
       "      <td>228.821929</td>\n",
       "      <td>0.58</td>\n",
       "      <td>1.0</td>\n",
       "      <td>0.0</td>\n",
       "      <td>1.0</td>\n",
       "      <td>0.1</td>\n",
       "      <td>0.07707</td>\n",
       "      <td>9268935.0</td>\n",
       "    </tr>\n",
       "    <tr>\n",
       "      <th>1</th>\n",
       "      <td>0</td>\n",
       "      <td>199997</td>\n",
       "      <td>20000001.0</td>\n",
       "      <td>16.950289</td>\n",
       "      <td>0.0</td>\n",
       "      <td>1.254897</td>\n",
       "      <td>1.6609617588915819</td>\n",
       "      <td>1.893981e+33</td>\n",
       "      <td>59.88237</td>\n",
       "      <td>1.051847</td>\n",
       "      <td>228.821929</td>\n",
       "      <td>0.58</td>\n",
       "      <td>1.0</td>\n",
       "      <td>0.0</td>\n",
       "      <td>1.0</td>\n",
       "      <td>0.1</td>\n",
       "      <td>0.07707</td>\n",
       "      <td>9268935.0</td>\n",
       "    </tr>\n",
       "    <tr>\n",
       "      <th>2</th>\n",
       "      <td>0</td>\n",
       "      <td>199997</td>\n",
       "      <td>20000001.0</td>\n",
       "      <td>21.906004</td>\n",
       "      <td>0.0</td>\n",
       "      <td>0.892685</td>\n",
       "      <td>1.4829045355582708</td>\n",
       "      <td>1.893981e+33</td>\n",
       "      <td>59.88237</td>\n",
       "      <td>1.051847</td>\n",
       "      <td>228.821929</td>\n",
       "      <td>0.58</td>\n",
       "      <td>1.0</td>\n",
       "      <td>0.0</td>\n",
       "      <td>1.0</td>\n",
       "      <td>0.1</td>\n",
       "      <td>0.07707</td>\n",
       "      <td>9268935.0</td>\n",
       "    </tr>\n",
       "    <tr>\n",
       "      <th>3</th>\n",
       "      <td>0</td>\n",
       "      <td>199997</td>\n",
       "      <td>20000001.0</td>\n",
       "      <td>28.154620</td>\n",
       "      <td>0.0</td>\n",
       "      <td>0.545787</td>\n",
       "      <td>1.2588634898032260</td>\n",
       "      <td>1.893981e+33</td>\n",
       "      <td>59.88237</td>\n",
       "      <td>1.051847</td>\n",
       "      <td>228.821929</td>\n",
       "      <td>0.58</td>\n",
       "      <td>1.0</td>\n",
       "      <td>0.0</td>\n",
       "      <td>1.0</td>\n",
       "      <td>0.1</td>\n",
       "      <td>0.07707</td>\n",
       "      <td>9268935.0</td>\n",
       "    </tr>\n",
       "    <tr>\n",
       "      <th>4</th>\n",
       "      <td>0</td>\n",
       "      <td>199997</td>\n",
       "      <td>20000001.0</td>\n",
       "      <td>30.795764</td>\n",
       "      <td>0.0</td>\n",
       "      <td>0.428029</td>\n",
       "      <td>1.1609898887115120</td>\n",
       "      <td>1.893981e+33</td>\n",
       "      <td>59.88237</td>\n",
       "      <td>1.051847</td>\n",
       "      <td>228.821929</td>\n",
       "      <td>0.58</td>\n",
       "      <td>1.0</td>\n",
       "      <td>0.0</td>\n",
       "      <td>1.0</td>\n",
       "      <td>0.1</td>\n",
       "      <td>0.07707</td>\n",
       "      <td>9268935.0</td>\n",
       "    </tr>\n",
       "  </tbody>\n",
       "</table>\n",
       "</div>"
      ],
      "text/plain": [
       "   ident      it           t       a(i)  emegas(i)  emepla(i)/emet  \\\n",
       "0      0  199997  20000001.0   8.310655        0.0        2.538302   \n",
       "1      0  199997  20000001.0  16.950289        0.0        1.254897   \n",
       "2      0  199997  20000001.0  21.906004        0.0        0.892685   \n",
       "3      0  199997  20000001.0  28.154620        0.0        0.545787   \n",
       "4      0  199997  20000001.0  30.795764        0.0        0.428029   \n",
       "\n",
       "             rplanet(i)/radtie       emestar        rc      qest    sigmag_0  \\\n",
       "0     2.1002670447851663        1.893981e+33  59.88237  1.051847  228.821929   \n",
       "1     1.6609617588915819        1.893981e+33  59.88237  1.051847  228.821929   \n",
       "2     1.4829045355582708        1.893981e+33  59.88237  1.051847  228.821929   \n",
       "3     1.2588634898032260        1.893981e+33  59.88237  1.051847  228.821929   \n",
       "4     1.1609898887115120        1.893981e+33  59.88237  1.051847  228.821929   \n",
       "\n",
       "   emed  gama  apert  fpert  constmigI   emetal     taugas  \n",
       "0  0.58   1.0    0.0    1.0        0.1  0.07707  9268935.0  \n",
       "1  0.58   1.0    0.0    1.0        0.1  0.07707  9268935.0  \n",
       "2  0.58   1.0    0.0    1.0        0.1  0.07707  9268935.0  \n",
       "3  0.58   1.0    0.0    1.0        0.1  0.07707  9268935.0  \n",
       "4  0.58   1.0    0.0    1.0        0.1  0.07707  9268935.0  "
      ]
     },
     "execution_count": 13,
     "metadata": {},
     "output_type": "execute_result"
    }
   ],
   "source": [
    "dfn=dfnp[fnp]\n",
    "dfn.head()"
   ]
  },
  {
   "cell_type": "code",
   "execution_count": 14,
   "metadata": {
    "collapsed": false
   },
   "outputs": [
    {
     "data": {
      "text/html": [
       "<div>\n",
       "<table border=\"1\" class=\"dataframe\">\n",
       "  <thead>\n",
       "    <tr style=\"text-align: right;\">\n",
       "      <th></th>\n",
       "      <th>ident</th>\n",
       "      <th>it</th>\n",
       "      <th>t</th>\n",
       "      <th>a(i)</th>\n",
       "      <th>emegas(i)</th>\n",
       "      <th>emepla(i)/emet</th>\n",
       "      <th>rplanet(i)/radtie</th>\n",
       "      <th>emestar</th>\n",
       "      <th>rc</th>\n",
       "      <th>qest</th>\n",
       "      <th>sigmag_0</th>\n",
       "      <th>emed</th>\n",
       "      <th>gama</th>\n",
       "      <th>apert</th>\n",
       "      <th>fpert</th>\n",
       "      <th>constmigI</th>\n",
       "      <th>emetal</th>\n",
       "      <th>taugas</th>\n",
       "    </tr>\n",
       "  </thead>\n",
       "  <tbody>\n",
       "    <tr>\n",
       "      <th>0</th>\n",
       "      <td>0</td>\n",
       "      <td>199996</td>\n",
       "      <td>20000001.0</td>\n",
       "      <td>0.062619</td>\n",
       "      <td>0.153949</td>\n",
       "      <td>5.181499</td>\n",
       "      <td>2.6373876497588316</td>\n",
       "      <td>1.893981e+33</td>\n",
       "      <td>59.88237</td>\n",
       "      <td>1.051847</td>\n",
       "      <td>228.821929</td>\n",
       "      <td>0.58</td>\n",
       "      <td>1.0</td>\n",
       "      <td>0.1</td>\n",
       "      <td>1.0</td>\n",
       "      <td>0.1</td>\n",
       "      <td>0.07707</td>\n",
       "      <td>9268935.0</td>\n",
       "    </tr>\n",
       "    <tr>\n",
       "      <th>1</th>\n",
       "      <td>0</td>\n",
       "      <td>199996</td>\n",
       "      <td>20000001.0</td>\n",
       "      <td>9.264290</td>\n",
       "      <td>0.000000</td>\n",
       "      <td>2.365437</td>\n",
       "      <td>2.0515107355230997</td>\n",
       "      <td>1.893981e+33</td>\n",
       "      <td>59.88237</td>\n",
       "      <td>1.051847</td>\n",
       "      <td>228.821929</td>\n",
       "      <td>0.58</td>\n",
       "      <td>1.0</td>\n",
       "      <td>0.1</td>\n",
       "      <td>1.0</td>\n",
       "      <td>0.1</td>\n",
       "      <td>0.07707</td>\n",
       "      <td>9268935.0</td>\n",
       "    </tr>\n",
       "    <tr>\n",
       "      <th>2</th>\n",
       "      <td>0</td>\n",
       "      <td>199996</td>\n",
       "      <td>20000001.0</td>\n",
       "      <td>24.468780</td>\n",
       "      <td>0.000000</td>\n",
       "      <td>0.705802</td>\n",
       "      <td>1.3713699190506510</td>\n",
       "      <td>1.893981e+33</td>\n",
       "      <td>59.88237</td>\n",
       "      <td>1.051847</td>\n",
       "      <td>228.821929</td>\n",
       "      <td>0.58</td>\n",
       "      <td>1.0</td>\n",
       "      <td>0.1</td>\n",
       "      <td>1.0</td>\n",
       "      <td>0.1</td>\n",
       "      <td>0.07707</td>\n",
       "      <td>9268935.0</td>\n",
       "    </tr>\n",
       "    <tr>\n",
       "      <th>3</th>\n",
       "      <td>0</td>\n",
       "      <td>199996</td>\n",
       "      <td>20000001.0</td>\n",
       "      <td>35.051390</td>\n",
       "      <td>0.000000</td>\n",
       "      <td>0.352469</td>\n",
       "      <td>1.0883202577546427</td>\n",
       "      <td>1.893981e+33</td>\n",
       "      <td>59.88237</td>\n",
       "      <td>1.051847</td>\n",
       "      <td>228.821929</td>\n",
       "      <td>0.58</td>\n",
       "      <td>1.0</td>\n",
       "      <td>0.1</td>\n",
       "      <td>1.0</td>\n",
       "      <td>0.1</td>\n",
       "      <td>0.07707</td>\n",
       "      <td>9268935.0</td>\n",
       "    </tr>\n",
       "    <tr>\n",
       "      <th>4</th>\n",
       "      <td>0</td>\n",
       "      <td>199996</td>\n",
       "      <td>20000001.0</td>\n",
       "      <td>38.588809</td>\n",
       "      <td>0.000000</td>\n",
       "      <td>0.189694</td>\n",
       "      <td>0.88532563779649975</td>\n",
       "      <td>1.893981e+33</td>\n",
       "      <td>59.88237</td>\n",
       "      <td>1.051847</td>\n",
       "      <td>228.821929</td>\n",
       "      <td>0.58</td>\n",
       "      <td>1.0</td>\n",
       "      <td>0.1</td>\n",
       "      <td>1.0</td>\n",
       "      <td>0.1</td>\n",
       "      <td>0.07707</td>\n",
       "      <td>9268935.0</td>\n",
       "    </tr>\n",
       "  </tbody>\n",
       "</table>\n",
       "</div>"
      ],
      "text/plain": [
       "   ident      it           t       a(i)  emegas(i)  emepla(i)/emet  \\\n",
       "0      0  199996  20000001.0   0.062619   0.153949        5.181499   \n",
       "1      0  199996  20000001.0   9.264290   0.000000        2.365437   \n",
       "2      0  199996  20000001.0  24.468780   0.000000        0.705802   \n",
       "3      0  199996  20000001.0  35.051390   0.000000        0.352469   \n",
       "4      0  199996  20000001.0  38.588809   0.000000        0.189694   \n",
       "\n",
       "             rplanet(i)/radtie       emestar        rc      qest    sigmag_0  \\\n",
       "0     2.6373876497588316        1.893981e+33  59.88237  1.051847  228.821929   \n",
       "1     2.0515107355230997        1.893981e+33  59.88237  1.051847  228.821929   \n",
       "2     1.3713699190506510        1.893981e+33  59.88237  1.051847  228.821929   \n",
       "3     1.0883202577546427        1.893981e+33  59.88237  1.051847  228.821929   \n",
       "4    0.88532563779649975        1.893981e+33  59.88237  1.051847  228.821929   \n",
       "\n",
       "   emed  gama  apert  fpert  constmigI   emetal     taugas  \n",
       "0  0.58   1.0    0.1    1.0        0.1  0.07707  9268935.0  \n",
       "1  0.58   1.0    0.1    1.0        0.1  0.07707  9268935.0  \n",
       "2  0.58   1.0    0.1    1.0        0.1  0.07707  9268935.0  \n",
       "3  0.58   1.0    0.1    1.0        0.1  0.07707  9268935.0  \n",
       "4  0.58   1.0    0.1    1.0        0.1  0.07707  9268935.0  "
      ]
     },
     "execution_count": 14,
     "metadata": {},
     "output_type": "execute_result"
    }
   ],
   "source": [
    "dfl=dflp[flp]\n",
    "dfl.head()"
   ]
  },
  {
   "cell_type": "code",
   "execution_count": 15,
   "metadata": {
    "collapsed": false
   },
   "outputs": [
    {
     "data": {
      "text/html": [
       "<div>\n",
       "<table border=\"1\" class=\"dataframe\">\n",
       "  <thead>\n",
       "    <tr style=\"text-align: right;\">\n",
       "      <th></th>\n",
       "      <th>ident</th>\n",
       "      <th>it</th>\n",
       "      <th>t</th>\n",
       "      <th>a(i)</th>\n",
       "      <th>emegas(i)</th>\n",
       "      <th>emepla(i)/emet</th>\n",
       "      <th>rplanet(i)/radtie</th>\n",
       "      <th>emestar</th>\n",
       "      <th>rc</th>\n",
       "      <th>qest</th>\n",
       "      <th>sigmag_0</th>\n",
       "      <th>emed</th>\n",
       "      <th>gama</th>\n",
       "      <th>apert</th>\n",
       "      <th>fpert</th>\n",
       "      <th>constmigI</th>\n",
       "      <th>emetal</th>\n",
       "      <th>taugas</th>\n",
       "    </tr>\n",
       "  </thead>\n",
       "  <tbody>\n",
       "    <tr>\n",
       "      <th>0</th>\n",
       "      <td>0</td>\n",
       "      <td>199997</td>\n",
       "      <td>20000001.0</td>\n",
       "      <td>0.062708</td>\n",
       "      <td>0.252346</td>\n",
       "      <td>5.155461</td>\n",
       "      <td>2.6159348107956948</td>\n",
       "      <td>1.893981e+33</td>\n",
       "      <td>59.88237</td>\n",
       "      <td>1.051847</td>\n",
       "      <td>228.821929</td>\n",
       "      <td>0.58</td>\n",
       "      <td>1.0</td>\n",
       "      <td>0.3</td>\n",
       "      <td>1.0</td>\n",
       "      <td>0.1</td>\n",
       "      <td>0.07707</td>\n",
       "      <td>9268935.0</td>\n",
       "    </tr>\n",
       "    <tr>\n",
       "      <th>1</th>\n",
       "      <td>0</td>\n",
       "      <td>199997</td>\n",
       "      <td>20000001.0</td>\n",
       "      <td>16.796458</td>\n",
       "      <td>0.000000</td>\n",
       "      <td>1.415680</td>\n",
       "      <td>1.7288645633986648</td>\n",
       "      <td>1.893981e+33</td>\n",
       "      <td>59.88237</td>\n",
       "      <td>1.051847</td>\n",
       "      <td>228.821929</td>\n",
       "      <td>0.58</td>\n",
       "      <td>1.0</td>\n",
       "      <td>0.3</td>\n",
       "      <td>1.0</td>\n",
       "      <td>0.1</td>\n",
       "      <td>0.07707</td>\n",
       "      <td>9268935.0</td>\n",
       "    </tr>\n",
       "    <tr>\n",
       "      <th>2</th>\n",
       "      <td>0</td>\n",
       "      <td>199997</td>\n",
       "      <td>20000001.0</td>\n",
       "      <td>20.815876</td>\n",
       "      <td>0.000000</td>\n",
       "      <td>0.995041</td>\n",
       "      <td>1.5374846471938246</td>\n",
       "      <td>1.893981e+33</td>\n",
       "      <td>59.88237</td>\n",
       "      <td>1.051847</td>\n",
       "      <td>228.821929</td>\n",
       "      <td>0.58</td>\n",
       "      <td>1.0</td>\n",
       "      <td>0.3</td>\n",
       "      <td>1.0</td>\n",
       "      <td>0.1</td>\n",
       "      <td>0.07707</td>\n",
       "      <td>9268935.0</td>\n",
       "    </tr>\n",
       "    <tr>\n",
       "      <th>3</th>\n",
       "      <td>0</td>\n",
       "      <td>199997</td>\n",
       "      <td>20000001.0</td>\n",
       "      <td>25.397079</td>\n",
       "      <td>0.000000</td>\n",
       "      <td>0.603044</td>\n",
       "      <td>1.3013791181400221</td>\n",
       "      <td>1.893981e+33</td>\n",
       "      <td>59.88237</td>\n",
       "      <td>1.051847</td>\n",
       "      <td>228.821929</td>\n",
       "      <td>0.58</td>\n",
       "      <td>1.0</td>\n",
       "      <td>0.3</td>\n",
       "      <td>1.0</td>\n",
       "      <td>0.1</td>\n",
       "      <td>0.07707</td>\n",
       "      <td>9268935.0</td>\n",
       "    </tr>\n",
       "    <tr>\n",
       "      <th>4</th>\n",
       "      <td>0</td>\n",
       "      <td>199997</td>\n",
       "      <td>20000001.0</td>\n",
       "      <td>28.715771</td>\n",
       "      <td>0.000000</td>\n",
       "      <td>0.409572</td>\n",
       "      <td>1.1440280457618968</td>\n",
       "      <td>1.893981e+33</td>\n",
       "      <td>59.88237</td>\n",
       "      <td>1.051847</td>\n",
       "      <td>228.821929</td>\n",
       "      <td>0.58</td>\n",
       "      <td>1.0</td>\n",
       "      <td>0.3</td>\n",
       "      <td>1.0</td>\n",
       "      <td>0.1</td>\n",
       "      <td>0.07707</td>\n",
       "      <td>9268935.0</td>\n",
       "    </tr>\n",
       "  </tbody>\n",
       "</table>\n",
       "</div>"
      ],
      "text/plain": [
       "   ident      it           t       a(i)  emegas(i)  emepla(i)/emet  \\\n",
       "0      0  199997  20000001.0   0.062708   0.252346        5.155461   \n",
       "1      0  199997  20000001.0  16.796458   0.000000        1.415680   \n",
       "2      0  199997  20000001.0  20.815876   0.000000        0.995041   \n",
       "3      0  199997  20000001.0  25.397079   0.000000        0.603044   \n",
       "4      0  199997  20000001.0  28.715771   0.000000        0.409572   \n",
       "\n",
       "             rplanet(i)/radtie       emestar        rc      qest    sigmag_0  \\\n",
       "0     2.6159348107956948        1.893981e+33  59.88237  1.051847  228.821929   \n",
       "1     1.7288645633986648        1.893981e+33  59.88237  1.051847  228.821929   \n",
       "2     1.5374846471938246        1.893981e+33  59.88237  1.051847  228.821929   \n",
       "3     1.3013791181400221        1.893981e+33  59.88237  1.051847  228.821929   \n",
       "4     1.1440280457618968        1.893981e+33  59.88237  1.051847  228.821929   \n",
       "\n",
       "   emed  gama  apert  fpert  constmigI   emetal     taugas  \n",
       "0  0.58   1.0    0.3    1.0        0.1  0.07707  9268935.0  \n",
       "1  0.58   1.0    0.3    1.0        0.1  0.07707  9268935.0  \n",
       "2  0.58   1.0    0.3    1.0        0.1  0.07707  9268935.0  \n",
       "3  0.58   1.0    0.3    1.0        0.1  0.07707  9268935.0  \n",
       "4  0.58   1.0    0.3    1.0        0.1  0.07707  9268935.0  "
      ]
     },
     "execution_count": 15,
     "metadata": {},
     "output_type": "execute_result"
    }
   ],
   "source": [
    "dfh=dfhp[fhp]\n",
    "dfh.head()"
   ]
  },
  {
   "cell_type": "code",
   "execution_count": 16,
   "metadata": {
    "collapsed": true
   },
   "outputs": [],
   "source": [
    "dh=dfh[dfh.emed<0.2]\n",
    "dl=dfl[dfl.emed<0.2]\n",
    "dn=dfn[dfn.emed<0.2]"
   ]
  },
  {
   "cell_type": "code",
   "execution_count": 17,
   "metadata": {
    "collapsed": false
   },
   "outputs": [
    {
     "data": {
      "text/plain": [
       "1235"
      ]
     },
     "execution_count": 17,
     "metadata": {},
     "output_type": "execute_result"
    }
   ],
   "source": [
    "len(np.unique(dh.ident))"
   ]
  },
  {
   "cell_type": "code",
   "execution_count": 18,
   "metadata": {
    "collapsed": true
   },
   "outputs": [],
   "source": [
    "dn.to_csv('no_pert.csv')\n",
    "dh.to_csv('hi_pert.csv')\n",
    "dl.to_csv('lo_pert.csv')"
   ]
  },
  {
   "cell_type": "code",
   "execution_count": 19,
   "metadata": {
    "collapsed": false
   },
   "outputs": [
    {
     "name": "stdout",
     "output_type": "stream",
     "text": [
      "Total systems: 1235\n",
      "Systems with giant planets: 377\n",
      "96.8 percent of all planets are below 10 earth masses\n",
      "Total systems: 1235\n",
      "Systems with giant planets: 434\n",
      "96.3 percent of all planets are below 10 earth masses\n",
      "Total systems: 1235\n",
      "Systems with giant planets: 442\n",
      "96.2 percent of all planets are below 10 earth masses\n"
     ]
    }
   ],
   "source": [
    "# new version of reduce.py\n",
    "import pandas as pd\n",
    "import numpy as np\n",
    "import sys\n",
    "resf=['no_pert.csv','lo_pert.csv','hi_pert.csv']\n",
    "for resfile in resf:\n",
    "    dff=pd.read_csv(resfile)\n",
    "    names=\"ident, com, nplanets, massbudget, massefficiency, sigmag0, md, rc, ms, metal, taugas\"\n",
    "    nlist=names.replace(',','').split()\n",
    "    mass=dff['emepla(i)/emet']+dff['emegas(i)']\n",
    "    dfter=dff[mass<10.]\n",
    "    rdata=np.zeros((len(np.unique(dfter.ident)),11))\n",
    "    kk=0\n",
    "    for i in np.unique(dfter.ident):    \n",
    "        filter=dfter.ident==i\n",
    "        dummy=dfter[filter]\n",
    "        pmass=dummy['emepla(i)/emet']+dummy['emegas(i)']\n",
    "        com=((pmass*dummy['a(i)']).sum())/pmass.sum()\n",
    "        npl=len(dummy)\n",
    "        mbud=pmass.sum()\n",
    "        effm=mbud*3e-6/(dummy.emed.iloc[0])\n",
    "        sigmag0=dummy.sigmag_0.iloc[0]\n",
    "        md=dummy.emed.iloc[0]\n",
    "        rc=dummy.rc.iloc[0]\n",
    "        ms=dummy.emestar.iloc[0]\n",
    "        metal=dummy.emetal.iloc[0]\n",
    "        taugas=dummy.taugas.iloc[0]\n",
    "        rdata[kk,:]=i,com,npl,mbud,effm,sigmag0,md,rc,ms,metal,taugas  \n",
    "        kk=kk+1\n",
    "    pd.DataFrame(rdata,columns=nlist).to_csv('tr_%s.csv'%resfile[:-4])\n",
    "    dfgia=dff[mass>=10.]\n",
    "    rdatag=np.zeros((len(np.unique(dfgia.ident)),11))\n",
    "    kk=0\n",
    "    for i in np.unique(dfgia.ident):    \n",
    "        filter=dfgia.ident==i\n",
    "        dummy=dfgia[filter]\n",
    "        pmass=dummy['emepla(i)/emet']+dummy['emegas(i)']\n",
    "        com=((pmass*dummy['a(i)']).sum())/pmass.sum()\n",
    "        npl=len(dummy)\n",
    "        mbud=pmass.sum()\n",
    "        effm=mbud*3e-6/(dummy.emed.iloc[0])\n",
    "        sigmag0=dummy.sigmag_0.iloc[0]\n",
    "        md=dummy.emed.iloc[0]\n",
    "        rc=dummy.rc.iloc[0]\n",
    "        ms=dummy.emestar.iloc[0]\n",
    "        metal=dummy.emetal.iloc[0]\n",
    "        taugas=dummy.taugas.iloc[0]\n",
    "        rdatag[kk,:]=i,com,npl,mbud,effm,sigmag0,md,rc,ms,metal,taugas      \n",
    "        kk=kk+1\n",
    "    pd.DataFrame(rdatag,columns=nlist).to_csv('gt_%s.csv'%resfile[:-4])\n",
    "    print(\"Total systems: \"+str(len(np.unique(dff.ident))))\n",
    "    print(\"Systems with giant planets: \"+str(kk-1))\n",
    "    print(\"%.1f percent of all planets are below 10 earth masses\" %(100.*len(dfter)/len(dff)))"
   ]
  },
  {
   "cell_type": "code",
   "execution_count": 20,
   "metadata": {
    "collapsed": false
   },
   "outputs": [],
   "source": [
    "dnpg=pd.read_csv('gt_no_pert.csv')\n",
    "dlpg=pd.read_csv('gt_lo_pert.csv')\n",
    "dhpg=pd.read_csv('gt_hi_pert.csv')\n"
   ]
  },
  {
   "cell_type": "code",
   "execution_count": 21,
   "metadata": {
    "collapsed": true
   },
   "outputs": [],
   "source": [
    "dnpt=pd.read_csv('tr_no_pert.csv')\n",
    "dlpt=pd.read_csv('tr_lo_pert.csv')\n",
    "dhpt=pd.read_csv('tr_hi_pert.csv')"
   ]
  },
  {
   "cell_type": "code",
   "execution_count": 22,
   "metadata": {
    "collapsed": false
   },
   "outputs": [],
   "source": [
    "filtern=dnpg.nplanets==1\n",
    "filterl=dlpg.nplanets==1\n",
    "filterh=dhpg.nplanets==1"
   ]
  },
  {
   "cell_type": "code",
   "execution_count": 25,
   "metadata": {
    "collapsed": false
   },
   "outputs": [
    {
     "data": {
      "text/plain": [
       "(array([ 145.,   41.,   33.,   30.,   25.,   10.,    7.,   10.,    3.,    1.]),\n",
       " array([  2.80487363e-04,   9.91217682e-02,   1.97963049e-01,\n",
       "          2.96804330e-01,   3.95645611e-01,   4.94486892e-01,\n",
       "          5.93328172e-01,   6.92169453e-01,   7.91010734e-01,\n",
       "          8.89852015e-01,   9.88693296e-01]),\n",
       " <a list of 10 Patch objects>)"
      ]
     },
     "execution_count": 25,
     "metadata": {},
     "output_type": "execute_result"
    },
    {
     "data": {
      "image/png": "[encoded data removed]",
      "text/plain": [
       "<matplotlib.figure.Figure at 0x7fb49528eda0>"
      ]
     },
     "metadata": {},
     "output_type": "display_data"
    }
   ],
   "source": [
    "plt.hist(dnpg.massefficiency[filtern])\n",
    "plt.hist(dlpg.massefficiency[filterl],alpha=0.5)\n",
    "plt.hist(dhpg.massefficiency[filterh],alpha=0.5)\n",
    "\n",
    "\n"
   ]
  },
  {
   "cell_type": "code",
   "execution_count": 26,
   "metadata": {
    "collapsed": false
   },
   "outputs": [
    {
     "data": {
      "text/plain": [
       "<matplotlib.collections.PathCollection at 0x7fb494e32b38>"
      ]
     },
     "execution_count": 26,
     "metadata": {},
     "output_type": "execute_result"
    },
    {
     "data": {
      "image/png": "[encoded data removed]",
      "text/plain": [
       "<matplotlib.figure.Figure at 0x7fb4952e5320>"
      ]
     },
     "metadata": {},
     "output_type": "display_data"
    }
   ],
   "source": [
    "plt.scatter(dnpg.nplanets,dnpg.massefficiency)"
   ]
  },
  {
   "cell_type": "code",
   "execution_count": 27,
   "metadata": {
    "collapsed": true
   },
   "outputs": [],
   "source": [
    "dnpg['logeff']=np.log10(dnpg.massefficiency)\n",
    "dlpg['logeff']=np.log10(dlpg.massefficiency)\n",
    "dhpg['logeff']=np.log10(dhpg.massefficiency)"
   ]
  },
  {
   "cell_type": "code",
   "execution_count": 28,
   "metadata": {
    "collapsed": false
   },
   "outputs": [
    {
     "data": {
      "image/png": "[encoded data removed]",
      "text/plain": [
       "<matplotlib.figure.Figure at 0x7fb495255f60>"
      ]
     },
     "metadata": {},
     "output_type": "display_data"
    },
    {
     "data": {
      "image/png": "[encoded data removed]",
      "text/plain": [
       "<matplotlib.figure.Figure at 0x7fb494d297b8>"
      ]
     },
     "metadata": {},
     "output_type": "display_data"
    },
    {
     "data": {
      "image/png": "[encoded data removed]",
      "text/plain": [
       "<matplotlib.figure.Figure at 0x7fb495255ba8>"
      ]
     },
     "metadata": {},
     "output_type": "display_data"
    }
   ],
   "source": [
    "ax=sns.jointplot(x=\"nplanets\", y=\"logeff\", data=dnpg,kind=\"kde\",stat_func=None,xlim=(0,4),ylim=(-4,0))\n",
    "ax=sns.jointplot(x=\"nplanets\", y=\"logeff\", data=dlpg,kind=\"kde\",stat_func=None,xlim=(0,4),ylim=(-4,0))\n",
    "ax=sns.jointplot(x=\"nplanets\", y=\"logeff\", data=dhpg,kind=\"kde\",stat_func=None,xlim=(0,4),ylim=(-4,0))"
   ]
  },
  {
   "cell_type": "code",
   "execution_count": 29,
   "metadata": {
    "collapsed": false
   },
   "outputs": [
    {
     "data": {
      "image/png": "[encoded data removed]",
      "text/plain": [
       "<matplotlib.figure.Figure at 0x7fb48cbe9e10>"
      ]
     },
     "metadata": {},
     "output_type": "display_data"
    },
    {
     "data": {
      "image/png": "[encoded data removed]",
      "text/plain": [
       "<matplotlib.figure.Figure at 0x7fb48cad05f8>"
      ]
     },
     "metadata": {},
     "output_type": "display_data"
    },
    {
     "data": {
      "image/png": "[encoded data removed]",
      "text/plain": [
       "<matplotlib.figure.Figure at 0x7fb48cbe9400>"
      ]
     },
     "metadata": {},
     "output_type": "display_data"
    }
   ],
   "source": [
    "ax=sns.jointplot(x=\"nplanets\", y=\"massefficiency\", data=dnpg,kind=\"kde\",stat_func=None,xlim=(0.5,3),ylim=(0,1))\n",
    "ax=sns.jointplot(x=\"nplanets\", y=\"massefficiency\", data=dlpg,kind=\"kde\",stat_func=None,xlim=(0.5,3),ylim=(0,1))\n",
    "ax=sns.jointplot(x=\"nplanets\", y=\"massefficiency\", data=dhpg,kind=\"kde\",stat_func=None,xlim=(0.5,3),ylim=(0,1))"
   ]
  },
  {
   "cell_type": "code",
   "execution_count": 30,
   "metadata": {
    "collapsed": true
   },
   "outputs": [],
   "source": [
    "dnpt['logeff']=np.log10(dnpt.massefficiency)\n",
    "dlpt['logeff']=np.log10(dlpt.massefficiency)\n",
    "dhpt['logeff']=np.log10(dhpt.massefficiency)"
   ]
  },
  {
   "cell_type": "code",
   "execution_count": 31,
   "metadata": {
    "collapsed": false
   },
   "outputs": [
    {
     "data": {
      "image/png": "[encoded data removed]",
      "text/plain": [
       "<matplotlib.figure.Figure at 0x7fb48cb89a58>"
      ]
     },
     "metadata": {},
     "output_type": "display_data"
    },
    {
     "data": {
      "image/png": "[encoded data removed]",
      "text/plain": [
       "<matplotlib.figure.Figure at 0x7fb48cb89c88>"
      ]
     },
     "metadata": {},
     "output_type": "display_data"
    },
    {
     "data": {
      "image/png": "[encoded data removed]",
      "text/plain": [
       "<matplotlib.figure.Figure at 0x7fb494cf1278>"
      ]
     },
     "metadata": {},
     "output_type": "display_data"
    }
   ],
   "source": [
    "ax=sns.jointplot(x=\"nplanets\", y=\"logeff\", data=dnpt,kind=\"kde\",stat_func=None,xlim=(0,35),ylim=(-4.5,-2.5))\n",
    "ax=sns.jointplot(x=\"nplanets\", y=\"logeff\", data=dlpt,kind=\"kde\",stat_func=None,xlim=(0,35),ylim=(-4.5,-2.5))\n",
    "ax=sns.jointplot(x=\"nplanets\", y=\"logeff\", data=dhpt,kind=\"kde\",stat_func=None,xlim=(0,35),ylim=(-4.5,-2.5))"
   ]
  },
  {
   "cell_type": "code",
   "execution_count": 32,
   "metadata": {
    "collapsed": true
   },
   "outputs": [],
   "source": [
    "x=dnpt.nplanets\n",
    "y=dnpt.logeff"
   ]
  },
  {
   "cell_type": "code",
   "execution_count": 33,
   "metadata": {
    "collapsed": false
   },
   "outputs": [
    {
     "name": "stderr",
     "output_type": "stream",
     "text": [
      "/home/ecci/miniconda3/envs/py3/lib/python3.6/site-packages/sklearn/cross_validation.py:44: DeprecationWarning: This module was deprecated in version 0.18 in favor of the model_selection module into which all the refactored classes and functions are moved. Also note that the interface of the new CV iterators are different from that of this module. This module will be removed in 0.20.\n",
      "  \"This module will be removed in 0.20.\", DeprecationWarning)\n",
      "/home/ecci/miniconda3/envs/py3/lib/python3.6/site-packages/sklearn/grid_search.py:43: DeprecationWarning: This module was deprecated in version 0.18 in favor of the model_selection module into which all the refactored classes and functions are moved. This module will be removed in 0.20.\n",
      "  DeprecationWarning)\n"
     ]
    }
   ],
   "source": [
    "from sklearn.neighbors import KernelDensity\n",
    "from sklearn.grid_search import GridSearchCV\n",
    "\n",
    "def uni_kde(x,y,tickno=5,nlev=30):\n",
    "    x_grid=np.around(np.arange(x.min(),x.max(),0.1),2)\n",
    "    y_grid=np.linspace(y.min(),y.max(),len(x_grid))\n",
    "    conv=(x.max()-x.min())/(y.max()-y.min())\n",
    "    yori=y\n",
    "    y=y*conv\n",
    "    y_grid=y_grid*conv\n",
    "    grid = GridSearchCV(KernelDensity(),\n",
    "                    {'bandwidth': np.linspace(x.min(),x.max()/10,30)},\n",
    "                    cv=20) # 20-fold cross-validation\n",
    "    grid.fit(np.vstack([x,y]).T)\n",
    "    print(grid.best_params_)\n",
    "    X, Y = np.meshgrid(x_grid, y_grid)\n",
    "    xy = np.vstack([X.ravel(), Y.ravel()]).T\n",
    "    kde2d = grid.best_estimator_\n",
    "    pdf2d = np.exp(kde2d.score_samples(xy)).reshape(X.shape)\n",
    "    plt.figure(figsize=(5,5))\n",
    "    levels = np.linspace(0, pdf2d.max(), nlev)\n",
    "    plt.contourf(X, Y, pdf2d, levels=levels, cmap=plt.cm.Reds)\n",
    "    tickno=5\n",
    "    old_ticks=np.linspace(y.max(), y.min(), tickno)\n",
    "    major_ticks = 10**np.linspace(yori.max(), yori.min(), tickno)\n",
    "    myticks=[]\n",
    "    for i in major_ticks:\n",
    "        myticks+=[\"%.e\"%i]\n",
    "    e=plt.yticks(old_ticks,myticks) "
   ]
  },
  {
   "cell_type": "code",
   "execution_count": 34,
   "metadata": {
    "collapsed": false
   },
   "outputs": [
    {
     "name": "stdout",
     "output_type": "stream",
     "text": [
      "{'bandwidth': 1.0862068965517242}\n"
     ]
    },
    {
     "data": {
      "image/png": "[encoded data removed]",
      "text/plain": [
       "<matplotlib.figure.Figure at 0x7fb48cb55978>"
      ]
     },
     "metadata": {},
     "output_type": "display_data"
    }
   ],
   "source": [
    "uni_kde(dnpt.nplanets,dnpt.logeff)"
   ]
  },
  {
   "cell_type": "code",
   "execution_count": 35,
   "metadata": {
    "collapsed": false
   },
   "outputs": [
    {
     "name": "stdout",
     "output_type": "stream",
     "text": [
      "{'bandwidth': 1.1793103448275861}\n"
     ]
    },
    {
     "data": {
      "image/png": "[encoded data removed]",
      "text/plain": [
       "<matplotlib.figure.Figure at 0x7fb48cbef4e0>"
      ]
     },
     "metadata": {},
     "output_type": "display_data"
    }
   ],
   "source": [
    "uni_kde(dlpt.nplanets,dlpt.logeff)"
   ]
  },
  {
   "cell_type": "code",
   "execution_count": 36,
   "metadata": {
    "collapsed": false
   },
   "outputs": [
    {
     "name": "stdout",
     "output_type": "stream",
     "text": [
      "{'bandwidth': 2.0}\n"
     ]
    },
    {
     "data": {
      "image/png": "[encoded data removed]",
      "text/plain": [
       "<matplotlib.figure.Figure at 0x7fb494ddfc88>"
      ]
     },
     "metadata": {},
     "output_type": "display_data"
    }
   ],
   "source": [
    "uni_kde(dhpt.nplanets,dhpt.logeff)"
   ]
  },
  {
   "cell_type": "code",
   "execution_count": 136,
   "metadata": {
    "collapsed": false,
    "scrolled": true
   },
   "outputs": [
    {
     "data": {
      "image/png": "[encoded data removed]",
      "text/plain": [
       "<matplotlib.figure.Figure at 0x7f61c6521c88>"
      ]
     },
     "metadata": {},
     "output_type": "display_data"
    }
   ],
   "source": [
    "plt.figure(figsize=(5,5))\n",
    "levels = np.linspace(0, pdf2d.max(), 30)\n",
    "plt.contourf(X, Y, pdf2d, levels=levels, cmap=plt.cm.Reds)\n",
    "tickno=5\n",
    "old_ticks=np.linspace(y.max(), y.min(), tickno)\n",
    "major_ticks = 10**np.linspace(yori.max(), yori.min(), tickno)\n",
    "myticks=[]\n",
    "for i in major_ticks:\n",
    "    myticks+=[\"%.e\"%i]\n",
    "e=plt.yticks(old_ticks,myticks) "
   ]
  },
  {
   "cell_type": "code",
   "execution_count": 37,
   "metadata": {
    "collapsed": false
   },
   "outputs": [
    {
     "data": {
      "text/html": [
       "<div>\n",
       "<table border=\"1\" class=\"dataframe\">\n",
       "  <thead>\n",
       "    <tr style=\"text-align: right;\">\n",
       "      <th></th>\n",
       "      <th>Unnamed: 0</th>\n",
       "      <th>ident</th>\n",
       "      <th>com</th>\n",
       "      <th>nplanets</th>\n",
       "      <th>massbudget</th>\n",
       "      <th>massefficiency</th>\n",
       "      <th>sigmag0</th>\n",
       "      <th>md</th>\n",
       "      <th>rc</th>\n",
       "      <th>ms</th>\n",
       "      <th>metal</th>\n",
       "      <th>taugas</th>\n",
       "      <th>logeff</th>\n",
       "    </tr>\n",
       "  </thead>\n",
       "  <tbody>\n",
       "    <tr>\n",
       "      <th>0</th>\n",
       "      <td>0</td>\n",
       "      <td>1.0</td>\n",
       "      <td>0.035424</td>\n",
       "      <td>1.0</td>\n",
       "      <td>79.227440</td>\n",
       "      <td>0.001320</td>\n",
       "      <td>158.835559</td>\n",
       "      <td>0.180</td>\n",
       "      <td>40.040195</td>\n",
       "      <td>1.425386e+33</td>\n",
       "      <td>-0.092791</td>\n",
       "      <td>3525593.500</td>\n",
       "      <td>-2.879276</td>\n",
       "    </tr>\n",
       "    <tr>\n",
       "      <th>1</th>\n",
       "      <td>1</td>\n",
       "      <td>3.0</td>\n",
       "      <td>1.074297</td>\n",
       "      <td>4.0</td>\n",
       "      <td>10758.305004</td>\n",
       "      <td>0.576338</td>\n",
       "      <td>90.793337</td>\n",
       "      <td>0.056</td>\n",
       "      <td>29.539343</td>\n",
       "      <td>1.760227e+33</td>\n",
       "      <td>0.328146</td>\n",
       "      <td>1644710.625</td>\n",
       "      <td>-0.239323</td>\n",
       "    </tr>\n",
       "    <tr>\n",
       "      <th>2</th>\n",
       "      <td>2</td>\n",
       "      <td>6.0</td>\n",
       "      <td>0.061043</td>\n",
       "      <td>1.0</td>\n",
       "      <td>2392.571270</td>\n",
       "      <td>0.059814</td>\n",
       "      <td>75.740878</td>\n",
       "      <td>0.120</td>\n",
       "      <td>47.343380</td>\n",
       "      <td>1.723190e+33</td>\n",
       "      <td>0.021273</td>\n",
       "      <td>1790533.125</td>\n",
       "      <td>-1.223195</td>\n",
       "    </tr>\n",
       "    <tr>\n",
       "      <th>3</th>\n",
       "      <td>3</td>\n",
       "      <td>7.0</td>\n",
       "      <td>1.324572</td>\n",
       "      <td>1.0</td>\n",
       "      <td>3988.447183</td>\n",
       "      <td>0.066474</td>\n",
       "      <td>139.408777</td>\n",
       "      <td>0.180</td>\n",
       "      <td>42.739063</td>\n",
       "      <td>1.684423e+33</td>\n",
       "      <td>-0.092571</td>\n",
       "      <td>2721394.750</td>\n",
       "      <td>-1.177347</td>\n",
       "    </tr>\n",
       "    <tr>\n",
       "      <th>4</th>\n",
       "      <td>4</td>\n",
       "      <td>13.0</td>\n",
       "      <td>0.123937</td>\n",
       "      <td>1.0</td>\n",
       "      <td>2891.237088</td>\n",
       "      <td>0.051022</td>\n",
       "      <td>178.830700</td>\n",
       "      <td>0.170</td>\n",
       "      <td>36.672222</td>\n",
       "      <td>2.412890e+33</td>\n",
       "      <td>-0.174039</td>\n",
       "      <td>3956707.500</td>\n",
       "      <td>-1.292244</td>\n",
       "    </tr>\n",
       "  </tbody>\n",
       "</table>\n",
       "</div>"
      ],
      "text/plain": [
       "   Unnamed: 0  ident       com  nplanets    massbudget  massefficiency  \\\n",
       "0           0    1.0  0.035424       1.0     79.227440        0.001320   \n",
       "1           1    3.0  1.074297       4.0  10758.305004        0.576338   \n",
       "2           2    6.0  0.061043       1.0   2392.571270        0.059814   \n",
       "3           3    7.0  1.324572       1.0   3988.447183        0.066474   \n",
       "4           4   13.0  0.123937       1.0   2891.237088        0.051022   \n",
       "\n",
       "      sigmag0     md         rc            ms     metal       taugas    logeff  \n",
       "0  158.835559  0.180  40.040195  1.425386e+33 -0.092791  3525593.500 -2.879276  \n",
       "1   90.793337  0.056  29.539343  1.760227e+33  0.328146  1644710.625 -0.239323  \n",
       "2   75.740878  0.120  47.343380  1.723190e+33  0.021273  1790533.125 -1.223195  \n",
       "3  139.408777  0.180  42.739063  1.684423e+33 -0.092571  2721394.750 -1.177347  \n",
       "4  178.830700  0.170  36.672222  2.412890e+33 -0.174039  3956707.500 -1.292244  "
      ]
     },
     "execution_count": 37,
     "metadata": {},
     "output_type": "execute_result"
    }
   ],
   "source": [
    "dnpg.head()"
   ]
  },
  {
   "cell_type": "code",
   "execution_count": 38,
   "metadata": {
    "collapsed": false
   },
   "outputs": [
    {
     "data": {
      "image/png": "[encoded data removed]",
      "text/plain": [
       "<matplotlib.figure.Figure at 0x7fb476c58978>"
      ]
     },
     "metadata": {},
     "output_type": "display_data"
    }
   ],
   "source": [
    "ax=sns.jointplot(x=\"sigmag0\", y=\"massefficiency\", data=dnpg,kind=\"kde\",stat_func=None)"
   ]
  },
  {
   "cell_type": "code",
   "execution_count": 39,
   "metadata": {
    "collapsed": false
   },
   "outputs": [
    {
     "data": {
      "image/png": "[encoded data removed]",
      "text/plain": [
       "<matplotlib.figure.Figure at 0x7fb48c8df3c8>"
      ]
     },
     "metadata": {},
     "output_type": "display_data"
    }
   ],
   "source": [
    "ax=sns.jointplot(x=\"massbudget\", y=\"metal\", data=dnpg,kind=\"kde\",stat_func=None)"
   ]
  },
  {
   "cell_type": "code",
   "execution_count": 40,
   "metadata": {
    "collapsed": false
   },
   "outputs": [
    {
     "data": {
      "image/png": "[encoded data removed]",
      "text/plain": [
       "<matplotlib.figure.Figure at 0x7fb48ca9b860>"
      ]
     },
     "metadata": {},
     "output_type": "display_data"
    }
   ],
   "source": [
    "ax=sns.jointplot(x=\"sigmag0\", y=\"metal\", data=dnpg,kind=\"kde\",stat_func=None)"
   ]
  },
  {
   "cell_type": "code",
   "execution_count": 41,
   "metadata": {
    "collapsed": false
   },
   "outputs": [],
   "source": [
    "common=dnpt.ident[np.in1d(dnpt.ident,dnpg.ident)]"
   ]
  },
  {
   "cell_type": "code",
   "execution_count": 42,
   "metadata": {
    "collapsed": false
   },
   "outputs": [],
   "source": [
    "te=dnpt[np.in1d(dnpt.ident,common)]\n",
    "gi=dnpg[np.in1d(dnpg.ident,common)]"
   ]
  },
  {
   "cell_type": "code",
   "execution_count": 43,
   "metadata": {
    "collapsed": false
   },
   "outputs": [
    {
     "data": {
      "text/html": [
       "<div>\n",
       "<table border=\"1\" class=\"dataframe\">\n",
       "  <thead>\n",
       "    <tr style=\"text-align: right;\">\n",
       "      <th></th>\n",
       "      <th>Unnamed: 0</th>\n",
       "      <th>ident</th>\n",
       "      <th>com</th>\n",
       "      <th>nplanets</th>\n",
       "      <th>massbudget</th>\n",
       "      <th>massefficiency</th>\n",
       "      <th>sigmag0</th>\n",
       "      <th>md</th>\n",
       "      <th>rc</th>\n",
       "      <th>ms</th>\n",
       "      <th>metal</th>\n",
       "      <th>taugas</th>\n",
       "      <th>logeff</th>\n",
       "    </tr>\n",
       "  </thead>\n",
       "  <tbody>\n",
       "    <tr>\n",
       "      <th>0</th>\n",
       "      <td>0</td>\n",
       "      <td>1.0</td>\n",
       "      <td>0.035424</td>\n",
       "      <td>1.0</td>\n",
       "      <td>79.227440</td>\n",
       "      <td>0.001320</td>\n",
       "      <td>158.835559</td>\n",
       "      <td>0.180</td>\n",
       "      <td>40.040195</td>\n",
       "      <td>1.425386e+33</td>\n",
       "      <td>-0.092791</td>\n",
       "      <td>3525593.500</td>\n",
       "      <td>-2.879276</td>\n",
       "    </tr>\n",
       "    <tr>\n",
       "      <th>1</th>\n",
       "      <td>1</td>\n",
       "      <td>3.0</td>\n",
       "      <td>1.074297</td>\n",
       "      <td>4.0</td>\n",
       "      <td>10758.305004</td>\n",
       "      <td>0.576338</td>\n",
       "      <td>90.793337</td>\n",
       "      <td>0.056</td>\n",
       "      <td>29.539343</td>\n",
       "      <td>1.760227e+33</td>\n",
       "      <td>0.328146</td>\n",
       "      <td>1644710.625</td>\n",
       "      <td>-0.239323</td>\n",
       "    </tr>\n",
       "    <tr>\n",
       "      <th>2</th>\n",
       "      <td>2</td>\n",
       "      <td>6.0</td>\n",
       "      <td>0.061043</td>\n",
       "      <td>1.0</td>\n",
       "      <td>2392.571270</td>\n",
       "      <td>0.059814</td>\n",
       "      <td>75.740878</td>\n",
       "      <td>0.120</td>\n",
       "      <td>47.343380</td>\n",
       "      <td>1.723190e+33</td>\n",
       "      <td>0.021273</td>\n",
       "      <td>1790533.125</td>\n",
       "      <td>-1.223195</td>\n",
       "    </tr>\n",
       "    <tr>\n",
       "      <th>3</th>\n",
       "      <td>3</td>\n",
       "      <td>7.0</td>\n",
       "      <td>1.324572</td>\n",
       "      <td>1.0</td>\n",
       "      <td>3988.447183</td>\n",
       "      <td>0.066474</td>\n",
       "      <td>139.408777</td>\n",
       "      <td>0.180</td>\n",
       "      <td>42.739063</td>\n",
       "      <td>1.684423e+33</td>\n",
       "      <td>-0.092571</td>\n",
       "      <td>2721394.750</td>\n",
       "      <td>-1.177347</td>\n",
       "    </tr>\n",
       "    <tr>\n",
       "      <th>4</th>\n",
       "      <td>4</td>\n",
       "      <td>13.0</td>\n",
       "      <td>0.123937</td>\n",
       "      <td>1.0</td>\n",
       "      <td>2891.237088</td>\n",
       "      <td>0.051022</td>\n",
       "      <td>178.830700</td>\n",
       "      <td>0.170</td>\n",
       "      <td>36.672222</td>\n",
       "      <td>2.412890e+33</td>\n",
       "      <td>-0.174039</td>\n",
       "      <td>3956707.500</td>\n",
       "      <td>-1.292244</td>\n",
       "    </tr>\n",
       "  </tbody>\n",
       "</table>\n",
       "</div>"
      ],
      "text/plain": [
       "   Unnamed: 0  ident       com  nplanets    massbudget  massefficiency  \\\n",
       "0           0    1.0  0.035424       1.0     79.227440        0.001320   \n",
       "1           1    3.0  1.074297       4.0  10758.305004        0.576338   \n",
       "2           2    6.0  0.061043       1.0   2392.571270        0.059814   \n",
       "3           3    7.0  1.324572       1.0   3988.447183        0.066474   \n",
       "4           4   13.0  0.123937       1.0   2891.237088        0.051022   \n",
       "\n",
       "      sigmag0     md         rc            ms     metal       taugas    logeff  \n",
       "0  158.835559  0.180  40.040195  1.425386e+33 -0.092791  3525593.500 -2.879276  \n",
       "1   90.793337  0.056  29.539343  1.760227e+33  0.328146  1644710.625 -0.239323  \n",
       "2   75.740878  0.120  47.343380  1.723190e+33  0.021273  1790533.125 -1.223195  \n",
       "3  139.408777  0.180  42.739063  1.684423e+33 -0.092571  2721394.750 -1.177347  \n",
       "4  178.830700  0.170  36.672222  2.412890e+33 -0.174039  3956707.500 -1.292244  "
      ]
     },
     "execution_count": 43,
     "metadata": {},
     "output_type": "execute_result"
    }
   ],
   "source": [
    "gi.head()"
   ]
  },
  {
   "cell_type": "code",
   "execution_count": 44,
   "metadata": {
    "collapsed": false
   },
   "outputs": [],
   "source": [
    "tmb=[]\n",
    "tnp=[]\n",
    "for i,j,k,l in zip(gi.massbudget,te.massbudget,gi.nplanets,te.nplanets):\n",
    "    tmb+=[i+j]\n",
    "    tnp+=[k+l]\n",
    "tmb=np.array(tmb)\n",
    "tnp=np.array(tnp)"
   ]
  },
  {
   "cell_type": "code",
   "execution_count": 45,
   "metadata": {
    "collapsed": true
   },
   "outputs": [],
   "source": [
    "dfer=pd.DataFrame({'x' : tnp, 'y': np.log10(tmb)})"
   ]
  },
  {
   "cell_type": "code",
   "execution_count": 46,
   "metadata": {
    "collapsed": false
   },
   "outputs": [
    {
     "data": {
      "image/png": "[encoded data removed]",
      "text/plain": [
       "<matplotlib.figure.Figure at 0x7fb48c8d9908>"
      ]
     },
     "metadata": {},
     "output_type": "display_data"
    }
   ],
   "source": [
    "ax=sns.jointplot(x=\"x\", y=\"y\", data=dfer,kind=\"kde\",stat_func=None)"
   ]
  },
  {
   "cell_type": "code",
   "execution_count": null,
   "metadata": {
    "collapsed": true
   },
   "outputs": [],
   "source": []
  }
 ],
 "metadata": {
  "kernelspec": {
   "display_name": "Python 3",
   "language": "python",
   "name": "python3"
  },
  "language_info": {
   "codemirror_mode": {
    "name": "ipython",
    "version": 3
   },
   "file_extension": ".py",
   "mimetype": "text/x-python",
   "name": "python",
   "nbconvert_exporter": "python",
   "pygments_lexer": "ipython3",
   "version": "3.6.1"
  }
 },
 "nbformat": 4,
 "nbformat_minor": 2
}
