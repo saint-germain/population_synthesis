{
 "cells": [
  {
   "cell_type": "code",
   "execution_count": 2,
   "metadata": {},
   "outputs": [],
   "source": [
    "import pandas as pd\n",
    "import numpy as np\n",
    "import matplotlib.pyplot as plt\n",
    "%matplotlib inline"
   ]
  },
  {
   "cell_type": "code",
   "execution_count": 3,
   "metadata": {},
   "outputs": [],
   "source": [
    "nsims=1000"
   ]
  },
  {
   "cell_type": "code",
   "execution_count": 40,
   "metadata": {},
   "outputs": [],
   "source": [
    "np.random.seed(0) \n",
    "# disk mass\n",
    "mu_md, sigma_md = -2.05, 0.85 # mean and standard deviation\n",
    "s_md = np.random.lognormal(mu_md, sigma_md, nsims)\n",
    "\n",
    "# characteristic radius\n",
    "mu_rc, sigma_rc = 3.8, 0.18 # mean and standard deviation\n",
    "s_rc = np.random.lognormal(mu_rc, sigma_rc, nsims)\n",
    "\n",
    "# stellar mass\n",
    "s_ms_log = np.random.uniform(np.log10(0.01),np.log10(2),nsims)\n",
    "s_ms=10**s_ms_log\n",
    "\n",
    "# tau gas\n",
    "s_tg_log = np.random.uniform(6,7,nsims)\n",
    "s_tg=10**s_tg_log\n",
    "\n",
    "# metallicity\n",
    "mu_mt, sigma_mt = -0.02, 0.22 # mean and standard deviation\n",
    "s_mt = np.random.normal(mu_mt, sigma_mt, nsims)"
   ]
  },
  {
   "cell_type": "code",
   "execution_count": 41,
   "metadata": {},
   "outputs": [],
   "source": [
    "gamma=1"
   ]
  },
  {
   "cell_type": "code",
   "execution_count": 42,
   "metadata": {},
   "outputs": [],
   "source": [
    "amin=s_rc*((7./4.-gamma)/(2.-gamma))**(1./(2.-gamma))\n",
    "sigmag=(2.-gamma)*s_md*2.e33/(2.*np.pi*(s_rc*1.5e13)**2.)\n",
    "q=1.24e5*(amin**(gamma-7./4.))*(s_rc**(-gamma))*(s_ms)*np.exp((amin/s_rc)**(2.-gamma))/sigmag"
   ]
  },
  {
   "cell_type": "code",
   "execution_count": 45,
   "metadata": {},
   "outputs": [],
   "source": [
    "filterq=q>1"
   ]
  },
  {
   "cell_type": "code",
   "execution_count": 46,
   "metadata": {},
   "outputs": [],
   "source": [
    "filtermd=(s_md/s_ms)<0.2"
   ]
  },
  {
   "cell_type": "code",
   "execution_count": 48,
   "metadata": {},
   "outputs": [],
   "source": [
    "filter=filterq&filtermd"
   ]
  },
  {
   "cell_type": "code",
   "execution_count": 49,
   "metadata": {},
   "outputs": [
    {
     "data": {
      "text/plain": [
       "<matplotlib.collections.PathCollection at 0x7f09366eb828>"
      ]
     },
     "execution_count": 49,
     "metadata": {},
     "output_type": "execute_result"
    },
    {
     "data": {
      "image/png": "[encoded data removed]",
      "text/plain": [
       "<matplotlib.figure.Figure at 0x7f09368778d0>"
      ]
     },
     "metadata": {},
     "output_type": "display_data"
    }
   ],
   "source": [
    "plt.scatter(s_ms[filter],s_md[filter])"
   ]
  },
  {
   "cell_type": "code",
   "execution_count": 50,
   "metadata": {},
   "outputs": [],
   "source": [
    "data=np.vstack((s_md,s_rc,s_ms,s_mt,s_tg)).T[filter]"
   ]
  },
  {
   "cell_type": "code",
   "execution_count": 54,
   "metadata": {},
   "outputs": [],
   "source": [
    "df=pd.DataFrame(data=data,columns=[\"md\",\"ac\",\"ms\",\"metal\",\"tgas\"])"
   ]
  },
  {
   "cell_type": "code",
   "execution_count": 62,
   "metadata": {
    "scrolled": true
   },
   "outputs": [],
   "source": [
    "df['gama']=1\n",
    "df['cmigI']=0.1\n",
    "df['Apert']=0 \n",
    "df['Fpert']=1\n",
    "df['Tfin']=2.1e7\n",
    "df['Verb']=False"
   ]
  },
  {
   "cell_type": "code",
   "execution_count": 65,
   "metadata": {},
   "outputs": [],
   "source": [
    "df.to_csv(\"parameters_ep.in\") # estrellas pequeñas"
   ]
  },
  {
   "cell_type": "code",
   "execution_count": null,
   "metadata": {},
   "outputs": [],
   "source": []
  }
 ],
 "metadata": {
  "kernelspec": {
   "display_name": "Python 3",
   "language": "python",
   "name": "python3"
  },
  "language_info": {
   "codemirror_mode": {
    "name": "ipython",
    "version": 3
   },
   "file_extension": ".py",
   "mimetype": "text/x-python",
   "name": "python",
   "nbconvert_exporter": "python",
   "pygments_lexer": "ipython3",
   "version": "3.6.1"
  }
 },
 "nbformat": 4,
 "nbformat_minor": 2
}
